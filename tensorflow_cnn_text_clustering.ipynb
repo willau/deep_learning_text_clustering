{
 "cells": [
  {
   "cell_type": "markdown",
   "metadata": {},
   "source": [
    "# Text clustering using CNN "
   ]
  },
  {
   "cell_type": "markdown",
   "metadata": {},
   "source": [
    "### Import module"
   ]
  },
  {
   "cell_type": "code",
   "execution_count": 1,
   "metadata": {
    "code_folding": []
   },
   "outputs": [
    {
     "name": "stderr",
     "output_type": "stream",
     "text": [
      "Using TensorFlow backend.\n"
     ]
    }
   ],
   "source": [
    "# modules\n",
    "import os\n",
    "import numpy as np\n",
    "import tensorflow as tf\n",
    "from tensorflow.contrib.tensorboard.plugins import projector\n",
    "from tqdm import tqdm_notebook\n",
    "from matplotlib import pyplot as plt\n",
    "from sklearn.model_selection import train_test_split\n",
    "from sklearn.decomposition import TruncatedSVD\n",
    "from sklearn.feature_extraction.text import TfidfVectorizer\n",
    "from sklearn.preprocessing import normalize\n",
    "from utils import target\n",
    "\n",
    "# created own library for dealing with embedding\n",
    "from utils.embedding import Embeddor\n",
    "\n",
    "LOGDIR = './tensorflow_summaries'\n",
    "DATADIR = './data/short_texts'\n",
    "\n",
    "plt.style.use(\"ggplot\")\n",
    "%matplotlib inline"
   ]
  },
  {
   "cell_type": "markdown",
   "metadata": {},
   "source": [
    "### Load short texts dataset"
   ]
  },
  {
   "cell_type": "code",
   "execution_count": 2,
   "metadata": {
    "collapsed": true
   },
   "outputs": [],
   "source": [
    "path_data = os.path.join(DATADIR, \"StackOverflow.txt\")\n",
    "path_label = os.path.join(DATADIR, \"StackOverflow_gnd.txt\")"
   ]
  },
  {
   "cell_type": "code",
   "execution_count": 3,
   "metadata": {},
   "outputs": [
    {
     "name": "stdout",
     "output_type": "stream",
     "text": [
      "There is 20000 short texts\n",
      "Labels:  [ 0  1  2  3  4  5  6  7  8  9 10 11 12 13 14 15 16 17 18 19]\n",
      "There is 20 clusters\n"
     ]
    }
   ],
   "source": [
    "short_texts = list()\n",
    "labels = list()\n",
    "\n",
    "with open(path_data, 'r') as f:\n",
    "    n = 0\n",
    "    for line in f:\n",
    "        n += 1\n",
    "        short_texts.append(line.rstrip('\\n').lower())\n",
    "        \n",
    "with open(path_label, 'r') as f:\n",
    "    for line in f:\n",
    "        labels.append(int(line.rstrip('\\n')) - 1)\n",
    "        \n",
    "print(\"There is %d short texts\" % n)\n",
    "unique_labels =  np.unique(labels)\n",
    "print(\"Labels: \", unique_labels)\n",
    "n_clusters = len(unique_labels)\n",
    "print(\"There is %d clusters\" % n_clusters)"
   ]
  },
  {
   "cell_type": "markdown",
   "metadata": {},
   "source": [
    "### Load embeddings"
   ]
  },
  {
   "cell_type": "code",
   "execution_count": 4,
   "metadata": {},
   "outputs": [
    {
     "name": "stdout",
     "output_type": "stream",
     "text": [
      "Embedding: fasttext.wiki.en.vec\n"
     ]
    },
    {
     "data": {
      "application/vnd.jupyter.widget-view+json": {
       "model_id": "72d9c2c8afa54183a692eceedb8a5afd"
      }
     },
     "metadata": {},
     "output_type": "display_data"
    },
    {
     "name": "stdout",
     "output_type": "stream",
     "text": [
      "\n",
      "Embedding shape: (300001, 300)\n",
      "CPU times: user 27.9 s, sys: 1.83 s, total: 29.7 s\n",
      "Wall time: 28 s\n"
     ]
    }
   ],
   "source": [
    "%%time\n",
    "\n",
    "# parameters\n",
    "n_emb = int(3 * 1e5)\n",
    "src = \"./embeddings\"\n",
    "emb_name = os.listdir(src)[-1]\n",
    "print(\"Embedding: %s\" % emb_name)\n",
    "src_emb = os.path.join(src, emb_name)\n",
    "\n",
    "# embeddor\n",
    "embeddor = Embeddor(notebook_display=True)\n",
    "emb_mat = embeddor.load_emb(src_emb, n_emb)\n",
    "print(\"Embedding shape: {}\".format(emb_mat.shape))"
   ]
  },
  {
   "cell_type": "markdown",
   "metadata": {},
   "source": [
    "### Create targets"
   ]
  },
  {
   "cell_type": "markdown",
   "metadata": {},
   "source": [
    "#### LSA features"
   ]
  },
  {
   "cell_type": "code",
   "execution_count": 5,
   "metadata": {},
   "outputs": [
    {
     "name": "stdout",
     "output_type": "stream",
     "text": [
      "20000 20\n"
     ]
    }
   ],
   "source": [
    "tfidf_vectors = TfidfVectorizer(ngram_range=(1, 1)).fit_transform(short_texts)\n",
    "norm_vectors = normalize(tfidf_vectors)\n",
    "lsa_vectors = TruncatedSVD(n_components=20).fit_transform(norm_vectors)\n",
    "n, d = lsa_vectors.shape\n",
    "print(n, d)"
   ]
  },
  {
   "cell_type": "markdown",
   "metadata": {},
   "source": [
    "#### Subsampling because spectral embedding is too slow"
   ]
  },
  {
   "cell_type": "code",
   "execution_count": 6,
   "metadata": {
    "collapsed": true
   },
   "outputs": [],
   "source": [
    "# random sampling of index\n",
    "np.random.seed(10)\n",
    "n_subset = 5000\n",
    "idxs = np.random.randint(0, n, (n_subset,))\n",
    "\n",
    "# indexing dataset \n",
    "lsa_subset = lsa_vectors[idxs]\n",
    "labels_subset = [labels[i] for i in idxs]\n",
    "short_texts_subset = [short_texts[i] for i in idxs]"
   ]
  },
  {
   "cell_type": "markdown",
   "metadata": {},
   "source": [
    "#### Laplacian Eigenmaps"
   ]
  },
  {
   "cell_type": "code",
   "execution_count": 7,
   "metadata": {},
   "outputs": [
    {
     "name": "stdout",
     "output_type": "stream",
     "text": [
      "Fitting nearest neighbors\n",
      "Creation of affinity matrix\n",
      "Creation of heat kernel affinity matrix\n",
      "Spectral embedding\n",
      "CPU times: user 51.9 s, sys: 552 ms, total: 52.4 s\n",
      "Wall time: 7.02 s\n"
     ]
    }
   ],
   "source": [
    "%%time\n",
    "eigen_vectors = target.laplacian_eigenmaps(lsa_subset, n_neighbors=20, subdim=20, n_jobs=10)"
   ]
  },
  {
   "cell_type": "markdown",
   "metadata": {},
   "source": [
    " #### Binarize target vectors"
   ]
  },
  {
   "cell_type": "code",
   "execution_count": 8,
   "metadata": {
    "collapsed": true
   },
   "outputs": [],
   "source": [
    "targets = target.binarize(eigen_vectors)"
   ]
  },
  {
   "cell_type": "markdown",
   "metadata": {},
   "source": [
    "### CNN helper functions "
   ]
  },
  {
   "cell_type": "markdown",
   "metadata": {},
   "source": [
    "#### TensorFlow functions"
   ]
  },
  {
   "cell_type": "code",
   "execution_count": 9,
   "metadata": {
    "collapsed": true
   },
   "outputs": [],
   "source": [
    "# height-wise convolution\n",
    "def apply_conv1d(x, filter_size, stride, out_size, bias=True, wide=True):\n",
    "    if wide:\n",
    "        pad_size = filter_size - 1\n",
    "        paddings = [[0, 0], [pad_size, pad_size], [0, 0], [0, 0]]\n",
    "        x = tf.pad(x, paddings=paddings)\n",
    "    width = x.get_shape().as_list()[2]\n",
    "    filter_shape = [filter_size, width, 1, out_size]\n",
    "    W = tf.Variable(tf.truncated_normal(filter_shape, stddev=0.1), name='W')\n",
    "    conv = tf.nn.conv2d(x, \n",
    "                        W, \n",
    "                        strides=[1, stride, 1, 1], \n",
    "                        padding='VALID',\n",
    "                        data_format='NHWC',\n",
    "                        name='conv1d')\n",
    "    if bias:\n",
    "        b = tf.Variable(tf.constant(0.1, shape=[out_size]), name='b')\n",
    "        conv = tf.nn.bias_add(conv, b)\n",
    "    return conv\n",
    "\n",
    "def apply_one_max_pool1d(x):\n",
    "    height = x.get_shape().as_list()[1]\n",
    "    return tf.nn.max_pool(x,\n",
    "                          ksize=[1, height, 1, 1], \n",
    "                          strides=[1, 1, 1, 1],\n",
    "                          padding='VALID', \n",
    "                          name='one_max_pool')\n",
    "\n",
    "def apply_flatten(x):\n",
    "    shape = x.get_shape().as_list()\n",
    "    out_size = 1\n",
    "    for dim in shape[1:]:\n",
    "        out_size *= dim\n",
    "    return tf.reshape(x, [-1, out_size], name='flatten')\n",
    "\n",
    "def apply_fully_connected(x, out_size):\n",
    "    in_size = x.get_shape().as_list()[-1]\n",
    "    W = tf.Variable(\n",
    "        tf.truncated_normal(\n",
    "            [in_size, out_size], stddev=0.1 ),\n",
    "        name=\"weights\"\n",
    "    )\n",
    "    b = tf.Variable(tf.constant(0.1, shape=[out_size]), name=\"biases\")\n",
    "    return tf.nn.xw_plus_b(x, W, b, name=\"fully_connected_layer\")"
   ]
  },
  {
   "cell_type": "markdown",
   "metadata": {},
   "source": [
    "#### TensorBoard helper functions"
   ]
  },
  {
   "cell_type": "code",
   "execution_count": 10,
   "metadata": {
    "collapsed": true
   },
   "outputs": [],
   "source": [
    "def variable_summaries(var, scope='summaries'):\n",
    "    with tf.name_scope(scope):\n",
    "        mean = tf.reduce_mean(var)\n",
    "        tf.summary.scalar('mean', mean)\n",
    "        with tf.name_scope('stddev'):\n",
    "            stddev = tf.sqrt(tf.reduce_mean(tf.square(var - mean)))\n",
    "        tf.summary.scalar('stddev', stddev)\n",
    "        tf.summary.scalar('max', tf.reduce_max(var))\n",
    "        tf.summary.scalar('min', tf.reduce_min(var))\n",
    "        tf.summary.histogram('histogram', var)"
   ]
  },
  {
   "cell_type": "markdown",
   "metadata": {},
   "source": [
    "### CNN hyper-parameters"
   ]
  },
  {
   "cell_type": "code",
   "execution_count": 11,
   "metadata": {
    "collapsed": true
   },
   "outputs": [],
   "source": [
    "emb_mat = embeddor.emb\n",
    "emb_shape = np.shape(emb_mat)\n",
    "emb_size = emb_shape[1]\n",
    "x_seq = embeddor.to_seq(short_texts_subset, padding=True)\n",
    "y_seq = targets\n",
    "seq_size = embeddor.pad_dim\n",
    "filter_size = 7\n",
    "num_filters = 300\n",
    "targets_size = np.shape(targets)[1]\n",
    "tsne_sample_size = n_subset\n",
    "trainable=True"
   ]
  },
  {
   "cell_type": "markdown",
   "metadata": {},
   "source": [
    "### CNN graph architecture"
   ]
  },
  {
   "cell_type": "code",
   "execution_count": 12,
   "metadata": {},
   "outputs": [
    {
     "name": "stdout",
     "output_type": "stream",
     "text": [
      "CPU times: user 344 ms, sys: 0 ns, total: 344 ms\n",
      "Wall time: 343 ms\n"
     ]
    }
   ],
   "source": [
    "%%time\n",
    "# reset graph\n",
    "tf.reset_default_graph()\n",
    "\n",
    "# placeholders\n",
    "x_input = tf.placeholder(tf.int32, shape=[None, seq_size], name='x_input')\n",
    "y_input = tf.placeholder(tf.float32, shape=[None, targets_size], name='y_input')\n",
    "e_input = tf.placeholder(tf.float32, shape=emb_shape, name='e_input')\n",
    "keep_prob = tf.placeholder(tf.float32, name='dropout_keep_prob')\n",
    "\n",
    "with tf.device(\"/cpu:0\"):\n",
    "    \n",
    "    with tf.name_scope(\"embedding\"):\n",
    "        E = tf.Variable(tf.constant(0.0, shape=emb_shape), trainable=trainable, name=\"embedding\")\n",
    "        emb_init = E.assign(e_input)\n",
    "        emb_seq = tf.nn.embedding_lookup(E, x_input)\n",
    "        emb_seq_expanded = tf.expand_dims(emb_seq, -1)\n",
    "        \n",
    "    with tf.name_scope(\"conv1\"):\n",
    "        conv = apply_conv1d(emb_seq_expanded, filter_size, 1, 300, bias=True, wide=True)\n",
    "        h = tf.nn.relu(conv, name='relu')\n",
    "        h_pool = apply_one_max_pool1d(h)\n",
    "        h_flat = apply_flatten(h_pool)\n",
    "        variable_summaries(h_flat, \"h_flat\")\n",
    "        \n",
    "    with tf.name_scope(\"embedding\"):\n",
    "        embedding_input = h_flat\n",
    "        \n",
    "    with tf.name_scope(\"dropout1\"):\n",
    "        h_out = tf.nn.dropout(h_flat, keep_prob)\n",
    "        \n",
    "    with tf.name_scope(\"fc1\"):\n",
    "        scores = apply_fully_connected(h_out, targets_size)\n",
    "        preds = tf.nn.sigmoid(scores, name='preds')\n",
    "        \n",
    "    with tf.name_scope(\"loss\"):\n",
    "        losses = tf.nn.sigmoid_cross_entropy_with_logits(\n",
    "            logits=scores,\n",
    "            labels=y_input,\n",
    "            name='losses')\n",
    "        loss = tf.reduce_mean(losses, name='loss')\n",
    "        tf.summary.scalar('loss', loss)\n",
    "        \n",
    "    with tf.name_scope(\"mse\"):\n",
    "        squared_errors = tf.squared_difference(preds, y_input)\n",
    "        mse_op = tf.sqrt(tf.reduce_mean(squared_errors), name='mse')\n",
    "    \n",
    "    with tf.name_scope(\"optimization\"):\n",
    "        optimizer = tf.train.AdamOptimizer()\n",
    "        train_op = optimizer.minimize(loss)\n",
    "        \n",
    "    # embedding\n",
    "    embedding = tf.Variable(tf.zeros([tsne_sample_size, num_filters]), name=\"embedding\")\n",
    "    assignment = embedding.assign(embedding_input)\n",
    "    saver = tf.train.Saver()\n",
    "    \n",
    "    # summary\n",
    "    merged = tf.summary.merge_all()\n",
    "    \n",
    "    # initialization\n",
    "    init = tf.global_variables_initializer()"
   ]
  },
  {
   "cell_type": "markdown",
   "metadata": {},
   "source": [
    "#### Testing specific layer"
   ]
  },
  {
   "cell_type": "code",
   "execution_count": 13,
   "metadata": {},
   "outputs": [
    {
     "name": "stdout",
     "output_type": "stream",
     "text": [
      "CPU times: user 490 ms, sys: 341 ms, total: 831 ms\n",
      "Wall time: 556 ms\n"
     ]
    }
   ],
   "source": [
    "%%time\n",
    "n_try = 10\n",
    "with tf.Session() as sess:\n",
    "    sess.run(init)\n",
    "    sess.run(emb_init, feed_dict={e_input: emb_mat})\n",
    "    D = {x_input: x_seq[:10], y_input: y_seq[:10], keep_prob: 0.5}\n",
    "    out = sess.run(mse_op, feed_dict=D)"
   ]
  },
  {
   "cell_type": "markdown",
   "metadata": {},
   "source": [
    "### Training CNN"
   ]
  },
  {
   "cell_type": "markdown",
   "metadata": {},
   "source": [
    "#### Creating labels file for TensorBoard"
   ]
  },
  {
   "cell_type": "code",
   "execution_count": 14,
   "metadata": {
    "collapsed": true
   },
   "outputs": [],
   "source": [
    "path_labels_tsv = os.path.join(DATADIR, 'labels.tsv')\n",
    "\n",
    "if os.path.isfile(path_labels_tsv):\n",
    "    os.remove(path_labels_tsv)\n",
    "    \n",
    "with open(path_labels_tsv, 'w') as f:\n",
    "    for label in labels_subset:\n",
    "        f.write(\"%d\\n\" % label)"
   ]
  },
  {
   "cell_type": "markdown",
   "metadata": {},
   "source": [
    "#### Train helper functions"
   ]
  },
  {
   "cell_type": "code",
   "execution_count": 15,
   "metadata": {
    "collapsed": true
   },
   "outputs": [],
   "source": [
    "def get_stat(sess, x, y, \n",
    "             x_input=x_input, y_input=y_input, keep_prob=keep_prob):\n",
    "    feed_dict={x_input: x, y_input: y, keep_prob: 1}\n",
    "    mse, l = sess.run([mse_op, loss], feed_dict=feed_dict)\n",
    "    return mse, l\n",
    "\n",
    "def print_acc_loss(mse_train, loss_train, mse_test, loss_test, epoch=-1):\n",
    "    if  epoch == -1:\n",
    "        log_string = \"init. __    train mse: %0.2f  test mse: %0.2f\" % (mse_train, mse_test)\n",
    "    else:\n",
    "        log_string = \"epoch %2d    train mse: %0.2f  test mse: %0.2f\" % (epoch, mse_train, mse_test)\n",
    "    log_string += \"   loss train: %2.2f  loss test: %2.2f\" % (loss_train, loss_test)\n",
    "    print(log_string)"
   ]
  },
  {
   "cell_type": "markdown",
   "metadata": {},
   "source": [
    "#### Emptying tensorflow summaries functions"
   ]
  },
  {
   "cell_type": "code",
   "execution_count": 16,
   "metadata": {
    "collapsed": true
   },
   "outputs": [],
   "source": [
    "def clean_folder(path):\n",
    "    for file in os.listdir(path):\n",
    "        filepath = os.path.join(path, file)\n",
    "        if os.path.isfile(filepath) and file != '.gitkeep':\n",
    "            os.remove(filepath)"
   ]
  },
  {
   "cell_type": "markdown",
   "metadata": {},
   "source": [
    "#### Training loop"
   ]
  },
  {
   "cell_type": "code",
   "execution_count": 17,
   "metadata": {
    "collapsed": true
   },
   "outputs": [],
   "source": [
    "batch_size = 64\n",
    "num_epochs = 5\n",
    "p = 0.5\n",
    "seed = 10\n",
    "x_train, x_test, y_train, y_test = train_test_split(x_seq, y_seq, test_size=0.25, random_state=seed)\n",
    "\n",
    "clean_folder(os.path.join(LOGDIR, \"checkpoints\"))\n",
    "clean_folder(os.path.join(LOGDIR, \"summaries\"))"
   ]
  },
  {
   "cell_type": "code",
   "execution_count": 18,
   "metadata": {},
   "outputs": [
    {
     "name": "stdout",
     "output_type": "stream",
     "text": [
      "init. __    train mse: 0.52  test mse: 0.52   loss train: 0.73  loss test: 0.73\n",
      "epoch  0    train mse: 0.42  test mse: 0.44   loss train: 0.54  loss test: 0.57\n",
      "epoch  1    train mse: 0.32  test mse: 0.35   loss train: 0.36  loss test: 0.40\n",
      "epoch  2    train mse: 0.27  test mse: 0.30   loss train: 0.25  loss test: 0.31\n",
      "epoch  3    train mse: 0.24  test mse: 0.29   loss train: 0.20  loss test: 0.27\n",
      "epoch  4    train mse: 0.21  test mse: 0.28   loss train: 0.17  loss test: 0.26\n",
      "epoch  5    train mse: 0.19  test mse: 0.27   loss train: 0.14  loss test: 0.25\n",
      "CPU times: user 15min 45s, sys: 3min 13s, total: 18min 58s\n",
      "Wall time: 1min 40s\n"
     ]
    }
   ],
   "source": [
    "%%time\n",
    "with tf.Session() as sess:\n",
    "    # init\n",
    "    sess.run(init)\n",
    "    sess.run(emb_init, feed_dict={e_input: emb_mat})\n",
    "    emb_writer = tf.summary.FileWriter(os.path.join(LOGDIR, 'checkpoints'), sess.graph)\n",
    "    train_writer = tf.summary.FileWriter(os.path.join(LOGDIR, 'summaries'), sess.graph)\n",
    "    \n",
    "    # embedding for tensorboard\n",
    "    config = projector.ProjectorConfig()\n",
    "    emb_config = config.embeddings.add()\n",
    "    emb_config.tensor_name = embedding.name\n",
    "    emb_config.metadata_path = os.path.join(DATADIR, \"labels.tsv\")\n",
    "    projector.visualize_embeddings(emb_writer, config)\n",
    "    \n",
    "    # cold statistics\n",
    "    train_stat = get_stat(sess, x_train, y_train)\n",
    "    test_stat = get_stat(sess, x_test, y_test)\n",
    "    print_acc_loss(*train_stat, *test_stat)\n",
    "    \n",
    "    # batch training\n",
    "    losses = list()\n",
    "    it = 0\n",
    "    for e in range(num_epochs + 1):\n",
    "        for i in range(x_train.shape[0] // batch_size):\n",
    "            # batch creation\n",
    "            idx = i * batch_size\n",
    "            idxn = min(x_train.shape[0] - 1, (i+1) * batch_size)\n",
    "            batch_xs = x_train[idx: idxn]\n",
    "            batch_xy = y_train[idx: idxn]\n",
    "            \n",
    "            # training\n",
    "            feed_train = {x_input: batch_xs, y_input: batch_xy, keep_prob: p}\n",
    "            summary, __, l = sess.run([merged, train_op, loss], feed_dict=feed_train)\n",
    "            train_writer.add_summary(summary, it)\n",
    "            losses.append(l)\n",
    "            it += 1\n",
    "            \n",
    "        # embedding summary\n",
    "        D = {\n",
    "            x_input: x_seq[:tsne_sample_size],\n",
    "            y_input: y_seq[:tsne_sample_size],\n",
    "            keep_prob: 1,\n",
    "        }\n",
    "        sess.run(assignment, feed_dict=D)\n",
    "        saver.save(sess, os.path.join(LOGDIR, 'checkpoints/model.ckpt'), it)\n",
    "\n",
    "        train_stat = get_stat(sess, x_train, y_train)\n",
    "        test_stat = get_stat(sess, x_test, y_test)\n",
    "        print_acc_loss(*train_stat, *test_stat, e)"
   ]
  },
  {
   "cell_type": "markdown",
   "metadata": {},
   "source": [
    "#### Training loss"
   ]
  },
  {
   "cell_type": "code",
   "execution_count": 19,
   "metadata": {},
   "outputs": [
    {
     "data": {
      "text/plain": [
       "[<matplotlib.lines.Line2D at 0x7fcc1fd1f940>]"
      ]
     },
     "execution_count": 19,
     "metadata": {},
     "output_type": "execute_result"
    },
    {
     "data": {
      "image/png": "[encoded data removed]",
      "text/plain": [
       "<matplotlib.figure.Figure at 0x7fcc1fd1f898>"
      ]
     },
     "metadata": {},
     "output_type": "display_data"
    }
   ],
   "source": [
    "fig, ax = plt.subplots(figsize=(10, 5))\n",
    "plt.plot(losses)"
   ]
  },
  {
   "cell_type": "code",
   "execution_count": 20,
   "metadata": {},
   "outputs": [
    {
     "data": {
      "text/plain": [
       "[('adore', 0.99999976),\n",
       " ('adored', 0.62502307),\n",
       " ('cherish', 0.55793297),\n",
       " ('adores', 0.55772871),\n",
       " ('love,', 0.55337274),\n",
       " ('love', 0.54610699),\n",
       " ('caress', 0.53535295),\n",
       " ('caresses', 0.53478605),\n",
       " ('adorable', 0.53415078),\n",
       " ('behold', 0.52701122)]"
      ]
     },
     "execution_count": 20,
     "metadata": {},
     "output_type": "execute_result"
    }
   ],
   "source": [
    "embeddor.most_similar(\"adore\")"
   ]
  }
 ],
 "metadata": {
  "anaconda-cloud": {},
  "kernelspec": {
   "display_name": "Python 3",
   "language": "python",
   "name": "python3"
  },
  "language_info": {
   "codemirror_mode": {
    "name": "ipython",
    "version": 3
   },
   "file_extension": ".py",
   "mimetype": "text/x-python",
   "name": "python",
   "nbconvert_exporter": "python",
   "pygments_lexer": "ipython3",
   "version": "3.6.1"
  },
  "widgets": {
   "state": {
    "4726a207e91245b9ab52304fb49a9c81": {
     "views": [
      {
       "cell_index": 6
      }
     ]
    }
   },
   "version": "1.2.0"
  }
 },
 "nbformat": 4,
 "nbformat_minor": 2
}
