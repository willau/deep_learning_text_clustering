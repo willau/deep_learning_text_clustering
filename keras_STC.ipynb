{
 "cells": [
  {
   "cell_type": "code",
   "execution_count": 1,
   "metadata": {
    "collapsed": true
   },
   "outputs": [],
   "source": [
    "%load_ext autoreload\n",
    "%autoreload 2"
   ]
  },
  {
   "cell_type": "markdown",
   "metadata": {},
   "source": [
    "# Short Text Clustering using CNN"
   ]
  },
  {
   "cell_type": "markdown",
   "metadata": {},
   "source": [
    "The following work is mainly inspired by:\n",
    "- 2014 - Convolutional Neural Networks for Sentence Classification\n",
    "- 2014 - A Convolutional Neural Network for Modelling Sentences\n",
    "- 2017 - Self-Taught Convolutional Neural Networks for Short Text Clustering\n",
    "\n",
    "<br>\n",
    "Word embedding from fasttext are distributed under the license:\n",
    "- Creative Commons Attribution-Share-Alike License 3.0 (free commercial use)"
   ]
  },
  {
   "cell_type": "markdown",
   "metadata": {},
   "source": [
    "#### Load modules"
   ]
  },
  {
   "cell_type": "code",
   "execution_count": 2,
   "metadata": {},
   "outputs": [
    {
     "name": "stderr",
     "output_type": "stream",
     "text": [
      "Using TensorFlow backend.\n"
     ]
    },
    {
     "data": {
      "text/html": [
       "\n",
       "    <div class=\"bk-root\">\n",
       "        <a href=\"http://bokeh.pydata.org\" target=\"_blank\" class=\"bk-logo bk-logo-small bk-logo-notebook\"></a>\n",
       "        <span id=\"185f37a3-29d8-4128-870a-c381f425ff76\">Loading BokehJS ...</span>\n",
       "    </div>"
      ]
     },
     "metadata": {},
     "output_type": "display_data"
    },
    {
     "data": {
      "application/javascript": [
       "\n",
       "(function(global) {\n",
       "  function now() {\n",
       "    return new Date();\n",
       "  }\n",
       "\n",
       "  var force = true;\n",
       "\n",
       "  if (typeof (window._bokeh_onload_callbacks) === \"undefined\" || force === true) {\n",
       "    window._bokeh_onload_callbacks = [];\n",
       "    window._bokeh_is_loading = undefined;\n",
       "  }\n",
       "\n",
       "\n",
       "  \n",
       "  if (typeof (window._bokeh_timeout) === \"undefined\" || force === true) {\n",
       "    window._bokeh_timeout = Date.now() + 5000;\n",
       "    window._bokeh_failed_load = false;\n",
       "  }\n",
       "\n",
       "  var NB_LOAD_WARNING = {'data': {'text/html':\n",
       "     \"<div style='background-color: #fdd'>\\n\"+\n",
       "     \"<p>\\n\"+\n",
       "     \"BokehJS does not appear to have successfully loaded. If loading BokehJS from CDN, this \\n\"+\n",
       "     \"may be due to a slow or bad network connection. Possible fixes:\\n\"+\n",
       "     \"</p>\\n\"+\n",
       "     \"<ul>\\n\"+\n",
       "     \"<li>re-rerun `output_notebook()` to attempt to load from CDN again, or</li>\\n\"+\n",
       "     \"<li>use INLINE resources instead, as so:</li>\\n\"+\n",
       "     \"</ul>\\n\"+\n",
       "     \"<code>\\n\"+\n",
       "     \"from bokeh.resources import INLINE\\n\"+\n",
       "     \"output_notebook(resources=INLINE)\\n\"+\n",
       "     \"</code>\\n\"+\n",
       "     \"</div>\"}};\n",
       "\n",
       "  function display_loaded() {\n",
       "    if (window.Bokeh !== undefined) {\n",
       "      var el = document.getElementById(\"185f37a3-29d8-4128-870a-c381f425ff76\");\n",
       "      el.textContent = \"BokehJS \" + Bokeh.version + \" successfully loaded.\";\n",
       "    } else if (Date.now() < window._bokeh_timeout) {\n",
       "      setTimeout(display_loaded, 100)\n",
       "    }\n",
       "  }\n",
       "\n",
       "  function run_callbacks() {\n",
       "    try {\n",
       "      window._bokeh_onload_callbacks.forEach(function(callback) { callback() });\n",
       "    }\n",
       "    finally {\n",
       "      delete window._bokeh_onload_callbacks\n",
       "    }\n",
       "    console.info(\"Bokeh: all callbacks have finished\");\n",
       "  }\n",
       "\n",
       "  function load_libs(js_urls, callback) {\n",
       "    window._bokeh_onload_callbacks.push(callback);\n",
       "    if (window._bokeh_is_loading > 0) {\n",
       "      console.log(\"Bokeh: BokehJS is being loaded, scheduling callback at\", now());\n",
       "      return null;\n",
       "    }\n",
       "    if (js_urls == null || js_urls.length === 0) {\n",
       "      run_callbacks();\n",
       "      return null;\n",
       "    }\n",
       "    console.log(\"Bokeh: BokehJS not loaded, scheduling load and callback at\", now());\n",
       "    window._bokeh_is_loading = js_urls.length;\n",
       "    for (var i = 0; i < js_urls.length; i++) {\n",
       "      var url = js_urls[i];\n",
       "      var s = document.createElement('script');\n",
       "      s.src = url;\n",
       "      s.async = false;\n",
       "      s.onreadystatechange = s.onload = function() {\n",
       "        window._bokeh_is_loading--;\n",
       "        if (window._bokeh_is_loading === 0) {\n",
       "          console.log(\"Bokeh: all BokehJS libraries loaded\");\n",
       "          run_callbacks()\n",
       "        }\n",
       "      };\n",
       "      s.onerror = function() {\n",
       "        console.warn(\"failed to load library \" + url);\n",
       "      };\n",
       "      console.log(\"Bokeh: injecting script tag for BokehJS library: \", url);\n",
       "      document.getElementsByTagName(\"head\")[0].appendChild(s);\n",
       "    }\n",
       "  };var element = document.getElementById(\"185f37a3-29d8-4128-870a-c381f425ff76\");\n",
       "  if (element == null) {\n",
       "    console.log(\"Bokeh: ERROR: autoload.js configured with elementid '185f37a3-29d8-4128-870a-c381f425ff76' but no matching script tag was found. \")\n",
       "    return false;\n",
       "  }\n",
       "\n",
       "  var js_urls = [\"https://cdn.pydata.org/bokeh/release/bokeh-0.12.6.min.js\", \"https://cdn.pydata.org/bokeh/release/bokeh-widgets-0.12.6.min.js\"];\n",
       "\n",
       "  var inline_js = [\n",
       "    function(Bokeh) {\n",
       "      Bokeh.set_log_level(\"info\");\n",
       "    },\n",
       "    \n",
       "    function(Bokeh) {\n",
       "      \n",
       "    },\n",
       "    \n",
       "    function(Bokeh) {\n",
       "      \n",
       "      document.getElementById(\"185f37a3-29d8-4128-870a-c381f425ff76\").textContent = \"BokehJS is loading...\";\n",
       "    },\n",
       "    function(Bokeh) {\n",
       "      console.log(\"Bokeh: injecting CSS: https://cdn.pydata.org/bokeh/release/bokeh-0.12.6.min.css\");\n",
       "      Bokeh.embed.inject_css(\"https://cdn.pydata.org/bokeh/release/bokeh-0.12.6.min.css\");\n",
       "      console.log(\"Bokeh: injecting CSS: https://cdn.pydata.org/bokeh/release/bokeh-widgets-0.12.6.min.css\");\n",
       "      Bokeh.embed.inject_css(\"https://cdn.pydata.org/bokeh/release/bokeh-widgets-0.12.6.min.css\");\n",
       "    }\n",
       "  ];\n",
       "\n",
       "  function run_inline_js() {\n",
       "    \n",
       "    if ((window.Bokeh !== undefined) || (force === true)) {\n",
       "      for (var i = 0; i < inline_js.length; i++) {\n",
       "        inline_js[i](window.Bokeh);\n",
       "      }if (force === true) {\n",
       "        display_loaded();\n",
       "      }} else if (Date.now() < window._bokeh_timeout) {\n",
       "      setTimeout(run_inline_js, 100);\n",
       "    } else if (!window._bokeh_failed_load) {\n",
       "      console.log(\"Bokeh: BokehJS failed to load within specified timeout.\");\n",
       "      window._bokeh_failed_load = true;\n",
       "    } else if (force !== true) {\n",
       "      var cell = $(document.getElementById(\"185f37a3-29d8-4128-870a-c381f425ff76\")).parents('.cell').data().cell;\n",
       "      cell.output_area.append_execute_result(NB_LOAD_WARNING)\n",
       "    }\n",
       "\n",
       "  }\n",
       "\n",
       "  if (window._bokeh_is_loading === 0) {\n",
       "    console.log(\"Bokeh: BokehJS loaded, going straight to plotting\");\n",
       "    run_inline_js();\n",
       "  } else {\n",
       "    load_libs(js_urls, function() {\n",
       "      console.log(\"Bokeh: BokehJS plotting callback run at\", now());\n",
       "      run_inline_js();\n",
       "    });\n",
       "  }\n",
       "}(this));"
      ]
     },
     "metadata": {},
     "output_type": "display_data"
    }
   ],
   "source": [
    "import os\n",
    "import numpy as np\n",
    "import pandas as pd\n",
    "from pprint import pprint\n",
    "from tqdm import tqdm_notebook\n",
    "from webcolors import name_to_rgb\n",
    "from matplotlib import pyplot as plt\n",
    "from bokeh.io import output_notebook, reset_output\n",
    "\n",
    "# scikit-learn\n",
    "from sklearn.manifold import TSNE\n",
    "from sklearn.cluster import KMeans\n",
    "from sklearn.pipeline import make_pipeline\n",
    "from sklearn.decomposition import TruncatedSVD\n",
    "from sklearn.preprocessing import Normalizer, normalize\n",
    "from sklearn.feature_extraction.text import TfidfVectorizer\n",
    "\n",
    "# keras\n",
    "from keras.models import Model\n",
    "from keras.preprocessing.text import Tokenizer\n",
    "from keras.preprocessing.sequence import pad_sequences\n",
    "from keras.layers import Embedding\n",
    "\n",
    "# self-made function\n",
    "from utils.target import laplacian_eigenmaps, binarize\n",
    "from utils.metrics import map_label, cluster_quality\n",
    "from utils.cnn import create_reference_model, behead\n",
    "from utils.variable import COLORNAMES\n",
    "from utils.embedding import Embeddor\n",
    "from utils import visu\n",
    "\n",
    "%matplotlib inline\n",
    "output_notebook()"
   ]
  },
  {
   "cell_type": "code",
   "execution_count": 3,
   "metadata": {},
   "outputs": [
    {
     "name": "stdout",
     "output_type": "stream",
     "text": [
      "\n",
      "Short text datasets\n",
      "['Biomedical.txt',\n",
      " 'Biomedical_gnd.txt',\n",
      " 'SearchSnippets.txt',\n",
      " 'SearchSnippets_gnd.txt',\n",
      " 'StackOverflow.txt',\n",
      " 'StackOverflow_gnd.txt']\n",
      "\n",
      "Embedding\n",
      "['glove100K.100d.vec', 'wiki.en.vec']\n"
     ]
    }
   ],
   "source": [
    "EMBDIR = \"./embeddings/\"\n",
    "DATADIR = \"./data/short_texts/\"\n",
    "\n",
    "print('\\nShort text datasets')\n",
    "pprint(os.listdir(DATADIR))\n",
    "\n",
    "print('\\nEmbedding')\n",
    "pprint(os.listdir(EMBDIR))"
   ]
  },
  {
   "cell_type": "markdown",
   "metadata": {},
   "source": [
    "# Fetching the data"
   ]
  },
  {
   "cell_type": "markdown",
   "metadata": {},
   "source": [
    "#### Loading pre-trained Fasttext word embedding\n",
    "\n",
    "Pre-trained word vectors for English languages, trained on Wikipedia using fastText. These vectors of dimension `300` were obtained using the skip-gram model described in `Bojanowski et al.(2016)` with default parameters.\n",
    "\n",
    "We extracted the `100 000` most frequent words."
   ]
  },
  {
   "cell_type": "markdown",
   "metadata": {},
   "source": [
    "# Word embedding"
   ]
  },
  {
   "cell_type": "code",
   "execution_count": 4,
   "metadata": {},
   "outputs": [
    {
     "name": "stdout",
     "output_type": "stream",
     "text": [
      "Embedding: wiki.en.vec\n"
     ]
    },
    {
     "data": {
      "application/vnd.jupyter.widget-view+json": {
       "model_id": "67a8a631c859472ab43979af28a8174b"
      }
     },
     "metadata": {},
     "output_type": "display_data"
    },
    {
     "name": "stdout",
     "output_type": "stream",
     "text": [
      "\n",
      "Embedding shape: (100001, 300)\n"
     ]
    }
   ],
   "source": [
    "# parameters\n",
    "n_emb = int(1 * 1e5)\n",
    "# emb_name = 'fasttext.wiki.en.vec'\n",
    "emb_name = 'wiki.en.vec'\n",
    "print(\"Embedding: %s\" % emb_name)\n",
    "src_emb = os.path.join(EMBDIR, emb_name)\n",
    "\n",
    "# embeddor\n",
    "embeddor = Embeddor(notebook_display=True)\n",
    "emb_mat = embeddor.load_emb(src_emb, n_emb)\n",
    "print(\"Embedding shape: {}\".format(emb_mat.shape))"
   ]
  },
  {
   "cell_type": "code",
   "execution_count": 5,
   "metadata": {},
   "outputs": [
    {
     "data": {
      "text/plain": [
       "[('napoleon', 0.99999976),\n",
       " ('bonaparte', 0.77908504),\n",
       " ('napoléon', 0.71624738),\n",
       " ('napoleonic', 0.69677413),\n",
       " ('davout', 0.66151798),\n",
       " ('austerlitz', 0.64097023),\n",
       " ('masséna', 0.63768977),\n",
       " ('beauharnais', 0.63125145),\n",
       " ('soult', 0.62394428),\n",
       " ('talleyrand', 0.61470634)]"
      ]
     },
     "execution_count": 5,
     "metadata": {},
     "output_type": "execute_result"
    }
   ],
   "source": [
    "embeddor.most_similar('napoleon')"
   ]
  },
  {
   "cell_type": "markdown",
   "metadata": {},
   "source": [
    "# Load text data"
   ]
  },
  {
   "cell_type": "markdown",
   "metadata": {},
   "source": [
    "#### Loading data"
   ]
  },
  {
   "cell_type": "code",
   "execution_count": 6,
   "metadata": {},
   "outputs": [
    {
     "name": "stdout",
     "output_type": "stream",
     "text": [
      "Total: 20,000 short texts\n"
     ]
    }
   ],
   "source": [
    "DATA = \"Biomedical\"\n",
    "# DATA = \"SearchSnippets\"\n",
    "# DATA = \"StackOverflow\"\n",
    "\n",
    "text_path = os.path.join(DATADIR, '%s.txt' % DATA)\n",
    "with open(text_path, encoding=\"utf-8\") as f:\n",
    "    data = f.readlines()\n",
    "\n",
    "label_path = os.path.join(DATADIR, '%s_gnd.txt' % DATA)\n",
    "with open(label_path, encoding=\"utf-8\") as f:\n",
    "    target = f.readlines()\n",
    "target = [int(label.rstrip('\\n')) for label in target]\n",
    "    \n",
    "print(\"Total: %s short texts\" % format(len(data), \",\"))"
   ]
  },
  {
   "cell_type": "markdown",
   "metadata": {},
   "source": [
    "#### Random samples"
   ]
  },
  {
   "cell_type": "code",
   "execution_count": 7,
   "metadata": {},
   "outputs": [
    {
     "name": "stdout",
     "output_type": "stream",
     "text": [
      "Loading 10,000 samples\n"
     ]
    }
   ],
   "source": [
    "n = len(data)\n",
    "sample = 10000\n",
    "print(\"Loading %s samples\" % format(sample, \",\"))\n",
    "index_sample = np.random.randint(0, n, sample)\n",
    "\n",
    "data = [data[idx] for idx in index_sample]\n",
    "target = [target[idx] for idx in index_sample]"
   ]
  },
  {
   "cell_type": "markdown",
   "metadata": {},
   "source": [
    "#### Tokenize"
   ]
  },
  {
   "cell_type": "code",
   "execution_count": 8,
   "metadata": {},
   "outputs": [
    {
     "name": "stdout",
     "output_type": "stream",
     "text": [
      "Found 11706 unique tokens.\n",
      "Average length: 12\n",
      "Max length: 51\n"
     ]
    }
   ],
   "source": [
    "\n",
    "tokenizer = Tokenizer(char_level=False)\n",
    "tokenizer.fit_on_texts(data)\n",
    "sequences_full = tokenizer.texts_to_sequences(data)\n",
    "\n",
    "word_index = tokenizer.word_index\n",
    "print('Found %s unique tokens.' % len(word_index))\n",
    "MAX_NB_WORDS = len(word_index)\n",
    "\n",
    "seq_lens = [len(s) for s in sequences_full]\n",
    "print(\"Average length: %d\" % np.mean(seq_lens))\n",
    "print(\"Max length: %d\" % max(seq_lens))\n",
    "MAX_SEQUENCE_LENGTH = max(seq_lens)\n",
    "\n",
    "X = pad_sequences(sequences_full, maxlen=MAX_SEQUENCE_LENGTH)\n",
    "y = target\n",
    "tfidf = tokenizer.sequences_to_matrix(sequences_full, mode='tfidf')"
   ]
  },
  {
   "cell_type": "markdown",
   "metadata": {},
   "source": [
    "# Getting sequences and targets"
   ]
  },
  {
   "cell_type": "code",
   "execution_count": 9,
   "metadata": {},
   "outputs": [
    {
     "name": "stdout",
     "output_type": "stream",
     "text": [
      "added 6391 words in the embedding matrix\n"
     ]
    }
   ],
   "source": [
    "# creating embedding matrix\n",
    "EMBEDDING_DIM = embeddor.emb_dim\n",
    "N_CLASSES = 21\n",
    "\n",
    "# prepare embedding matrix\n",
    "nb_words_in_matrix = 0\n",
    "nb_words = min(MAX_NB_WORDS, len(word_index))\n",
    "embedding_matrix = np.zeros((nb_words + 1, EMBEDDING_DIM))\n",
    "for word, i in word_index.items():\n",
    "    embedding = embeddor.get_emb(word)\n",
    "    if embedding is not None:\n",
    "        embedding_matrix[i] = embedding\n",
    "        nb_words_in_matrix = nb_words_in_matrix + 1\n",
    "        \n",
    "print(\"added %d words in the embedding matrix\" % nb_words_in_matrix)"
   ]
  },
  {
   "cell_type": "markdown",
   "metadata": {},
   "source": [
    "# Target vectors "
   ]
  },
  {
   "cell_type": "code",
   "execution_count": 10,
   "metadata": {
    "collapsed": true
   },
   "outputs": [],
   "source": [
    "# dictionary containing all target vectors\n",
    "Y = dict()\n",
    "\n",
    "# dicitonary containing all binarized vectors\n",
    "B = dict()"
   ]
  },
  {
   "cell_type": "markdown",
   "metadata": {},
   "source": [
    "#### Average embeddings (AE)"
   ]
  },
  {
   "cell_type": "code",
   "execution_count": 11,
   "metadata": {},
   "outputs": [
    {
     "name": "stdout",
     "output_type": "stream",
     "text": [
      "Shape of average embedding:  (10000, 300)\n",
      "CPU times: user 4.63 s, sys: 2.3 s, total: 6.94 s\n",
      "Wall time: 6.7 s\n"
     ]
    }
   ],
   "source": [
    "%%time\n",
    "denom = 1 + np.sum(tfidf, axis=1)[:, None]\n",
    "normed_tfidf = tfidf/denom\n",
    "average_embeddings = np.dot(normed_tfidf, embedding_matrix)\n",
    "Y['ae'] = average_embeddings\n",
    "B['ae'] = binarize(Y['ae'])\n",
    "print(\"Shape of average embedding: \", Y['ae'].shape)"
   ]
  },
  {
   "cell_type": "markdown",
   "metadata": {},
   "source": [
    "#### Latent Semantic Analysis (LSA)"
   ]
  },
  {
   "cell_type": "code",
   "execution_count": 12,
   "metadata": {},
   "outputs": [
    {
     "name": "stdout",
     "output_type": "stream",
     "text": [
      "Shape of latent semantic vectors:  (10000, 100)\n",
      "CPU times: user 16.8 s, sys: 2.33 s, total: 19.1 s\n",
      "Wall time: 12.9 s\n"
     ]
    }
   ],
   "source": [
    "%%time\n",
    "lsa = make_pipeline(\n",
    "    TruncatedSVD(100),\n",
    "    Normalizer(copy=False),\n",
    ") \n",
    "lsa_vectors = lsa.fit_transform(tfidf)\n",
    "Y['lsa'] = lsa_vectors\n",
    "B['lsa'] = binarize(Y['lsa'])\n",
    "print(\"Shape of latent semantic vectors: \", Y['lsa'].shape)"
   ]
  },
  {
   "cell_type": "markdown",
   "metadata": {},
   "source": [
    "#### Laplacian Eigenmaps (LE) [memory intensive]"
   ]
  },
  {
   "cell_type": "code",
   "execution_count": 13,
   "metadata": {},
   "outputs": [
    {
     "name": "stdout",
     "output_type": "stream",
     "text": [
      "Fitting nearest neighbors\n",
      "Creation of heat kernel affinity matrix\n",
      "Spectral embedding\n",
      "(10000, 15)\n",
      "CPU times: user 2min 12s, sys: 12.6 s, total: 2min 25s\n",
      "Wall time: 1min 28s\n"
     ]
    }
   ],
   "source": [
    "%%time\n",
    "laplacian_vectors = laplacian_eigenmaps(lsa_vectors, n_neighbors=15, subdim=15, n_jobs=-1)\n",
    "Y['le'] = laplacian_vectors\n",
    "B['le'] = binarize(Y['le'])\n",
    "print(Y['le'].shape)"
   ]
  },
  {
   "cell_type": "markdown",
   "metadata": {},
   "source": [
    "# CNN for deep feature learning "
   ]
  },
  {
   "cell_type": "markdown",
   "metadata": {},
   "source": [
    "#### Embedding layer"
   ]
  },
  {
   "cell_type": "code",
   "execution_count": 14,
   "metadata": {
    "collapsed": true
   },
   "outputs": [],
   "source": [
    "embedding_matrix_copy = embedding_matrix.copy()\n",
    "\n",
    "# Embedding layer\n",
    "pretrained_embedding_layer = Embedding(\n",
    "    input_dim=MAX_NB_WORDS+1,\n",
    "    output_dim=EMBEDDING_DIM,\n",
    "    weights=[embedding_matrix],\n",
    "    input_length=MAX_SEQUENCE_LENGTH,\n",
    ")"
   ]
  },
  {
   "cell_type": "markdown",
   "metadata": {},
   "source": [
    "#### Deep feature learning"
   ]
  },
  {
   "cell_type": "code",
   "execution_count": 15,
   "metadata": {},
   "outputs": [
    {
     "name": "stdout",
     "output_type": "stream",
     "text": [
      "Method: lsa\n",
      "Train on 8000 samples, validate on 2000 samples\n",
      "Epoch 1/3\n",
      "17s - loss: 0.6878 - mean_absolute_error: 0.4956 - val_loss: 0.6801 - val_mean_absolute_error: 0.4917\n",
      "Epoch 2/3\n",
      "16s - loss: 0.6752 - mean_absolute_error: 0.4871 - val_loss: 0.6638 - val_mean_absolute_error: 0.4819\n",
      "Epoch 3/3\n",
      "16s - loss: 0.6584 - mean_absolute_error: 0.4751 - val_loss: 0.6455 - val_mean_absolute_error: 0.4695\n",
      "Sample shape: (10000, 100)\n",
      "\n",
      "Method: ae\n",
      "Train on 8000 samples, validate on 2000 samples\n",
      "Epoch 1/3\n",
      "16s - loss: 0.4919 - mean_absolute_error: 0.3324 - val_loss: 0.4140 - val_mean_absolute_error: 0.2699\n",
      "Epoch 2/3\n",
      "16s - loss: 0.4204 - mean_absolute_error: 0.2728 - val_loss: 0.4053 - val_mean_absolute_error: 0.2676\n",
      "Epoch 3/3\n",
      "16s - loss: 0.4072 - mean_absolute_error: 0.2672 - val_loss: 0.3940 - val_mean_absolute_error: 0.2606\n",
      "Sample shape: (10000, 100)\n",
      "\n",
      "Method: le\n",
      "Train on 8000 samples, validate on 2000 samples\n",
      "Epoch 1/3\n",
      "16s - loss: 0.6282 - mean_absolute_error: 0.4448 - val_loss: 0.5928 - val_mean_absolute_error: 0.4269\n",
      "Epoch 2/3\n",
      "15s - loss: 0.5723 - mean_absolute_error: 0.4099 - val_loss: 0.5396 - val_mean_absolute_error: 0.3903\n",
      "Epoch 3/3\n",
      "16s - loss: 0.5267 - mean_absolute_error: 0.3777 - val_loss: 0.4976 - val_mean_absolute_error: 0.3615\n",
      "Sample shape: (10000, 100)\n",
      "\n"
     ]
    }
   ],
   "source": [
    "nb_epoch = 3\n",
    "D = dict()\n",
    "for method in ['lsa', 'ae', 'le']:\n",
    "    print(\"Method: {}\".format(method))\n",
    "    cnn_model = create_reference_model(\n",
    "        input_dim=MAX_SEQUENCE_LENGTH,\n",
    "        output_dim=B[method].shape[1],\n",
    "        embedding_layer=pretrained_embedding_layer,\n",
    "    )\n",
    "\n",
    "    cnn_model.fit(X, B[method], validation_split=0.2, epochs=nb_epoch, batch_size=100, verbose=2)\n",
    "\n",
    "    beheaded_cnn = behead(cnn_model)\n",
    "    D[method] = beheaded_cnn.predict(X)\n",
    "    print(\"Sample shape: {}\".format(D[method].shape))\n",
    "    print()"
   ]
  },
  {
   "cell_type": "markdown",
   "metadata": {},
   "source": [
    "# Tools for evaluating cluster quality"
   ]
  },
  {
   "cell_type": "markdown",
   "metadata": {},
   "source": [
    "## K-means "
   ]
  },
  {
   "cell_type": "code",
   "execution_count": 16,
   "metadata": {},
   "outputs": [
    {
     "name": "stdout",
     "output_type": "stream",
     "text": [
      "Number of classes: 20\n"
     ]
    }
   ],
   "source": [
    "true_labels = y\n",
    "n_clusters = len(np.unique(y))\n",
    "print(\"Number of classes: %d\" % n_clusters)\n",
    "km = KMeans(n_clusters=n_clusters, n_jobs=-1)\n",
    "result = dict()\n",
    "pred = dict()"
   ]
  },
  {
   "cell_type": "markdown",
   "metadata": {},
   "source": [
    "#### Deep feature from Average Embedding"
   ]
  },
  {
   "cell_type": "code",
   "execution_count": 17,
   "metadata": {},
   "outputs": [
    {
     "name": "stdout",
     "output_type": "stream",
     "text": [
      "Shape: (10000, 100)\n",
      "Homogeneity: 0.194\n",
      "Completeness: 0.198\n",
      "V-measure: 0.196\n",
      "NMI: 0.196\n",
      "Rand score: 0.082\n",
      "Accuracy: 0.232\n"
     ]
    }
   ],
   "source": [
    "method = 'ae'\n",
    "deep_features = normalize(D[method], norm='l2')\n",
    "print('Shape: {}'.format(deep_features.shape)) \n",
    "km.fit(deep_features)\n",
    "y_pred = km.labels_\n",
    "result['deep_ae'] = cluster_quality(true_labels, y_pred)\n",
    "pred['deep_ae'] = y_pred"
   ]
  },
  {
   "cell_type": "markdown",
   "metadata": {},
   "source": [
    "#### Deep feature from LSA"
   ]
  },
  {
   "cell_type": "code",
   "execution_count": 18,
   "metadata": {},
   "outputs": [
    {
     "name": "stdout",
     "output_type": "stream",
     "text": [
      "Shape: (10000, 100)\n",
      "Homogeneity: 0.081\n",
      "Completeness: 0.082\n",
      "V-measure: 0.082\n",
      "NMI: 0.082\n",
      "Rand score: 0.033\n",
      "Accuracy: 0.158\n"
     ]
    }
   ],
   "source": [
    "method = 'lsa'\n",
    "deep_features = normalize(D[method], norm='l2')\n",
    "print('Shape: {}'.format(deep_features.shape)) \n",
    "km.fit(deep_features)\n",
    "y_pred = km.labels_\n",
    "result['deep_lsa'] = cluster_quality(true_labels, y_pred)\n",
    "pred['deep_lsa'] = y_pred"
   ]
  },
  {
   "cell_type": "markdown",
   "metadata": {},
   "source": [
    "#### Deep feature from Laplacian Eigenvalues"
   ]
  },
  {
   "cell_type": "code",
   "execution_count": 19,
   "metadata": {},
   "outputs": [
    {
     "name": "stdout",
     "output_type": "stream",
     "text": [
      "Shape: (10000, 100)\n",
      "Homogeneity: 0.318\n",
      "Completeness: 0.324\n",
      "V-measure: 0.321\n",
      "NMI: 0.321\n",
      "Rand score: 0.191\n",
      "Accuracy: 0.361\n"
     ]
    }
   ],
   "source": [
    "method = 'le'\n",
    "deep_features = normalize(D[method], norm='l2')\n",
    "print('Shape: {}'.format(deep_features.shape)) \n",
    "km.fit(deep_features)\n",
    "y_pred = km.labels_\n",
    "result['deep_le'] = cluster_quality(true_labels, y_pred)\n",
    "pred['deep_le'] = y_pred"
   ]
  },
  {
   "cell_type": "markdown",
   "metadata": {},
   "source": [
    "#### LSA"
   ]
  },
  {
   "cell_type": "code",
   "execution_count": 20,
   "metadata": {},
   "outputs": [
    {
     "name": "stdout",
     "output_type": "stream",
     "text": [
      "Shape: (10000, 100)\n",
      "Homogeneity: 0.251\n",
      "Completeness: 0.270\n",
      "V-measure: 0.260\n",
      "NMI: 0.260\n",
      "Rand score: 0.118\n",
      "Accuracy: 0.312\n"
     ]
    }
   ],
   "source": [
    "lsa_features = Y['lsa']\n",
    "print('Shape: {}'.format(lsa_features.shape)) \n",
    "km.fit(lsa_features)\n",
    "y_pred = km.labels_\n",
    "result['lsa'] = cluster_quality(true_labels, y_pred)\n",
    "pred['lsa'] = y_pred"
   ]
  },
  {
   "cell_type": "markdown",
   "metadata": {},
   "source": [
    "#### Average Embedding"
   ]
  },
  {
   "cell_type": "code",
   "execution_count": 21,
   "metadata": {},
   "outputs": [
    {
     "name": "stdout",
     "output_type": "stream",
     "text": [
      "Shape: (10000, 300)\n",
      "Homogeneity: 0.244\n",
      "Completeness: 0.247\n",
      "V-measure: 0.245\n",
      "NMI: 0.246\n",
      "Rand score: 0.127\n",
      "Accuracy: 0.314\n"
     ]
    }
   ],
   "source": [
    "avg_emb_features = normalize(Y['ae'])\n",
    "print('Shape: {}'.format(avg_emb_features.shape))\n",
    "km.fit(avg_emb_features)\n",
    "y_pred = km.labels_\n",
    "result['ae'] = cluster_quality(true_labels, y_pred)\n",
    "pred['ae'] = y_pred"
   ]
  },
  {
   "cell_type": "markdown",
   "metadata": {},
   "source": [
    "#### Laplacian Eigenvalues aka Spectral clustering "
   ]
  },
  {
   "cell_type": "code",
   "execution_count": 22,
   "metadata": {},
   "outputs": [
    {
     "name": "stdout",
     "output_type": "stream",
     "text": [
      "Shape: (10000, 15)\n",
      "Homogeneity: 0.299\n",
      "Completeness: 0.312\n",
      "V-measure: 0.305\n",
      "NMI: 0.305\n",
      "Rand score: 0.190\n",
      "Accuracy: 0.388\n"
     ]
    }
   ],
   "source": [
    "laplacian_features = normalize(Y['le'], norm='l2')\n",
    "print('Shape: {}'.format(laplacian_features.shape)) \n",
    "km.fit(laplacian_features)\n",
    "y_pred = km.labels_\n",
    "result['le'] = cluster_quality(true_labels, y_pred)\n",
    "pred['le'] = y_pred"
   ]
  },
  {
   "cell_type": "markdown",
   "metadata": {},
   "source": [
    "# Cluster visualization"
   ]
  },
  {
   "cell_type": "markdown",
   "metadata": {},
   "source": [
    "#### Random sampling because t-SNE is slow"
   ]
  },
  {
   "cell_type": "code",
   "execution_count": 23,
   "metadata": {
    "collapsed": true
   },
   "outputs": [],
   "source": [
    "# random sample because t-sne is slow\n",
    "tsne_sample = 1000\n",
    "idx_sample = np.random.randint(low=0, high=sample, size=(tsne_sample,))"
   ]
  },
  {
   "cell_type": "code",
   "execution_count": 24,
   "metadata": {},
   "outputs": [],
   "source": [
    "# mapping color to sample\n",
    "labels = np.unique(true_labels)\n",
    "colormap = {label: color for label, color in zip(labels, COLORNAMES[:20])}\n",
    "colors = [colormap[true_labels[idx]] for idx in idx_sample]"
   ]
  },
  {
   "cell_type": "markdown",
   "metadata": {},
   "source": [
    "## t-SNE \n",
    "\n",
    "<br>\n",
    "Remarks:\n",
    "- Using Laplacian Eigenvalues, we obtain very dense clusters\n",
    "- Using LSA as target, results are also quite good\n",
    "- LSA is very competitive for accuracy"
   ]
  },
  {
   "cell_type": "code",
   "execution_count": 25,
   "metadata": {
    "collapsed": true
   },
   "outputs": [],
   "source": [
    "# T-SNE model\n",
    "tsne = TSNE(n_components=2, \n",
    "            perplexity=30, \n",
    "            early_exaggeration=4.,\n",
    "            learning_rate=1000,\n",
    "            init=\"pca\", \n",
    "            metric=\"euclidean\")"
   ]
  },
  {
   "cell_type": "markdown",
   "metadata": {},
   "source": [
    "#### Deep feature representation from Laplacian Eigenvalues"
   ]
  },
  {
   "cell_type": "code",
   "execution_count": 26,
   "metadata": {},
   "outputs": [
    {
     "name": "stdout",
     "output_type": "stream",
     "text": [
      "CPU times: user 29 s, sys: 2.9 s, total: 31.9 s\n",
      "Wall time: 32.8 s\n"
     ]
    }
   ],
   "source": [
    "%%time\n",
    "rand_deep_features = deep_features[idx_sample]\n",
    "tsne_deep = tsne.fit_transform(rand_deep_features)"
   ]
  },
  {
   "cell_type": "code",
   "execution_count": 27,
   "metadata": {},
   "outputs": [
    {
     "data": {
      "text/html": [
       "\n",
       "\n",
       "    <div class=\"bk-root\">\n",
       "        <div class=\"bk-plotdiv\" id=\"cc446a34-f56e-42e5-b37e-6198c639320b\"></div>\n",
       "    </div>\n",
       "<script type=\"text/javascript\">\n",
       "  \n",
       "  (function(global) {\n",
       "    function now() {\n",
       "      return new Date();\n",
       "    }\n",
       "  \n",
       "    var force = false;\n",
       "  \n",
       "    if (typeof (window._bokeh_onload_callbacks) === \"undefined\" || force === true) {\n",
       "      window._bokeh_onload_callbacks = [];\n",
       "      window._bokeh_is_loading = undefined;\n",
       "    }\n",
       "  \n",
       "  \n",
       "    \n",
       "    if (typeof (window._bokeh_timeout) === \"undefined\" || force === true) {\n",
       "      window._bokeh_timeout = Date.now() + 0;\n",
       "      window._bokeh_failed_load = false;\n",
       "    }\n",
       "  \n",
       "    var NB_LOAD_WARNING = {'data': {'text/html':\n",
       "       \"<div style='background-color: #fdd'>\\n\"+\n",
       "       \"<p>\\n\"+\n",
       "       \"BokehJS does not appear to have successfully loaded. If loading BokehJS from CDN, this \\n\"+\n",
       "       \"may be due to a slow or bad network connection. Possible fixes:\\n\"+\n",
       "       \"</p>\\n\"+\n",
       "       \"<ul>\\n\"+\n",
       "       \"<li>re-rerun `output_notebook()` to attempt to load from CDN again, or</li>\\n\"+\n",
       "       \"<li>use INLINE resources instead, as so:</li>\\n\"+\n",
       "       \"</ul>\\n\"+\n",
       "       \"<code>\\n\"+\n",
       "       \"from bokeh.resources import INLINE\\n\"+\n",
       "       \"output_notebook(resources=INLINE)\\n\"+\n",
       "       \"</code>\\n\"+\n",
       "       \"</div>\"}};\n",
       "  \n",
       "    function display_loaded() {\n",
       "      if (window.Bokeh !== undefined) {\n",
       "        var el = document.getElementById(\"cc446a34-f56e-42e5-b37e-6198c639320b\");\n",
       "        el.textContent = \"BokehJS \" + Bokeh.version + \" successfully loaded.\";\n",
       "      } else if (Date.now() < window._bokeh_timeout) {\n",
       "        setTimeout(display_loaded, 100)\n",
       "      }\n",
       "    }\n",
       "  \n",
       "    function run_callbacks() {\n",
       "      try {\n",
       "        window._bokeh_onload_callbacks.forEach(function(callback) { callback() });\n",
       "      }\n",
       "      finally {\n",
       "        delete window._bokeh_onload_callbacks\n",
       "      }\n",
       "      console.info(\"Bokeh: all callbacks have finished\");\n",
       "    }\n",
       "  \n",
       "    function load_libs(js_urls, callback) {\n",
       "      window._bokeh_onload_callbacks.push(callback);\n",
       "      if (window._bokeh_is_loading > 0) {\n",
       "        console.log(\"Bokeh: BokehJS is being loaded, scheduling callback at\", now());\n",
       "        return null;\n",
       "      }\n",
       "      if (js_urls == null || js_urls.length === 0) {\n",
       "        run_callbacks();\n",
       "        return null;\n",
       "      }\n",
       "      console.log(\"Bokeh: BokehJS not loaded, scheduling load and callback at\", now());\n",
       "      window._bokeh_is_loading = js_urls.length;\n",
       "      for (var i = 0; i < js_urls.length; i++) {\n",
       "        var url = js_urls[i];\n",
       "        var s = document.createElement('script');\n",
       "        s.src = url;\n",
       "        s.async = false;\n",
       "        s.onreadystatechange = s.onload = function() {\n",
       "          window._bokeh_is_loading--;\n",
       "          if (window._bokeh_is_loading === 0) {\n",
       "            console.log(\"Bokeh: all BokehJS libraries loaded\");\n",
       "            run_callbacks()\n",
       "          }\n",
       "        };\n",
       "        s.onerror = function() {\n",
       "          console.warn(\"failed to load library \" + url);\n",
       "        };\n",
       "        console.log(\"Bokeh: injecting script tag for BokehJS library: \", url);\n",
       "        document.getElementsByTagName(\"head\")[0].appendChild(s);\n",
       "      }\n",
       "    };var element = document.getElementById(\"cc446a34-f56e-42e5-b37e-6198c639320b\");\n",
       "    if (element == null) {\n",
       "      console.log(\"Bokeh: ERROR: autoload.js configured with elementid 'cc446a34-f56e-42e5-b37e-6198c639320b' but no matching script tag was found. \")\n",
       "      return false;\n",
       "    }\n",
       "  \n",
       "    var js_urls = [];\n",
       "  \n",
       "    var inline_js = [\n",
       "      function(Bokeh) {\n",
       "        (function() {\n",
       "          var fn = function() {\n",
       "            var docs_json = {\"c9d330f8-1b2d-4902-9289-fb1e16543fa1\":{\"roots\":{\"references\":[{\"attributes\":{},\"id\":\"a14ae6e5-668d-48a6-b3ef-49f73e1425df\",\"type\":\"LinearScale\"},{\"attributes\":{\"plot\":null,\"text\":\"t-sne plot - 1000 samples\"},\"id\":\"db5ddc6f-c737-492c-a545-17dc8bc55477\",\"type\":\"Title\"},{\"attributes\":{\"plot\":{\"id\":\"db5faf3d-48a0-4441-9289-4073b2326be1\",\"subtype\":\"Figure\",\"type\":\"Plot\"}},\"id\":\"0586d17c-2828-4cae-b873-425d09ef7a7f\",\"type\":\"ResetTool\"},{\"attributes\":{\"callback\":null},\"id\":\"01b80889-c8ba-498e-8dfc-cb719ddb0890\",\"type\":\"DataRange1d\"},{\"attributes\":{\"overlay\":{\"id\":\"4b0fd25e-f40f-44b5-a2e2-a8107be30da2\",\"type\":\"BoxAnnotation\"},\"plot\":{\"id\":\"db5faf3d-48a0-4441-9289-4073b2326be1\",\"subtype\":\"Figure\",\"type\":\"Plot\"}},\"id\":\"e5d74a47-38a7-47c1-b16c-b157e142d9a4\",\"type\":\"BoxZoomTool\"},{\"attributes\":{},\"id\":\"e0062ce0-1520-45f9-9c0d-9a7493977b56\",\"type\":\"BasicTicker\"},{\"attributes\":{},\"id\":\"be4ca1ca-3429-4753-b425-0836a146ee38\",\"type\":\"ToolEvents\"},{\"attributes\":{},\"id\":\"59d198f5-986a-4168-9f78-311e9a30c203\",\"type\":\"BasicTickFormatter\"},{\"attributes\":{\"callback\":null,\"column_names\":[\"x\",\"y\",\"color\"],\"data\":{\"color\":[\"Lime\",\"SlateGrey\",\"Teal\",\"SlateGrey\",\"Navy\",\"Violet\",\"SeaGreen\",\"OrangeRed\",\"Red\",\"OrangeRed\",\"Lime\",\"SpringGreen\",\"Purple\",\"Silver\",\"Turquoise\",\"Lime\",\"Turquoise\",\"Thistle\",\"OrangeRed\",\"Tomato\",\"Lime\",\"Yellow\",\"Navy\",\"Navy\",\"Lime\",\"Red\",\"Silver\",\"Purple\",\"SeaGreen\",\"Sienna\",\"SlateGrey\",\"OrangeRed\",\"Teal\",\"SpringGreen\",\"Teal\",\"Turquoise\",\"Thistle\",\"Teal\",\"SlateGrey\",\"SlateGrey\",\"SlateGrey\",\"Sienna\",\"OrangeRed\",\"Red\",\"Red\",\"Teal\",\"YellowGreen\",\"SpringGreen\",\"SeaGreen\",\"Thistle\",\"SteelBlue\",\"Tomato\",\"SlateGrey\",\"SlateGrey\",\"SteelBlue\",\"Sienna\",\"SlateGrey\",\"Sienna\",\"Black\",\"Orange\",\"Silver\",\"Black\",\"Navy\",\"SteelBlue\",\"Black\",\"SteelBlue\",\"Orange\",\"Black\",\"Red\",\"Red\",\"Silver\",\"SlateGrey\",\"Teal\",\"Purple\",\"SeaGreen\",\"Navy\",\"YellowGreen\",\"Purple\",\"Yellow\",\"Lime\",\"Thistle\",\"SpringGreen\",\"SeaGreen\",\"Teal\",\"Sienna\",\"Sienna\",\"Tomato\",\"SlateGrey\",\"Navy\",\"SpringGreen\",\"Tomato\",\"Purple\",\"SeaGreen\",\"OrangeRed\",\"SlateGrey\",\"Navy\",\"OrangeRed\",\"Teal\",\"Purple\",\"YellowGreen\",\"SteelBlue\",\"SpringGreen\",\"OrangeRed\",\"Violet\",\"Navy\",\"Orange\",\"OrangeRed\",\"Navy\",\"SeaGreen\",\"Sienna\",\"Thistle\",\"Navy\",\"SteelBlue\",\"Silver\",\"Sienna\",\"Sienna\",\"SeaGreen\",\"Turquoise\",\"Silver\",\"YellowGreen\",\"OrangeRed\",\"Navy\",\"Lime\",\"Sienna\",\"Sienna\",\"Turquoise\",\"Tomato\",\"SteelBlue\",\"Navy\",\"Red\",\"Purple\",\"SteelBlue\",\"SpringGreen\",\"Lime\",\"Purple\",\"Orange\",\"Turquoise\",\"Turquoise\",\"Violet\",\"Silver\",\"Purple\",\"Purple\",\"Thistle\",\"Thistle\",\"Purple\",\"Violet\",\"Navy\",\"Turquoise\",\"Navy\",\"YellowGreen\",\"Orange\",\"SteelBlue\",\"Orange\",\"Violet\",\"YellowGreen\",\"SeaGreen\",\"Purple\",\"Red\",\"Turquoise\",\"Teal\",\"Red\",\"Navy\",\"OrangeRed\",\"Violet\",\"Lime\",\"Teal\",\"Purple\",\"YellowGreen\",\"SteelBlue\",\"Sienna\",\"YellowGreen\",\"Violet\",\"YellowGreen\",\"SeaGreen\",\"Purple\",\"Yellow\",\"Thistle\",\"SeaGreen\",\"OrangeRed\",\"Red\",\"Turquoise\",\"Red\",\"SeaGreen\",\"Purple\",\"Teal\",\"Navy\",\"Thistle\",\"Lime\",\"SlateGrey\",\"Orange\",\"Orange\",\"SeaGreen\",\"Sienna\",\"Black\",\"Lime\",\"Thistle\",\"OrangeRed\",\"Red\",\"Teal\",\"Thistle\",\"Lime\",\"SeaGreen\",\"Sienna\",\"Sienna\",\"Sienna\",\"Black\",\"Lime\",\"SeaGreen\",\"Orange\",\"Purple\",\"Tomato\",\"Black\",\"SteelBlue\",\"Orange\",\"Thistle\",\"Thistle\",\"SteelBlue\",\"Red\",\"Teal\",\"Thistle\",\"Teal\",\"Thistle\",\"Red\",\"YellowGreen\",\"Yellow\",\"OrangeRed\",\"Thistle\",\"SeaGreen\",\"Purple\",\"Tomato\",\"Black\",\"Violet\",\"Tomato\",\"Lime\",\"SeaGreen\",\"Orange\",\"SteelBlue\",\"Orange\",\"Thistle\",\"Silver\",\"SteelBlue\",\"SeaGreen\",\"YellowGreen\",\"Black\",\"YellowGreen\",\"Black\",\"SlateGrey\",\"SeaGreen\",\"SpringGreen\",\"Navy\",\"Lime\",\"YellowGreen\",\"SpringGreen\",\"Lime\",\"Sienna\",\"Orange\",\"Tomato\",\"SpringGreen\",\"Turquoise\",\"Silver\",\"Tomato\",\"Navy\",\"Navy\",\"Teal\",\"Violet\",\"YellowGreen\",\"Lime\",\"SteelBlue\",\"Thistle\",\"Turquoise\",\"Yellow\",\"Turquoise\",\"Turquoise\",\"YellowGreen\",\"Sienna\",\"Black\",\"YellowGreen\",\"Purple\",\"Sienna\",\"Silver\",\"SpringGreen\",\"SpringGreen\",\"Purple\",\"SteelBlue\",\"Purple\",\"Sienna\",\"Yellow\",\"Sienna\",\"Black\",\"SpringGreen\",\"Violet\",\"Thistle\",\"Sienna\",\"Thistle\",\"SeaGreen\",\"Tomato\",\"SeaGreen\",\"Thistle\",\"Thistle\",\"Yellow\",\"YellowGreen\",\"Black\",\"SteelBlue\",\"Black\",\"Teal\",\"Thistle\",\"Silver\",\"Silver\",\"SteelBlue\",\"Red\",\"Sienna\",\"Tomato\",\"Red\",\"Red\",\"SpringGreen\",\"YellowGreen\",\"Purple\",\"SteelBlue\",\"Silver\",\"SteelBlue\",\"YellowGreen\",\"Sienna\",\"Turquoise\",\"Tomato\",\"Red\",\"Teal\",\"SlateGrey\",\"Violet\",\"SeaGreen\",\"YellowGreen\",\"Navy\",\"Violet\",\"Turquoise\",\"SeaGreen\",\"Violet\",\"Purple\",\"Black\",\"Black\",\"Thistle\",\"Thistle\",\"SeaGreen\",\"Black\",\"Yellow\",\"SeaGreen\",\"Lime\",\"Purple\",\"Sienna\",\"SpringGreen\",\"Thistle\",\"Teal\",\"SeaGreen\",\"Teal\",\"OrangeRed\",\"OrangeRed\",\"Lime\",\"Sienna\",\"Turquoise\",\"SpringGreen\",\"SeaGreen\",\"SpringGreen\",\"Purple\",\"Tomato\",\"Red\",\"Thistle\",\"Navy\",\"Turquoise\",\"Yellow\",\"Teal\",\"SteelBlue\",\"Black\",\"Black\",\"Teal\",\"SlateGrey\",\"Orange\",\"Red\",\"Red\",\"Navy\",\"Sienna\",\"OrangeRed\",\"Teal\",\"SlateGrey\",\"SpringGreen\",\"SteelBlue\",\"Thistle\",\"SteelBlue\",\"YellowGreen\",\"Yellow\",\"SlateGrey\",\"SpringGreen\",\"SeaGreen\",\"YellowGreen\",\"SteelBlue\",\"Black\",\"Orange\",\"Lime\",\"Lime\",\"Thistle\",\"SeaGreen\",\"YellowGreen\",\"SteelBlue\",\"Violet\",\"Navy\",\"SlateGrey\",\"SpringGreen\",\"Tomato\",\"Turquoise\",\"SeaGreen\",\"SpringGreen\",\"Orange\",\"SeaGreen\",\"Violet\",\"Silver\",\"Yellow\",\"SeaGreen\",\"Orange\",\"Navy\",\"Thistle\",\"Turquoise\",\"SteelBlue\",\"Teal\",\"Tomato\",\"Tomato\",\"Sienna\",\"Sienna\",\"Turquoise\",\"Silver\",\"Lime\",\"Orange\",\"Orange\",\"Turquoise\",\"Orange\",\"SeaGreen\",\"Turquoise\",\"Red\",\"Navy\",\"Yellow\",\"Navy\",\"Lime\",\"SpringGreen\",\"Silver\",\"Turquoise\",\"Black\",\"Silver\",\"Navy\",\"Violet\",\"Navy\",\"Yellow\",\"Sienna\",\"Yellow\",\"Teal\",\"Sienna\",\"Sienna\",\"Red\",\"Orange\",\"Red\",\"Tomato\",\"Silver\",\"Red\",\"Sienna\",\"SpringGreen\",\"Navy\",\"Yellow\",\"Black\",\"SteelBlue\",\"Lime\",\"Black\",\"SteelBlue\",\"Tomato\",\"Teal\",\"Sienna\",\"OrangeRed\",\"Teal\",\"SlateGrey\",\"Navy\",\"Orange\",\"Yellow\",\"Thistle\",\"YellowGreen\",\"Teal\",\"SlateGrey\",\"Turquoise\",\"Navy\",\"SpringGreen\",\"OrangeRed\",\"Orange\",\"Teal\",\"SlateGrey\",\"Violet\",\"Teal\",\"Thistle\",\"Turquoise\",\"Black\",\"Teal\",\"Turquoise\",\"Purple\",\"Sienna\",\"Navy\",\"Black\",\"OrangeRed\",\"Tomato\",\"SeaGreen\",\"SteelBlue\",\"Tomato\",\"Violet\",\"OrangeRed\",\"Yellow\",\"SlateGrey\",\"Turquoise\",\"Orange\",\"Tomato\",\"Violet\",\"Tomato\",\"Navy\",\"Orange\",\"Black\",\"Orange\",\"SlateGrey\",\"Orange\",\"Yellow\",\"Orange\",\"Red\",\"SpringGreen\",\"SlateGrey\",\"Turquoise\",\"Yellow\",\"Black\",\"Tomato\",\"SlateGrey\",\"Sienna\",\"SpringGreen\",\"SteelBlue\",\"Violet\",\"Orange\",\"SlateGrey\",\"SteelBlue\",\"Navy\",\"Sienna\",\"OrangeRed\",\"Red\",\"Teal\",\"Black\",\"Purple\",\"Turquoise\",\"Purple\",\"Navy\",\"Violet\",\"Silver\",\"OrangeRed\",\"Tomato\",\"Orange\",\"Sienna\",\"Orange\",\"Silver\",\"Silver\",\"Turquoise\",\"Violet\",\"Silver\",\"Yellow\",\"Turquoise\",\"Sienna\",\"Black\",\"Sienna\",\"Black\",\"Teal\",\"Purple\",\"Tomato\",\"SteelBlue\",\"SteelBlue\",\"SeaGreen\",\"Sienna\",\"Navy\",\"Red\",\"Teal\",\"SteelBlue\",\"SpringGreen\",\"Violet\",\"Purple\",\"Silver\",\"Thistle\",\"OrangeRed\",\"SpringGreen\",\"SlateGrey\",\"Turquoise\",\"OrangeRed\",\"YellowGreen\",\"Red\",\"Tomato\",\"Turquoise\",\"SeaGreen\",\"Sienna\",\"Lime\",\"Silver\",\"Violet\",\"Navy\",\"Violet\",\"Navy\",\"SlateGrey\",\"OrangeRed\",\"YellowGreen\",\"Red\",\"Thistle\",\"YellowGreen\",\"Violet\",\"Turquoise\",\"Red\",\"SteelBlue\",\"Navy\",\"Sienna\",\"Sienna\",\"Silver\",\"Navy\",\"Orange\",\"Turquoise\",\"SlateGrey\",\"SeaGreen\",\"Teal\",\"Teal\",\"Tomato\",\"Yellow\",\"Sienna\",\"Yellow\",\"Teal\",\"Navy\",\"Turquoise\",\"Purple\",\"Black\",\"Thistle\",\"SpringGreen\",\"Thistle\",\"Red\",\"SteelBlue\",\"Navy\",\"Thistle\",\"Navy\",\"SlateGrey\",\"Black\",\"Teal\",\"SeaGreen\",\"Thistle\",\"SeaGreen\",\"Navy\",\"SeaGreen\",\"Sienna\",\"OrangeRed\",\"Turquoise\",\"Lime\",\"SteelBlue\",\"SpringGreen\",\"Navy\",\"Thistle\",\"Red\",\"Turquoise\",\"Black\",\"SteelBlue\",\"Orange\",\"Red\",\"Violet\",\"Teal\",\"SlateGrey\",\"YellowGreen\",\"Violet\",\"SlateGrey\",\"Navy\",\"SteelBlue\",\"Navy\",\"Silver\",\"Yellow\",\"Purple\",\"Tomato\",\"Sienna\",\"Tomato\",\"Tomato\",\"Turquoise\",\"Orange\",\"Yellow\",\"Orange\",\"Tomato\",\"OrangeRed\",\"Sienna\",\"SpringGreen\",\"Orange\",\"SlateGrey\",\"SlateGrey\",\"Turquoise\",\"Sienna\",\"Thistle\",\"OrangeRed\",\"Tomato\",\"YellowGreen\",\"Teal\",\"SlateGrey\",\"Sienna\",\"Purple\",\"Orange\",\"Black\",\"Lime\",\"Turquoise\",\"Orange\",\"SeaGreen\",\"Yellow\",\"Turquoise\",\"Yellow\",\"Purple\",\"Navy\",\"Lime\",\"Teal\",\"Sienna\",\"Red\",\"Lime\",\"Tomato\",\"Tomato\",\"SpringGreen\",\"SeaGreen\",\"Silver\",\"Turquoise\",\"Red\",\"Violet\",\"Orange\",\"Turquoise\",\"SlateGrey\",\"Yellow\",\"OrangeRed\",\"SlateGrey\",\"Black\",\"Teal\",\"Sienna\",\"Orange\",\"OrangeRed\",\"SpringGreen\",\"Navy\",\"Violet\",\"YellowGreen\",\"Red\",\"SeaGreen\",\"Purple\",\"Navy\",\"Violet\",\"Turquoise\",\"Silver\",\"Teal\",\"Navy\",\"Purple\",\"Tomato\",\"Thistle\",\"Violet\",\"Lime\",\"Sienna\",\"Sienna\",\"Silver\",\"SteelBlue\",\"Yellow\",\"Sienna\",\"Turquoise\",\"Tomato\",\"Navy\",\"Navy\",\"Silver\",\"Red\",\"Turquoise\",\"Tomato\",\"Yellow\",\"Sienna\",\"SlateGrey\",\"Thistle\",\"Sienna\",\"Yellow\",\"Lime\",\"Purple\",\"Lime\",\"Sienna\",\"Yellow\",\"Turquoise\",\"Turquoise\",\"SlateGrey\",\"Silver\",\"Lime\",\"Lime\",\"Thistle\",\"Red\",\"Silver\",\"YellowGreen\",\"Orange\",\"SeaGreen\",\"Black\",\"Thistle\",\"Violet\",\"Teal\",\"YellowGreen\",\"Orange\",\"SteelBlue\",\"Tomato\",\"Teal\",\"SeaGreen\",\"Red\",\"SlateGrey\",\"Sienna\",\"Thistle\",\"Black\",\"Navy\",\"Sienna\",\"Teal\",\"Silver\",\"Thistle\",\"Orange\",\"Yellow\",\"SlateGrey\",\"Yellow\",\"YellowGreen\",\"Lime\",\"Teal\",\"Tomato\",\"Tomato\",\"SeaGreen\",\"Orange\",\"Lime\",\"Yellow\",\"Sienna\",\"Orange\",\"SpringGreen\",\"Thistle\",\"Navy\",\"Orange\",\"SlateGrey\",\"OrangeRed\",\"Navy\",\"Sienna\",\"Turquoise\",\"Yellow\",\"Black\",\"SeaGreen\",\"OrangeRed\",\"Teal\",\"Tomato\",\"Teal\",\"Yellow\",\"Red\",\"Navy\",\"YellowGreen\",\"Black\",\"Red\",\"Silver\",\"Violet\",\"Navy\",\"YellowGreen\",\"Red\",\"Sienna\",\"Yellow\",\"Tomato\",\"Turquoise\",\"Black\",\"OrangeRed\",\"Tomato\",\"Yellow\",\"Teal\",\"Teal\",\"Purple\",\"Red\",\"SeaGreen\",\"Thistle\",\"Orange\",\"SlateGrey\",\"Sienna\",\"Sienna\",\"Sienna\",\"SpringGreen\",\"SpringGreen\",\"Tomato\",\"YellowGreen\",\"Yellow\",\"Turquoise\",\"Navy\",\"Sienna\",\"Lime\",\"Tomato\",\"Purple\",\"Tomato\",\"Navy\",\"Orange\",\"Lime\",\"SpringGreen\",\"SteelBlue\",\"SteelBlue\",\"Thistle\",\"OrangeRed\",\"YellowGreen\",\"SteelBlue\",\"Purple\",\"Violet\",\"SeaGreen\",\"Violet\",\"Tomato\",\"SlateGrey\",\"Black\",\"Sienna\",\"Violet\",\"Silver\",\"Lime\",\"Violet\",\"Turquoise\",\"SlateGrey\",\"Tomato\",\"OrangeRed\",\"SpringGreen\",\"Black\",\"Red\",\"SpringGreen\",\"Lime\",\"Orange\",\"SpringGreen\",\"Violet\",\"YellowGreen\",\"Teal\",\"Thistle\",\"SteelBlue\",\"Orange\",\"Red\",\"Turquoise\",\"Silver\",\"Thistle\",\"Sienna\",\"YellowGreen\",\"SteelBlue\",\"Orange\",\"Thistle\",\"Sienna\",\"YellowGreen\",\"Black\",\"SteelBlue\",\"Thistle\",\"Lime\",\"Yellow\",\"OrangeRed\",\"Orange\",\"Teal\",\"Purple\",\"YellowGreen\",\"Turquoise\",\"Lime\",\"SeaGreen\",\"Orange\",\"OrangeRed\",\"Black\",\"Violet\",\"Silver\",\"Tomato\",\"Red\",\"SeaGreen\",\"SeaGreen\",\"Silver\",\"YellowGreen\",\"Thistle\",\"Tomato\",\"Lime\",\"Yellow\",\"Navy\",\"Black\",\"Silver\",\"OrangeRed\",\"OrangeRed\",\"Navy\",\"SteelBlue\",\"Lime\",\"Teal\",\"Red\",\"Navy\",\"Orange\",\"Tomato\",\"SlateGrey\",\"Violet\",\"Navy\",\"OrangeRed\",\"YellowGreen\",\"SteelBlue\",\"Purple\",\"Orange\",\"Yellow\",\"Violet\",\"Teal\",\"Teal\",\"Violet\",\"Orange\",\"Sienna\",\"Purple\",\"Teal\",\"Sienna\",\"Navy\",\"OrangeRed\",\"Sienna\",\"Sienna\",\"Lime\",\"YellowGreen\",\"Teal\",\"Orange\",\"Sienna\",\"SteelBlue\",\"Turquoise\",\"Purple\",\"YellowGreen\",\"Turquoise\",\"Silver\"],\"x\":{\"__ndarray__\":\"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\",\"dtype\":\"float32\",\"shape\":[1000]},\"y\":{\"__ndarray__\":\"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\",\"dtype\":\"float32\",\"shape\":[1000]}}},\"id\":\"be41bc64-1455-4aaa-8253-68a16940e2ba\",\"type\":\"ColumnDataSource\"},{\"attributes\":{\"fill_alpha\":{\"value\":0.7},\"fill_color\":{\"field\":\"color\"},\"line_color\":{\"field\":\"color\"},\"size\":{\"units\":\"screen\",\"value\":7},\"x\":{\"field\":\"x\"},\"y\":{\"field\":\"y\"}},\"id\":\"e7f096d1-9bd3-4573-b566-0009c0b4165f\",\"type\":\"Circle\"},{\"attributes\":{\"plot\":{\"id\":\"db5faf3d-48a0-4441-9289-4073b2326be1\",\"subtype\":\"Figure\",\"type\":\"Plot\"}},\"id\":\"35fe9455-d134-4f1b-96ca-d5eaed2dfbd1\",\"type\":\"RedoTool\"},{\"attributes\":{},\"id\":\"fe84e1be-fb71-4d0f-81bb-0cd634d318ad\",\"type\":\"BasicTicker\"},{\"attributes\":{\"callback\":null},\"id\":\"625057db-bf7c-46c1-9610-42d722e4c47c\",\"type\":\"DataRange1d\"},{\"attributes\":{\"fill_alpha\":{\"value\":0.1},\"fill_color\":{\"value\":\"#1f77b4\"},\"line_alpha\":{\"value\":0.1},\"line_color\":{\"value\":\"#1f77b4\"},\"size\":{\"units\":\"screen\",\"value\":7},\"x\":{\"field\":\"x\"},\"y\":{\"field\":\"y\"}},\"id\":\"e3135f46-21ad-44f7-9e35-f7b344d6311e\",\"type\":\"Circle\"},{\"attributes\":{\"grid_line_color\":{\"value\":null},\"plot\":{\"id\":\"db5faf3d-48a0-4441-9289-4073b2326be1\",\"subtype\":\"Figure\",\"type\":\"Plot\"},\"ticker\":{\"id\":\"fe84e1be-fb71-4d0f-81bb-0cd634d318ad\",\"type\":\"BasicTicker\"}},\"id\":\"3539af30-a7da-4bda-8f91-e83e15e11064\",\"type\":\"Grid\"},{\"attributes\":{\"formatter\":{\"id\":\"ebe3a0e3-fef2-44a1-9de9-31d6bbe79829\",\"type\":\"BasicTickFormatter\"},\"plot\":{\"id\":\"db5faf3d-48a0-4441-9289-4073b2326be1\",\"subtype\":\"Figure\",\"type\":\"Plot\"},\"ticker\":{\"id\":\"fe84e1be-fb71-4d0f-81bb-0cd634d318ad\",\"type\":\"BasicTicker\"}},\"id\":\"b04fc023-bed4-4d94-908a-ee99cbd2f39b\",\"type\":\"LinearAxis\"},{\"attributes\":{\"plot\":{\"id\":\"db5faf3d-48a0-4441-9289-4073b2326be1\",\"subtype\":\"Figure\",\"type\":\"Plot\"}},\"id\":\"abe4f8dc-c77b-4cda-8493-8952ddaca591\",\"type\":\"WheelZoomTool\"},{\"attributes\":{},\"id\":\"32056a6a-8768-4dc3-9bfd-6dee3353a959\",\"type\":\"LinearScale\"},{\"attributes\":{},\"id\":\"ebe3a0e3-fef2-44a1-9de9-31d6bbe79829\",\"type\":\"BasicTickFormatter\"},{\"attributes\":{\"formatter\":{\"id\":\"59d198f5-986a-4168-9f78-311e9a30c203\",\"type\":\"BasicTickFormatter\"},\"plot\":{\"id\":\"db5faf3d-48a0-4441-9289-4073b2326be1\",\"subtype\":\"Figure\",\"type\":\"Plot\"},\"ticker\":{\"id\":\"e0062ce0-1520-45f9-9c0d-9a7493977b56\",\"type\":\"BasicTicker\"}},\"id\":\"c79c7189-e644-4375-af9c-1081debc0090\",\"type\":\"LinearAxis\"},{\"attributes\":{\"below\":[{\"id\":\"b04fc023-bed4-4d94-908a-ee99cbd2f39b\",\"type\":\"LinearAxis\"}],\"left\":[{\"id\":\"c79c7189-e644-4375-af9c-1081debc0090\",\"type\":\"LinearAxis\"}],\"renderers\":[{\"id\":\"b04fc023-bed4-4d94-908a-ee99cbd2f39b\",\"type\":\"LinearAxis\"},{\"id\":\"3539af30-a7da-4bda-8f91-e83e15e11064\",\"type\":\"Grid\"},{\"id\":\"c79c7189-e644-4375-af9c-1081debc0090\",\"type\":\"LinearAxis\"},{\"id\":\"f41c7033-b31c-4c90-9255-f9ade267128b\",\"type\":\"Grid\"},{\"id\":\"4b0fd25e-f40f-44b5-a2e2-a8107be30da2\",\"type\":\"BoxAnnotation\"},{\"id\":\"0e5c4510-2da8-44f8-913a-1d52c160944c\",\"type\":\"GlyphRenderer\"}],\"title\":{\"id\":\"db5ddc6f-c737-492c-a545-17dc8bc55477\",\"type\":\"Title\"},\"tool_events\":{\"id\":\"be4ca1ca-3429-4753-b425-0836a146ee38\",\"type\":\"ToolEvents\"},\"toolbar\":{\"id\":\"b657a7fa-4610-4582-a366-f69e34892829\",\"type\":\"Toolbar\"},\"x_range\":{\"id\":\"01b80889-c8ba-498e-8dfc-cb719ddb0890\",\"type\":\"DataRange1d\"},\"x_scale\":{\"id\":\"32056a6a-8768-4dc3-9bfd-6dee3353a959\",\"type\":\"LinearScale\"},\"y_range\":{\"id\":\"625057db-bf7c-46c1-9610-42d722e4c47c\",\"type\":\"DataRange1d\"},\"y_scale\":{\"id\":\"a14ae6e5-668d-48a6-b3ef-49f73e1425df\",\"type\":\"LinearScale\"}},\"id\":\"db5faf3d-48a0-4441-9289-4073b2326be1\",\"subtype\":\"Figure\",\"type\":\"Plot\"},{\"attributes\":{\"bottom_units\":\"screen\",\"fill_alpha\":{\"value\":0.5},\"fill_color\":{\"value\":\"lightgrey\"},\"left_units\":\"screen\",\"level\":\"overlay\",\"line_alpha\":{\"value\":1.0},\"line_color\":{\"value\":\"black\"},\"line_dash\":[4,4],\"line_width\":{\"value\":2},\"plot\":null,\"render_mode\":\"css\",\"right_units\":\"screen\",\"top_units\":\"screen\"},\"id\":\"4b0fd25e-f40f-44b5-a2e2-a8107be30da2\",\"type\":\"BoxAnnotation\"},{\"attributes\":{\"active_drag\":\"auto\",\"active_inspect\":\"auto\",\"active_scroll\":\"auto\",\"active_tap\":\"auto\",\"tools\":[{\"id\":\"abe4f8dc-c77b-4cda-8493-8952ddaca591\",\"type\":\"WheelZoomTool\"},{\"id\":\"0586d17c-2828-4cae-b873-425d09ef7a7f\",\"type\":\"ResetTool\"},{\"id\":\"35fe9455-d134-4f1b-96ca-d5eaed2dfbd1\",\"type\":\"RedoTool\"},{\"id\":\"e5d74a47-38a7-47c1-b16c-b157e142d9a4\",\"type\":\"BoxZoomTool\"}]},\"id\":\"b657a7fa-4610-4582-a366-f69e34892829\",\"type\":\"Toolbar\"},{\"attributes\":{\"dimension\":1,\"grid_line_color\":{\"value\":null},\"plot\":{\"id\":\"db5faf3d-48a0-4441-9289-4073b2326be1\",\"subtype\":\"Figure\",\"type\":\"Plot\"},\"ticker\":{\"id\":\"e0062ce0-1520-45f9-9c0d-9a7493977b56\",\"type\":\"BasicTicker\"}},\"id\":\"f41c7033-b31c-4c90-9255-f9ade267128b\",\"type\":\"Grid\"},{\"attributes\":{\"data_source\":{\"id\":\"be41bc64-1455-4aaa-8253-68a16940e2ba\",\"type\":\"ColumnDataSource\"},\"glyph\":{\"id\":\"e7f096d1-9bd3-4573-b566-0009c0b4165f\",\"type\":\"Circle\"},\"hover_glyph\":null,\"muted_glyph\":null,\"nonselection_glyph\":{\"id\":\"e3135f46-21ad-44f7-9e35-f7b344d6311e\",\"type\":\"Circle\"},\"selection_glyph\":null},\"id\":\"0e5c4510-2da8-44f8-913a-1d52c160944c\",\"type\":\"GlyphRenderer\"}],\"root_ids\":[\"db5faf3d-48a0-4441-9289-4073b2326be1\"]},\"title\":\"Bokeh Application\",\"version\":\"0.12.6\"}};\n",
       "            var render_items = [{\"docid\":\"c9d330f8-1b2d-4902-9289-fb1e16543fa1\",\"elementid\":\"cc446a34-f56e-42e5-b37e-6198c639320b\",\"modelid\":\"db5faf3d-48a0-4441-9289-4073b2326be1\"}];\n",
       "            \n",
       "            Bokeh.embed.embed_items(docs_json, render_items);\n",
       "          };\n",
       "          if (document.readyState != \"loading\") fn();\n",
       "          else document.addEventListener(\"DOMContentLoaded\", fn);\n",
       "        })();\n",
       "      },\n",
       "      function(Bokeh) {\n",
       "      }\n",
       "    ];\n",
       "  \n",
       "    function run_inline_js() {\n",
       "      \n",
       "      if ((window.Bokeh !== undefined) || (force === true)) {\n",
       "        for (var i = 0; i < inline_js.length; i++) {\n",
       "          inline_js[i](window.Bokeh);\n",
       "        }if (force === true) {\n",
       "          display_loaded();\n",
       "        }} else if (Date.now() < window._bokeh_timeout) {\n",
       "        setTimeout(run_inline_js, 100);\n",
       "      } else if (!window._bokeh_failed_load) {\n",
       "        console.log(\"Bokeh: BokehJS failed to load within specified timeout.\");\n",
       "        window._bokeh_failed_load = true;\n",
       "      } else if (force !== true) {\n",
       "        var cell = $(document.getElementById(\"cc446a34-f56e-42e5-b37e-6198c639320b\")).parents('.cell').data().cell;\n",
       "        cell.output_area.append_execute_result(NB_LOAD_WARNING)\n",
       "      }\n",
       "  \n",
       "    }\n",
       "  \n",
       "    if (window._bokeh_is_loading === 0) {\n",
       "      console.log(\"Bokeh: BokehJS loaded, going straight to plotting\");\n",
       "      run_inline_js();\n",
       "    } else {\n",
       "      load_libs(js_urls, function() {\n",
       "        console.log(\"Bokeh: BokehJS plotting callback run at\", now());\n",
       "        run_inline_js();\n",
       "      });\n",
       "    }\n",
       "  }(this));\n",
       "</script>"
      ]
     },
     "metadata": {},
     "output_type": "display_data"
    }
   ],
   "source": [
    "visu.cluster2d(*tsne_deep.T, colors=colors, height=600, width=600, size=7)"
   ]
  },
  {
   "cell_type": "markdown",
   "metadata": {},
   "source": [
    "####  LSA"
   ]
  },
  {
   "cell_type": "code",
   "execution_count": 28,
   "metadata": {},
   "outputs": [
    {
     "name": "stdout",
     "output_type": "stream",
     "text": [
      "CPU times: user 27.9 s, sys: 2.9 s, total: 30.8 s\n",
      "Wall time: 32.1 s\n"
     ]
    }
   ],
   "source": [
    "%%time\n",
    "tsne_lsa = tsne.fit_transform(lsa_features[idx_sample])"
   ]
  },
  {
   "cell_type": "code",
   "execution_count": 29,
   "metadata": {},
   "outputs": [
    {
     "data": {
      "text/html": [
       "\n",
       "\n",
       "    <div class=\"bk-root\">\n",
       "        <div class=\"bk-plotdiv\" id=\"3b6165d4-4670-4d84-a7c9-ec60a3db5c35\"></div>\n",
       "    </div>\n",
       "<script type=\"text/javascript\">\n",
       "  \n",
       "  (function(global) {\n",
       "    function now() {\n",
       "      return new Date();\n",
       "    }\n",
       "  \n",
       "    var force = false;\n",
       "  \n",
       "    if (typeof (window._bokeh_onload_callbacks) === \"undefined\" || force === true) {\n",
       "      window._bokeh_onload_callbacks = [];\n",
       "      window._bokeh_is_loading = undefined;\n",
       "    }\n",
       "  \n",
       "  \n",
       "    \n",
       "    if (typeof (window._bokeh_timeout) === \"undefined\" || force === true) {\n",
       "      window._bokeh_timeout = Date.now() + 0;\n",
       "      window._bokeh_failed_load = false;\n",
       "    }\n",
       "  \n",
       "    var NB_LOAD_WARNING = {'data': {'text/html':\n",
       "       \"<div style='background-color: #fdd'>\\n\"+\n",
       "       \"<p>\\n\"+\n",
       "       \"BokehJS does not appear to have successfully loaded. If loading BokehJS from CDN, this \\n\"+\n",
       "       \"may be due to a slow or bad network connection. Possible fixes:\\n\"+\n",
       "       \"</p>\\n\"+\n",
       "       \"<ul>\\n\"+\n",
       "       \"<li>re-rerun `output_notebook()` to attempt to load from CDN again, or</li>\\n\"+\n",
       "       \"<li>use INLINE resources instead, as so:</li>\\n\"+\n",
       "       \"</ul>\\n\"+\n",
       "       \"<code>\\n\"+\n",
       "       \"from bokeh.resources import INLINE\\n\"+\n",
       "       \"output_notebook(resources=INLINE)\\n\"+\n",
       "       \"</code>\\n\"+\n",
       "       \"</div>\"}};\n",
       "  \n",
       "    function display_loaded() {\n",
       "      if (window.Bokeh !== undefined) {\n",
       "        var el = document.getElementById(\"3b6165d4-4670-4d84-a7c9-ec60a3db5c35\");\n",
       "        el.textContent = \"BokehJS \" + Bokeh.version + \" successfully loaded.\";\n",
       "      } else if (Date.now() < window._bokeh_timeout) {\n",
       "        setTimeout(display_loaded, 100)\n",
       "      }\n",
       "    }\n",
       "  \n",
       "    function run_callbacks() {\n",
       "      try {\n",
       "        window._bokeh_onload_callbacks.forEach(function(callback) { callback() });\n",
       "      }\n",
       "      finally {\n",
       "        delete window._bokeh_onload_callbacks\n",
       "      }\n",
       "      console.info(\"Bokeh: all callbacks have finished\");\n",
       "    }\n",
       "  \n",
       "    function load_libs(js_urls, callback) {\n",
       "      window._bokeh_onload_callbacks.push(callback);\n",
       "      if (window._bokeh_is_loading > 0) {\n",
       "        console.log(\"Bokeh: BokehJS is being loaded, scheduling callback at\", now());\n",
       "        return null;\n",
       "      }\n",
       "      if (js_urls == null || js_urls.length === 0) {\n",
       "        run_callbacks();\n",
       "        return null;\n",
       "      }\n",
       "      console.log(\"Bokeh: BokehJS not loaded, scheduling load and callback at\", now());\n",
       "      window._bokeh_is_loading = js_urls.length;\n",
       "      for (var i = 0; i < js_urls.length; i++) {\n",
       "        var url = js_urls[i];\n",
       "        var s = document.createElement('script');\n",
       "        s.src = url;\n",
       "        s.async = false;\n",
       "        s.onreadystatechange = s.onload = function() {\n",
       "          window._bokeh_is_loading--;\n",
       "          if (window._bokeh_is_loading === 0) {\n",
       "            console.log(\"Bokeh: all BokehJS libraries loaded\");\n",
       "            run_callbacks()\n",
       "          }\n",
       "        };\n",
       "        s.onerror = function() {\n",
       "          console.warn(\"failed to load library \" + url);\n",
       "        };\n",
       "        console.log(\"Bokeh: injecting script tag for BokehJS library: \", url);\n",
       "        document.getElementsByTagName(\"head\")[0].appendChild(s);\n",
       "      }\n",
       "    };var element = document.getElementById(\"3b6165d4-4670-4d84-a7c9-ec60a3db5c35\");\n",
       "    if (element == null) {\n",
       "      console.log(\"Bokeh: ERROR: autoload.js configured with elementid '3b6165d4-4670-4d84-a7c9-ec60a3db5c35' but no matching script tag was found. \")\n",
       "      return false;\n",
       "    }\n",
       "  \n",
       "    var js_urls = [];\n",
       "  \n",
       "    var inline_js = [\n",
       "      function(Bokeh) {\n",
       "        (function() {\n",
       "          var fn = function() {\n",
       "            var docs_json = {\"0e7a8ad4-5aba-45aa-939c-11b11226fdd3\":{\"roots\":{\"references\":[{\"attributes\":{\"fill_alpha\":{\"value\":0.1},\"fill_color\":{\"value\":\"#1f77b4\"},\"line_alpha\":{\"value\":0.1},\"line_color\":{\"value\":\"#1f77b4\"},\"size\":{\"units\":\"screen\",\"value\":7},\"x\":{\"field\":\"x\"},\"y\":{\"field\":\"y\"}},\"id\":\"48d4a1ab-521f-4c0b-bdb2-e321e42664d4\",\"type\":\"Circle\"},{\"attributes\":{},\"id\":\"5b911490-778a-4b18-8e83-94e014dc30c8\",\"type\":\"ToolEvents\"},{\"attributes\":{\"data_source\":{\"id\":\"ee23f807-e522-4ad3-8fd7-d175526b93db\",\"type\":\"ColumnDataSource\"},\"glyph\":{\"id\":\"1652639e-35bd-4afd-b469-5150a75138d5\",\"type\":\"Circle\"},\"hover_glyph\":null,\"muted_glyph\":null,\"nonselection_glyph\":{\"id\":\"48d4a1ab-521f-4c0b-bdb2-e321e42664d4\",\"type\":\"Circle\"},\"selection_glyph\":null},\"id\":\"7e35b2ac-bae7-4820-b000-44a192dff72a\",\"type\":\"GlyphRenderer\"},{\"attributes\":{\"plot\":null,\"text\":\"t-sne plot - 1000 samples\"},\"id\":\"8745babf-a07d-4e63-bc88-f6856caf503d\",\"type\":\"Title\"},{\"attributes\":{},\"id\":\"74553bd2-3135-4ea0-99ee-18902d60757f\",\"type\":\"BasicTickFormatter\"},{\"attributes\":{\"bottom_units\":\"screen\",\"fill_alpha\":{\"value\":0.5},\"fill_color\":{\"value\":\"lightgrey\"},\"left_units\":\"screen\",\"level\":\"overlay\",\"line_alpha\":{\"value\":1.0},\"line_color\":{\"value\":\"black\"},\"line_dash\":[4,4],\"line_width\":{\"value\":2},\"plot\":null,\"render_mode\":\"css\",\"right_units\":\"screen\",\"top_units\":\"screen\"},\"id\":\"ba4767e1-6c23-45a6-a3e8-bdeb571a041f\",\"type\":\"BoxAnnotation\"},{\"attributes\":{\"active_drag\":\"auto\",\"active_inspect\":\"auto\",\"active_scroll\":\"auto\",\"active_tap\":\"auto\",\"tools\":[{\"id\":\"b41baa88-9bbd-4bfb-8007-2fd25cd27b9b\",\"type\":\"WheelZoomTool\"},{\"id\":\"b5f5fd5a-bf19-49b5-9dc4-c2d21b24f25f\",\"type\":\"ResetTool\"},{\"id\":\"328d524b-8e58-4fdb-a522-e04e794cc141\",\"type\":\"RedoTool\"},{\"id\":\"0512b875-5f5e-4371-b015-f4664930aa89\",\"type\":\"BoxZoomTool\"}]},\"id\":\"5645df83-ff44-4641-aa4a-619e3870819e\",\"type\":\"Toolbar\"},{\"attributes\":{},\"id\":\"49d5be42-056d-4dbe-8209-e5331085cc52\",\"type\":\"LinearScale\"},{\"attributes\":{\"callback\":null},\"id\":\"7cb14f5a-84f8-4cf0-8f17-1afaec05e7d7\",\"type\":\"DataRange1d\"},{\"attributes\":{\"grid_line_color\":{\"value\":null},\"plot\":{\"id\":\"00747053-15cd-44de-a9d8-4788d3777ce8\",\"subtype\":\"Figure\",\"type\":\"Plot\"},\"ticker\":{\"id\":\"15d12d3b-a098-4ff0-b80d-79d8d1acb8b8\",\"type\":\"BasicTicker\"}},\"id\":\"9602fea7-c239-4111-beaf-2cef37d6b7a0\",\"type\":\"Grid\"},{\"attributes\":{\"below\":[{\"id\":\"711f8f99-ba28-419b-bc86-e09c6049a3ed\",\"type\":\"LinearAxis\"}],\"left\":[{\"id\":\"0a60fcde-5f0f-4f47-9f2b-67630d16a517\",\"type\":\"LinearAxis\"}],\"renderers\":[{\"id\":\"711f8f99-ba28-419b-bc86-e09c6049a3ed\",\"type\":\"LinearAxis\"},{\"id\":\"9602fea7-c239-4111-beaf-2cef37d6b7a0\",\"type\":\"Grid\"},{\"id\":\"0a60fcde-5f0f-4f47-9f2b-67630d16a517\",\"type\":\"LinearAxis\"},{\"id\":\"0e47c4db-0f33-4251-b64d-7f034830d21a\",\"type\":\"Grid\"},{\"id\":\"ba4767e1-6c23-45a6-a3e8-bdeb571a041f\",\"type\":\"BoxAnnotation\"},{\"id\":\"7e35b2ac-bae7-4820-b000-44a192dff72a\",\"type\":\"GlyphRenderer\"}],\"title\":{\"id\":\"8745babf-a07d-4e63-bc88-f6856caf503d\",\"type\":\"Title\"},\"tool_events\":{\"id\":\"5b911490-778a-4b18-8e83-94e014dc30c8\",\"type\":\"ToolEvents\"},\"toolbar\":{\"id\":\"5645df83-ff44-4641-aa4a-619e3870819e\",\"type\":\"Toolbar\"},\"x_range\":{\"id\":\"7cb14f5a-84f8-4cf0-8f17-1afaec05e7d7\",\"type\":\"DataRange1d\"},\"x_scale\":{\"id\":\"49d5be42-056d-4dbe-8209-e5331085cc52\",\"type\":\"LinearScale\"},\"y_range\":{\"id\":\"3b91cf29-41ab-4998-85ae-765224ce83a1\",\"type\":\"DataRange1d\"},\"y_scale\":{\"id\":\"ffa7c02e-1c7e-44dd-af78-8ffbb57895d0\",\"type\":\"LinearScale\"}},\"id\":\"00747053-15cd-44de-a9d8-4788d3777ce8\",\"subtype\":\"Figure\",\"type\":\"Plot\"},{\"attributes\":{},\"id\":\"15d12d3b-a098-4ff0-b80d-79d8d1acb8b8\",\"type\":\"BasicTicker\"},{\"attributes\":{},\"id\":\"ffa7c02e-1c7e-44dd-af78-8ffbb57895d0\",\"type\":\"LinearScale\"},{\"attributes\":{\"callback\":null},\"id\":\"3b91cf29-41ab-4998-85ae-765224ce83a1\",\"type\":\"DataRange1d\"},{\"attributes\":{},\"id\":\"3b0d6fc9-be36-4b4f-9463-8cce17807184\",\"type\":\"BasicTicker\"},{\"attributes\":{\"dimension\":1,\"grid_line_color\":{\"value\":null},\"plot\":{\"id\":\"00747053-15cd-44de-a9d8-4788d3777ce8\",\"subtype\":\"Figure\",\"type\":\"Plot\"},\"ticker\":{\"id\":\"3b0d6fc9-be36-4b4f-9463-8cce17807184\",\"type\":\"BasicTicker\"}},\"id\":\"0e47c4db-0f33-4251-b64d-7f034830d21a\",\"type\":\"Grid\"},{\"attributes\":{\"overlay\":{\"id\":\"ba4767e1-6c23-45a6-a3e8-bdeb571a041f\",\"type\":\"BoxAnnotation\"},\"plot\":{\"id\":\"00747053-15cd-44de-a9d8-4788d3777ce8\",\"subtype\":\"Figure\",\"type\":\"Plot\"}},\"id\":\"0512b875-5f5e-4371-b015-f4664930aa89\",\"type\":\"BoxZoomTool\"},{\"attributes\":{\"formatter\":{\"id\":\"fcbd1985-07a3-4586-8d5d-dd282581ac65\",\"type\":\"BasicTickFormatter\"},\"plot\":{\"id\":\"00747053-15cd-44de-a9d8-4788d3777ce8\",\"subtype\":\"Figure\",\"type\":\"Plot\"},\"ticker\":{\"id\":\"15d12d3b-a098-4ff0-b80d-79d8d1acb8b8\",\"type\":\"BasicTicker\"}},\"id\":\"711f8f99-ba28-419b-bc86-e09c6049a3ed\",\"type\":\"LinearAxis\"},{\"attributes\":{\"plot\":{\"id\":\"00747053-15cd-44de-a9d8-4788d3777ce8\",\"subtype\":\"Figure\",\"type\":\"Plot\"}},\"id\":\"b5f5fd5a-bf19-49b5-9dc4-c2d21b24f25f\",\"type\":\"ResetTool\"},{\"attributes\":{\"formatter\":{\"id\":\"74553bd2-3135-4ea0-99ee-18902d60757f\",\"type\":\"BasicTickFormatter\"},\"plot\":{\"id\":\"00747053-15cd-44de-a9d8-4788d3777ce8\",\"subtype\":\"Figure\",\"type\":\"Plot\"},\"ticker\":{\"id\":\"3b0d6fc9-be36-4b4f-9463-8cce17807184\",\"type\":\"BasicTicker\"}},\"id\":\"0a60fcde-5f0f-4f47-9f2b-67630d16a517\",\"type\":\"LinearAxis\"},{\"attributes\":{\"plot\":{\"id\":\"00747053-15cd-44de-a9d8-4788d3777ce8\",\"subtype\":\"Figure\",\"type\":\"Plot\"}},\"id\":\"328d524b-8e58-4fdb-a522-e04e794cc141\",\"type\":\"RedoTool\"},{\"attributes\":{\"plot\":{\"id\":\"00747053-15cd-44de-a9d8-4788d3777ce8\",\"subtype\":\"Figure\",\"type\":\"Plot\"}},\"id\":\"b41baa88-9bbd-4bfb-8007-2fd25cd27b9b\",\"type\":\"WheelZoomTool\"},{\"attributes\":{},\"id\":\"fcbd1985-07a3-4586-8d5d-dd282581ac65\",\"type\":\"BasicTickFormatter\"},{\"attributes\":{\"callback\":null,\"column_names\":[\"x\",\"y\",\"color\"],\"data\":{\"color\":[\"Lime\",\"SlateGrey\",\"Teal\",\"SlateGrey\",\"Navy\",\"Violet\",\"SeaGreen\",\"OrangeRed\",\"Red\",\"OrangeRed\",\"Lime\",\"SpringGreen\",\"Purple\",\"Silver\",\"Turquoise\",\"Lime\",\"Turquoise\",\"Thistle\",\"OrangeRed\",\"Tomato\",\"Lime\",\"Yellow\",\"Navy\",\"Navy\",\"Lime\",\"Red\",\"Silver\",\"Purple\",\"SeaGreen\",\"Sienna\",\"SlateGrey\",\"OrangeRed\",\"Teal\",\"SpringGreen\",\"Teal\",\"Turquoise\",\"Thistle\",\"Teal\",\"SlateGrey\",\"SlateGrey\",\"SlateGrey\",\"Sienna\",\"OrangeRed\",\"Red\",\"Red\",\"Teal\",\"YellowGreen\",\"SpringGreen\",\"SeaGreen\",\"Thistle\",\"SteelBlue\",\"Tomato\",\"SlateGrey\",\"SlateGrey\",\"SteelBlue\",\"Sienna\",\"SlateGrey\",\"Sienna\",\"Black\",\"Orange\",\"Silver\",\"Black\",\"Navy\",\"SteelBlue\",\"Black\",\"SteelBlue\",\"Orange\",\"Black\",\"Red\",\"Red\",\"Silver\",\"SlateGrey\",\"Teal\",\"Purple\",\"SeaGreen\",\"Navy\",\"YellowGreen\",\"Purple\",\"Yellow\",\"Lime\",\"Thistle\",\"SpringGreen\",\"SeaGreen\",\"Teal\",\"Sienna\",\"Sienna\",\"Tomato\",\"SlateGrey\",\"Navy\",\"SpringGreen\",\"Tomato\",\"Purple\",\"SeaGreen\",\"OrangeRed\",\"SlateGrey\",\"Navy\",\"OrangeRed\",\"Teal\",\"Purple\",\"YellowGreen\",\"SteelBlue\",\"SpringGreen\",\"OrangeRed\",\"Violet\",\"Navy\",\"Orange\",\"OrangeRed\",\"Navy\",\"SeaGreen\",\"Sienna\",\"Thistle\",\"Navy\",\"SteelBlue\",\"Silver\",\"Sienna\",\"Sienna\",\"SeaGreen\",\"Turquoise\",\"Silver\",\"YellowGreen\",\"OrangeRed\",\"Navy\",\"Lime\",\"Sienna\",\"Sienna\",\"Turquoise\",\"Tomato\",\"SteelBlue\",\"Navy\",\"Red\",\"Purple\",\"SteelBlue\",\"SpringGreen\",\"Lime\",\"Purple\",\"Orange\",\"Turquoise\",\"Turquoise\",\"Violet\",\"Silver\",\"Purple\",\"Purple\",\"Thistle\",\"Thistle\",\"Purple\",\"Violet\",\"Navy\",\"Turquoise\",\"Navy\",\"YellowGreen\",\"Orange\",\"SteelBlue\",\"Orange\",\"Violet\",\"YellowGreen\",\"SeaGreen\",\"Purple\",\"Red\",\"Turquoise\",\"Teal\",\"Red\",\"Navy\",\"OrangeRed\",\"Violet\",\"Lime\",\"Teal\",\"Purple\",\"YellowGreen\",\"SteelBlue\",\"Sienna\",\"YellowGreen\",\"Violet\",\"YellowGreen\",\"SeaGreen\",\"Purple\",\"Yellow\",\"Thistle\",\"SeaGreen\",\"OrangeRed\",\"Red\",\"Turquoise\",\"Red\",\"SeaGreen\",\"Purple\",\"Teal\",\"Navy\",\"Thistle\",\"Lime\",\"SlateGrey\",\"Orange\",\"Orange\",\"SeaGreen\",\"Sienna\",\"Black\",\"Lime\",\"Thistle\",\"OrangeRed\",\"Red\",\"Teal\",\"Thistle\",\"Lime\",\"SeaGreen\",\"Sienna\",\"Sienna\",\"Sienna\",\"Black\",\"Lime\",\"SeaGreen\",\"Orange\",\"Purple\",\"Tomato\",\"Black\",\"SteelBlue\",\"Orange\",\"Thistle\",\"Thistle\",\"SteelBlue\",\"Red\",\"Teal\",\"Thistle\",\"Teal\",\"Thistle\",\"Red\",\"YellowGreen\",\"Yellow\",\"OrangeRed\",\"Thistle\",\"SeaGreen\",\"Purple\",\"Tomato\",\"Black\",\"Violet\",\"Tomato\",\"Lime\",\"SeaGreen\",\"Orange\",\"SteelBlue\",\"Orange\",\"Thistle\",\"Silver\",\"SteelBlue\",\"SeaGreen\",\"YellowGreen\",\"Black\",\"YellowGreen\",\"Black\",\"SlateGrey\",\"SeaGreen\",\"SpringGreen\",\"Navy\",\"Lime\",\"YellowGreen\",\"SpringGreen\",\"Lime\",\"Sienna\",\"Orange\",\"Tomato\",\"SpringGreen\",\"Turquoise\",\"Silver\",\"Tomato\",\"Navy\",\"Navy\",\"Teal\",\"Violet\",\"YellowGreen\",\"Lime\",\"SteelBlue\",\"Thistle\",\"Turquoise\",\"Yellow\",\"Turquoise\",\"Turquoise\",\"YellowGreen\",\"Sienna\",\"Black\",\"YellowGreen\",\"Purple\",\"Sienna\",\"Silver\",\"SpringGreen\",\"SpringGreen\",\"Purple\",\"SteelBlue\",\"Purple\",\"Sienna\",\"Yellow\",\"Sienna\",\"Black\",\"SpringGreen\",\"Violet\",\"Thistle\",\"Sienna\",\"Thistle\",\"SeaGreen\",\"Tomato\",\"SeaGreen\",\"Thistle\",\"Thistle\",\"Yellow\",\"YellowGreen\",\"Black\",\"SteelBlue\",\"Black\",\"Teal\",\"Thistle\",\"Silver\",\"Silver\",\"SteelBlue\",\"Red\",\"Sienna\",\"Tomato\",\"Red\",\"Red\",\"SpringGreen\",\"YellowGreen\",\"Purple\",\"SteelBlue\",\"Silver\",\"SteelBlue\",\"YellowGreen\",\"Sienna\",\"Turquoise\",\"Tomato\",\"Red\",\"Teal\",\"SlateGrey\",\"Violet\",\"SeaGreen\",\"YellowGreen\",\"Navy\",\"Violet\",\"Turquoise\",\"SeaGreen\",\"Violet\",\"Purple\",\"Black\",\"Black\",\"Thistle\",\"Thistle\",\"SeaGreen\",\"Black\",\"Yellow\",\"SeaGreen\",\"Lime\",\"Purple\",\"Sienna\",\"SpringGreen\",\"Thistle\",\"Teal\",\"SeaGreen\",\"Teal\",\"OrangeRed\",\"OrangeRed\",\"Lime\",\"Sienna\",\"Turquoise\",\"SpringGreen\",\"SeaGreen\",\"SpringGreen\",\"Purple\",\"Tomato\",\"Red\",\"Thistle\",\"Navy\",\"Turquoise\",\"Yellow\",\"Teal\",\"SteelBlue\",\"Black\",\"Black\",\"Teal\",\"SlateGrey\",\"Orange\",\"Red\",\"Red\",\"Navy\",\"Sienna\",\"OrangeRed\",\"Teal\",\"SlateGrey\",\"SpringGreen\",\"SteelBlue\",\"Thistle\",\"SteelBlue\",\"YellowGreen\",\"Yellow\",\"SlateGrey\",\"SpringGreen\",\"SeaGreen\",\"YellowGreen\",\"SteelBlue\",\"Black\",\"Orange\",\"Lime\",\"Lime\",\"Thistle\",\"SeaGreen\",\"YellowGreen\",\"SteelBlue\",\"Violet\",\"Navy\",\"SlateGrey\",\"SpringGreen\",\"Tomato\",\"Turquoise\",\"SeaGreen\",\"SpringGreen\",\"Orange\",\"SeaGreen\",\"Violet\",\"Silver\",\"Yellow\",\"SeaGreen\",\"Orange\",\"Navy\",\"Thistle\",\"Turquoise\",\"SteelBlue\",\"Teal\",\"Tomato\",\"Tomato\",\"Sienna\",\"Sienna\",\"Turquoise\",\"Silver\",\"Lime\",\"Orange\",\"Orange\",\"Turquoise\",\"Orange\",\"SeaGreen\",\"Turquoise\",\"Red\",\"Navy\",\"Yellow\",\"Navy\",\"Lime\",\"SpringGreen\",\"Silver\",\"Turquoise\",\"Black\",\"Silver\",\"Navy\",\"Violet\",\"Navy\",\"Yellow\",\"Sienna\",\"Yellow\",\"Teal\",\"Sienna\",\"Sienna\",\"Red\",\"Orange\",\"Red\",\"Tomato\",\"Silver\",\"Red\",\"Sienna\",\"SpringGreen\",\"Navy\",\"Yellow\",\"Black\",\"SteelBlue\",\"Lime\",\"Black\",\"SteelBlue\",\"Tomato\",\"Teal\",\"Sienna\",\"OrangeRed\",\"Teal\",\"SlateGrey\",\"Navy\",\"Orange\",\"Yellow\",\"Thistle\",\"YellowGreen\",\"Teal\",\"SlateGrey\",\"Turquoise\",\"Navy\",\"SpringGreen\",\"OrangeRed\",\"Orange\",\"Teal\",\"SlateGrey\",\"Violet\",\"Teal\",\"Thistle\",\"Turquoise\",\"Black\",\"Teal\",\"Turquoise\",\"Purple\",\"Sienna\",\"Navy\",\"Black\",\"OrangeRed\",\"Tomato\",\"SeaGreen\",\"SteelBlue\",\"Tomato\",\"Violet\",\"OrangeRed\",\"Yellow\",\"SlateGrey\",\"Turquoise\",\"Orange\",\"Tomato\",\"Violet\",\"Tomato\",\"Navy\",\"Orange\",\"Black\",\"Orange\",\"SlateGrey\",\"Orange\",\"Yellow\",\"Orange\",\"Red\",\"SpringGreen\",\"SlateGrey\",\"Turquoise\",\"Yellow\",\"Black\",\"Tomato\",\"SlateGrey\",\"Sienna\",\"SpringGreen\",\"SteelBlue\",\"Violet\",\"Orange\",\"SlateGrey\",\"SteelBlue\",\"Navy\",\"Sienna\",\"OrangeRed\",\"Red\",\"Teal\",\"Black\",\"Purple\",\"Turquoise\",\"Purple\",\"Navy\",\"Violet\",\"Silver\",\"OrangeRed\",\"Tomato\",\"Orange\",\"Sienna\",\"Orange\",\"Silver\",\"Silver\",\"Turquoise\",\"Violet\",\"Silver\",\"Yellow\",\"Turquoise\",\"Sienna\",\"Black\",\"Sienna\",\"Black\",\"Teal\",\"Purple\",\"Tomato\",\"SteelBlue\",\"SteelBlue\",\"SeaGreen\",\"Sienna\",\"Navy\",\"Red\",\"Teal\",\"SteelBlue\",\"SpringGreen\",\"Violet\",\"Purple\",\"Silver\",\"Thistle\",\"OrangeRed\",\"SpringGreen\",\"SlateGrey\",\"Turquoise\",\"OrangeRed\",\"YellowGreen\",\"Red\",\"Tomato\",\"Turquoise\",\"SeaGreen\",\"Sienna\",\"Lime\",\"Silver\",\"Violet\",\"Navy\",\"Violet\",\"Navy\",\"SlateGrey\",\"OrangeRed\",\"YellowGreen\",\"Red\",\"Thistle\",\"YellowGreen\",\"Violet\",\"Turquoise\",\"Red\",\"SteelBlue\",\"Navy\",\"Sienna\",\"Sienna\",\"Silver\",\"Navy\",\"Orange\",\"Turquoise\",\"SlateGrey\",\"SeaGreen\",\"Teal\",\"Teal\",\"Tomato\",\"Yellow\",\"Sienna\",\"Yellow\",\"Teal\",\"Navy\",\"Turquoise\",\"Purple\",\"Black\",\"Thistle\",\"SpringGreen\",\"Thistle\",\"Red\",\"SteelBlue\",\"Navy\",\"Thistle\",\"Navy\",\"SlateGrey\",\"Black\",\"Teal\",\"SeaGreen\",\"Thistle\",\"SeaGreen\",\"Navy\",\"SeaGreen\",\"Sienna\",\"OrangeRed\",\"Turquoise\",\"Lime\",\"SteelBlue\",\"SpringGreen\",\"Navy\",\"Thistle\",\"Red\",\"Turquoise\",\"Black\",\"SteelBlue\",\"Orange\",\"Red\",\"Violet\",\"Teal\",\"SlateGrey\",\"YellowGreen\",\"Violet\",\"SlateGrey\",\"Navy\",\"SteelBlue\",\"Navy\",\"Silver\",\"Yellow\",\"Purple\",\"Tomato\",\"Sienna\",\"Tomato\",\"Tomato\",\"Turquoise\",\"Orange\",\"Yellow\",\"Orange\",\"Tomato\",\"OrangeRed\",\"Sienna\",\"SpringGreen\",\"Orange\",\"SlateGrey\",\"SlateGrey\",\"Turquoise\",\"Sienna\",\"Thistle\",\"OrangeRed\",\"Tomato\",\"YellowGreen\",\"Teal\",\"SlateGrey\",\"Sienna\",\"Purple\",\"Orange\",\"Black\",\"Lime\",\"Turquoise\",\"Orange\",\"SeaGreen\",\"Yellow\",\"Turquoise\",\"Yellow\",\"Purple\",\"Navy\",\"Lime\",\"Teal\",\"Sienna\",\"Red\",\"Lime\",\"Tomato\",\"Tomato\",\"SpringGreen\",\"SeaGreen\",\"Silver\",\"Turquoise\",\"Red\",\"Violet\",\"Orange\",\"Turquoise\",\"SlateGrey\",\"Yellow\",\"OrangeRed\",\"SlateGrey\",\"Black\",\"Teal\",\"Sienna\",\"Orange\",\"OrangeRed\",\"SpringGreen\",\"Navy\",\"Violet\",\"YellowGreen\",\"Red\",\"SeaGreen\",\"Purple\",\"Navy\",\"Violet\",\"Turquoise\",\"Silver\",\"Teal\",\"Navy\",\"Purple\",\"Tomato\",\"Thistle\",\"Violet\",\"Lime\",\"Sienna\",\"Sienna\",\"Silver\",\"SteelBlue\",\"Yellow\",\"Sienna\",\"Turquoise\",\"Tomato\",\"Navy\",\"Navy\",\"Silver\",\"Red\",\"Turquoise\",\"Tomato\",\"Yellow\",\"Sienna\",\"SlateGrey\",\"Thistle\",\"Sienna\",\"Yellow\",\"Lime\",\"Purple\",\"Lime\",\"Sienna\",\"Yellow\",\"Turquoise\",\"Turquoise\",\"SlateGrey\",\"Silver\",\"Lime\",\"Lime\",\"Thistle\",\"Red\",\"Silver\",\"YellowGreen\",\"Orange\",\"SeaGreen\",\"Black\",\"Thistle\",\"Violet\",\"Teal\",\"YellowGreen\",\"Orange\",\"SteelBlue\",\"Tomato\",\"Teal\",\"SeaGreen\",\"Red\",\"SlateGrey\",\"Sienna\",\"Thistle\",\"Black\",\"Navy\",\"Sienna\",\"Teal\",\"Silver\",\"Thistle\",\"Orange\",\"Yellow\",\"SlateGrey\",\"Yellow\",\"YellowGreen\",\"Lime\",\"Teal\",\"Tomato\",\"Tomato\",\"SeaGreen\",\"Orange\",\"Lime\",\"Yellow\",\"Sienna\",\"Orange\",\"SpringGreen\",\"Thistle\",\"Navy\",\"Orange\",\"SlateGrey\",\"OrangeRed\",\"Navy\",\"Sienna\",\"Turquoise\",\"Yellow\",\"Black\",\"SeaGreen\",\"OrangeRed\",\"Teal\",\"Tomato\",\"Teal\",\"Yellow\",\"Red\",\"Navy\",\"YellowGreen\",\"Black\",\"Red\",\"Silver\",\"Violet\",\"Navy\",\"YellowGreen\",\"Red\",\"Sienna\",\"Yellow\",\"Tomato\",\"Turquoise\",\"Black\",\"OrangeRed\",\"Tomato\",\"Yellow\",\"Teal\",\"Teal\",\"Purple\",\"Red\",\"SeaGreen\",\"Thistle\",\"Orange\",\"SlateGrey\",\"Sienna\",\"Sienna\",\"Sienna\",\"SpringGreen\",\"SpringGreen\",\"Tomato\",\"YellowGreen\",\"Yellow\",\"Turquoise\",\"Navy\",\"Sienna\",\"Lime\",\"Tomato\",\"Purple\",\"Tomato\",\"Navy\",\"Orange\",\"Lime\",\"SpringGreen\",\"SteelBlue\",\"SteelBlue\",\"Thistle\",\"OrangeRed\",\"YellowGreen\",\"SteelBlue\",\"Purple\",\"Violet\",\"SeaGreen\",\"Violet\",\"Tomato\",\"SlateGrey\",\"Black\",\"Sienna\",\"Violet\",\"Silver\",\"Lime\",\"Violet\",\"Turquoise\",\"SlateGrey\",\"Tomato\",\"OrangeRed\",\"SpringGreen\",\"Black\",\"Red\",\"SpringGreen\",\"Lime\",\"Orange\",\"SpringGreen\",\"Violet\",\"YellowGreen\",\"Teal\",\"Thistle\",\"SteelBlue\",\"Orange\",\"Red\",\"Turquoise\",\"Silver\",\"Thistle\",\"Sienna\",\"YellowGreen\",\"SteelBlue\",\"Orange\",\"Thistle\",\"Sienna\",\"YellowGreen\",\"Black\",\"SteelBlue\",\"Thistle\",\"Lime\",\"Yellow\",\"OrangeRed\",\"Orange\",\"Teal\",\"Purple\",\"YellowGreen\",\"Turquoise\",\"Lime\",\"SeaGreen\",\"Orange\",\"OrangeRed\",\"Black\",\"Violet\",\"Silver\",\"Tomato\",\"Red\",\"SeaGreen\",\"SeaGreen\",\"Silver\",\"YellowGreen\",\"Thistle\",\"Tomato\",\"Lime\",\"Yellow\",\"Navy\",\"Black\",\"Silver\",\"OrangeRed\",\"OrangeRed\",\"Navy\",\"SteelBlue\",\"Lime\",\"Teal\",\"Red\",\"Navy\",\"Orange\",\"Tomato\",\"SlateGrey\",\"Violet\",\"Navy\",\"OrangeRed\",\"YellowGreen\",\"SteelBlue\",\"Purple\",\"Orange\",\"Yellow\",\"Violet\",\"Teal\",\"Teal\",\"Violet\",\"Orange\",\"Sienna\",\"Purple\",\"Teal\",\"Sienna\",\"Navy\",\"OrangeRed\",\"Sienna\",\"Sienna\",\"Lime\",\"YellowGreen\",\"Teal\",\"Orange\",\"Sienna\",\"SteelBlue\",\"Turquoise\",\"Purple\",\"YellowGreen\",\"Turquoise\",\"Silver\"],\"x\":{\"__ndarray__\":\"8kDkwa4WckEbXBhBb+pUwU2licHsZgVAABQjQbzDKsJIocfBu67QwW3v6MERG7DBZlfLwCjxlMF0X/dA3CfTwVR/k8DA/grBZdCbQYkYc8Godv7B+eLpwSE828FT7OPBlgUHwgF04MH2ovJA9UJQQG3nWUGn6i1C6hPtQIMdKsIqD+JB8xeOQHBll7+1FdJBWEP+QEUd30ENLa9BqoA3QQSmTUGq9jVCkeixwXdEAcF+jcjAHKW1QZkOv8ETsQS9zIkMQbn3wUGMQOjBZR9sQTJSPUG3GvZAtQ2ywGdQ+0HEjTBBmQQeQsYiDEKjHx7CmrX0wJHS4UFHLLI/L0GZQMIjH0JSut/BdfkWQDI+D0L541xA0is1wRLJycEYno+/VQVNQV5tq8Cvkm5BAsENwu6di0Dt8zBBSPs8QRNS+sEuL+5Al2GiwYbVicFj905Bst4MQvI2C0JzHcbBiLZMQeIU5sGhaKnBp9L/QaDqvsEMBJ9B/0fkwSg10kCGezfAd7xqQWNnwUFbvG8/ceNUQByviT++nK/B/ZeJwY+clcH0DuXBNFgRwII3LcJoG6fBiduyQerOHUK1cUnBXjzbwaaL5cG4CRHBlrMQQiXs/UHIlRzBmc6hwVYI18GRrCrAA5HkQBOah8H6fPbBaJo9Qgx8MUL+4wfCWFGiwaaPNcHK1bDBCPNJQUraU8GmhqtB7LiEwbuNBcLDourB+H0jwotkh8EM1pvBhFPVwVJO1sC9xMJBwLHsQIfM88DZqQlCbgEmQQHTzME/SgdB+DGmwU/BZsEYFPjBqyDRvrfACcIXL2pBfzx9we8g38FjcdpAgFifQWhWGsIGzdPBblGOweIEqMH4ExzC2fUWQQFIEMFZYQjC1E7SQOyFSUFKB/Q/nAWbQWwPB0JkmxJBebzQwWuKM8HC3WpART/QwMxbFcEo98FB9cG6QNcIBsJiADPC7pWbwfEWGcIdFE9AC4sywJjqIkFJkqLBIv33QcmOB8LByNlBwsEQQBn2VEAdFE9AOT8aQsuXWsGVJAXC7bQZQrZQGsErj6vBt0UgQVSipUE/3vDBwLEGQf43J0KOvvtBNsDdQNgkFkKKOvPBgggxQnSavkFwbjlBVj/4QV2b3kFN6xfBkdURwGrnL8GXVFBBfnVmQUjXXMC/VMhBR3FJwcBVMkH9dW5B2EI/wU9LhMCuk1/BHyv5wKjmFUIYlaBAkinUQIKCrkF/IBJCcpIAwh6M7EFJgvfBD+k9QVpW3cA3WAHACx6RwcD+CsG1stzBI5U0QcE/a0FEdubBwh1FQY9yMT/pexJCsL8WQerJI8Ljz/7AXf6owfJA5MFl8OTBtINawUrkssGCqwZCgibxQMmZAUL5xwTCCgi6wX9jtkDD4Z9B0AaiwSfVLcHMzJFBolu0wFPnvME0OAzCLKgAwdDJ+MEsFYLBWXwAwgp5oUFB1/vBDDLGwXxeEUJbWSHBUShJwaT36UEIp/ZBOw4DwnBorUCsYaPBjeGOwJxJBMKEPmTAJwcXQvEg2UBxAyFCb1UAwk3xmsEdJIfBpMqxQXyRG0JXZuvAO9XyQZJQ3MGdEMNABNZjQeKWVEABCFA/ky07wcQ3DMGlSZvByWXqQRMd10EEsZ7AW36VQdKIYMHA8LdB71sgwl+dG0L0VvJBx30KwvfnCMJN4lzB4MTjweKLqsGNSMjBd2ZAweTDp0CCbYfB2YPIQcJ+T0ER6/9Bzs9dQR/HrcAFVahAGn7/wJNFXEF6MHxBQVhAPzx410DjBQLBYMRDQQ1v38GVCpPBA1CtwQNQrcHHwkNCniwQQcCCJUF9uOBBkLspQqq4ikFabwLCQlcbwKXjMUI6Tng/Tjy/QcCSxEENLwfCJqi6v8S648GDHSrC77bfwaeIJUKHnJTByFylwZROh0CcKojBkBEgwgWaAULw9OlAkhAnQfkD2cFgaPzB3kVvwahzxEBZv6BBcWoHQfmQdz+ieuI/aKIUwFszskBW+KJBwvPJQJxM1kETeiFCCCTeQA5kocGqIJPBeM8dQUN6DcD+Ba5BGKlvwTNAyUFM3HPBlDxbQWihq8HvXlhBMDXrwWWcmEC2bwFCv5MxwNxKqcGCydzBnbXXQerGwkAbQc7BVKRRwTz2Y8FgvC/A/QxaQYPbDMJRGtJB4e/hwWfWZkG3eKnBwBwlwqPUFUGaFgHBEuumwXjWoEENOQBBeephwXu1ysEqNMtBptfEwcsV3sE6p68/MGzLQSsSzkFAkQBCNMopQk47t8Fr0DvBrjkEwl6wrz0jXW1B8UFywbKJHMFQyNZAgq/fQUFLW8FS0CTCfWK3QGBgk8E4UOvBKmmGwSydvEEUvbnBXlgXQtBYQMFVnKrBFN6kwAaIc8AT3KdBKgn9QZIGUsGcg+I//1c1Qgj0HEIMj/bBNuNswMAfx8GMnddBtYF6QEZeCsJ2mT1C6oA0QVZ7FMIzBiTCzObLQd6hN0D0JLfBOTnrQVm/oEFQk5xBzBeawJ5FC0JO0JtB797QP4YnjEHaxCFBePkrwkzcc8FtMBNCLEPdwYBb2UEh0mtBi4iIwIXdm8FsuwbCFxXAQRT73j8cpbVBrBgGQU8lfcEC6X3AmAOsQRqJAkLdFv1BnAalwRwFp8AoowXAm3MHQrVcFMKa0wZB3tPpwQvx+UEyJiBBjEylQWF/v0E4w6DBeiSQPzFqz8HTQ31Bpy20wUcjf8DB1e1BSQMVwWoi0UFk8BvCqyDRvhg4G0LbCbxAT6EsQb9nKcBsl7RB1rz3v7yUFMKiB6nBb3FYQT9qv8FHwobBIyKcQQ/vAkIGmXRBjU04Qmk5ocEsqADBuoriQfuMosDGgIlBFQSZvySt8cE6fgpCTMmEQQTlv0HmTfVBVeIjwZXF78B4HYDBNZISwd2xx8HmUAtBeOQEwrGdnsFEE/BBXMcXQWUA3UGy9jFAIX0IwdB/GcLLv+tALVcmwVSfa0H6HerBu3G+wR14HUISdY3Bep4LQihIv0EYurDB8Uz6wSRhuEFbn4HB+RXywdokicGAuQxC1q3awdutC8LJ6aDAmZE1wWBSXUFp4hbBIj0HQKykEcH5UVtBCCTeQMafCMIjloJBQOatwZJh5MF8iKtBrX8awpg/+EHsddnBR5OJP2LoL0LEkazB56+bwai/FMK1XBTCY4vcQXAXuEG8XRJB0h22wZ7n68G97BLCswV2wFWOwcFBvaTA15iAwZF8FMHzMb1BknkWwtHRMEJUpMdBEay9P7M3tUFEndc/THrMQCnjRkERHhxBhyrQQf/3q0GezRTCyocSwfg5F0JRgyTCXcTWwcpSz0CuqMXBKLOUQSKFHMG5qoRBQLK0wX4ancGFIhXCc1sxwiOXbEGUIZpBU7uxwSM5acFR4Q1C1NaewF6j3kDqqQlCSPm/QMh62cFlCqdACygYQuVWvD9OeVzB13+ZwS+avsBm4gS+L4M9QtX/ykGCEqFBBZOowf/0/0EUcEu+ufukwQo6AMIvSg/BHDzEQXeuLEFeMrRBbjLrQWoJIsJMKOXBBqyUQcizD0GI2qHBXtjfwWJQ4cHx+65BPisDQvnzU0ESAYPBMoOpwcdZk8ExqCDBCzE/wEjd38G0qIXBcM0bQgu7q8ES/6RB+q75wbca9kDsbsLBWnIrQrkHLDy0f+TAjGa3QWm6lMGi9A5BnoKywJLeF0I+H5hA9nHgv7aEGUJh6rXBBs3TwXJioUE/FAlBntyRQdWYXcFKzUbAqRlxwZyxx8H9Wb3BTq8rQNxeG0IPOR/CFf/awUYem0FqAwFCHLmqwWfWZkExFvzBMJ7GwSyvI8JYnHDBKl7OQGEDw8EpLYFBgBtnwfnhC8JGK4VBVQURQq4r0cD8l95BS7CZwe1o6cBukATByFPMQcRxU8GrQnDBS2CqwKQRrkFTrrTAW9aLQMPEoMFV/brBpsJEwd/A8ECxWr1BQ3OrwLTwlUFprt1AgV+KwZQ3/MHwLRFCaG03QrC/UsHkgAFCk+KNQWE6EkIIGgDC9ULDQT9KB0ESHqLBgieUwUMaukBgTPJA8dUCQirPLkKvJBlCkq7ZwYIFhUHUaC5CsllVwcakt8H45pjB7pLVwfwhLELWOprBVFHOwTwmp8BntyFByJLnwQne98Ere/PBAmWUQe5QzcEAEqtBYKdQwdRVJ8FSSE1BuZWxQcnucUGovxTCWf9SQWbgl8FIM4LA7Ok/QZ5t/kEHZ7hBH0p/wCbGHsKcqRTBoE4sQmLBtkFAh4hBh+mewa3dDkIcPMRBPFWNQNcdeEEGfRHBwASiwY+ExUHvasjBeHmowQOIr8F1NSlB4SHRQVd1j8EtTdJAlfriwfFDBcIqMSfCrSkxQl/RPcBcF2jBdXSAQcowZUCqA15BSPrVQbY4QkLycanB5TEUQv0/lsFnFONBQyW1QULfJ0G1J7JBjoG4QVmtk0FaXdhBUj5iQUT0nMEuOI/B96oxQUONokFb0QbCHw9iwZaioUEN6K5BEXewwdHEXMDsbjdCZcr9wQrLtUHe299B5M8NQgGTDsFPbORB4R7twEwcI0Eb8e5B+jwJwn6XtMFdmgVBKh4iwXszhz/ajh9BgJYtQiy7F0LrZCRCV4n0wEwFmcFGaeFBE73wwQcNA8L79ajBLmDywWxQFUJBFqnB9cAFQltJUED5xgpCIJdsQSKdgsH3ALzBio26wUcRocCvS9jA30rgwWFExcHMEgdB7pwywTtFtcFGQpnBHk4uQY5CJsIOSwBCHm0kQfE0G0JjPCBCXYgLwqqWDMHFT/DBvzgLwfeeU78aj7/AF/zZQeucdMG+nK/BrTAZQuQVukHAo7PBg9+qwZ+k2UELhIpBVdgkwUWdi0At+ZRBBdrdQZqg1UHcT1rBYgAzwuY8sMFC6KbBMBWWQdBuAMF5zgXCYmVRwVyH38HN2wpBK+YvQnbM9MGD0OhBO/Ivwdcys0GUZfTBdpkGwpfiuEGWPIjAMIPxQRTG478naQDCILyzwUwF1cHnC7TA0LRYQSJ4+MAlZLBBHs2qwEOKjcH5xgpCPUtJwbdEOkEdmkJBvivUwDWX28Fvokw8EgGDwbFQ7MGym8TASQbWwP4jAME7657B+LAiwimuj0HCUNW/xwLhwXXfs8F+RXVBqcewwc3XrMG5gjw/PD4FQor7mcHUVVDButiUweBD18Cqq/rBI8JXwQ+uEUHo+jFAeZkTQY831MCpi8VBGTN/QcT628A+Kh3BGm0BQmQJvcHxmDZBh/U1QifVLcHjkMBBAIQrQmQYEkLqQrHBUwBpwcoq6kE9FjzBGu4MQkc/K0LJ3qvB8Uz6wSeYKcBd/7HBNmwfwg==\",\"dtype\":\"float32\",\"shape\":[1000]},\"y\":{\"__ndarray__\":\"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\",\"dtype\":\"float32\",\"shape\":[1000]}}},\"id\":\"ee23f807-e522-4ad3-8fd7-d175526b93db\",\"type\":\"ColumnDataSource\"},{\"attributes\":{\"fill_alpha\":{\"value\":0.7},\"fill_color\":{\"field\":\"color\"},\"line_color\":{\"field\":\"color\"},\"size\":{\"units\":\"screen\",\"value\":7},\"x\":{\"field\":\"x\"},\"y\":{\"field\":\"y\"}},\"id\":\"1652639e-35bd-4afd-b469-5150a75138d5\",\"type\":\"Circle\"}],\"root_ids\":[\"00747053-15cd-44de-a9d8-4788d3777ce8\"]},\"title\":\"Bokeh Application\",\"version\":\"0.12.6\"}};\n",
       "            var render_items = [{\"docid\":\"0e7a8ad4-5aba-45aa-939c-11b11226fdd3\",\"elementid\":\"3b6165d4-4670-4d84-a7c9-ec60a3db5c35\",\"modelid\":\"00747053-15cd-44de-a9d8-4788d3777ce8\"}];\n",
       "            \n",
       "            Bokeh.embed.embed_items(docs_json, render_items);\n",
       "          };\n",
       "          if (document.readyState != \"loading\") fn();\n",
       "          else document.addEventListener(\"DOMContentLoaded\", fn);\n",
       "        })();\n",
       "      },\n",
       "      function(Bokeh) {\n",
       "      }\n",
       "    ];\n",
       "  \n",
       "    function run_inline_js() {\n",
       "      \n",
       "      if ((window.Bokeh !== undefined) || (force === true)) {\n",
       "        for (var i = 0; i < inline_js.length; i++) {\n",
       "          inline_js[i](window.Bokeh);\n",
       "        }if (force === true) {\n",
       "          display_loaded();\n",
       "        }} else if (Date.now() < window._bokeh_timeout) {\n",
       "        setTimeout(run_inline_js, 100);\n",
       "      } else if (!window._bokeh_failed_load) {\n",
       "        console.log(\"Bokeh: BokehJS failed to load within specified timeout.\");\n",
       "        window._bokeh_failed_load = true;\n",
       "      } else if (force !== true) {\n",
       "        var cell = $(document.getElementById(\"3b6165d4-4670-4d84-a7c9-ec60a3db5c35\")).parents('.cell').data().cell;\n",
       "        cell.output_area.append_execute_result(NB_LOAD_WARNING)\n",
       "      }\n",
       "  \n",
       "    }\n",
       "  \n",
       "    if (window._bokeh_is_loading === 0) {\n",
       "      console.log(\"Bokeh: BokehJS loaded, going straight to plotting\");\n",
       "      run_inline_js();\n",
       "    } else {\n",
       "      load_libs(js_urls, function() {\n",
       "        console.log(\"Bokeh: BokehJS plotting callback run at\", now());\n",
       "        run_inline_js();\n",
       "      });\n",
       "    }\n",
       "  }(this));\n",
       "</script>"
      ]
     },
     "metadata": {},
     "output_type": "display_data"
    }
   ],
   "source": [
    "# matplotlib visualization\n",
    "visu.cluster2d(*tsne_lsa.T, colors=colors, height=600, width=600, size=7)"
   ]
  },
  {
   "cell_type": "markdown",
   "metadata": {
    "collapsed": true
   },
   "source": [
    "#### Laplacian eigenvalues"
   ]
  },
  {
   "cell_type": "code",
   "execution_count": 30,
   "metadata": {},
   "outputs": [
    {
     "name": "stdout",
     "output_type": "stream",
     "text": [
      "CPU times: user 24.7 s, sys: 2.83 s, total: 27.6 s\n",
      "Wall time: 28.8 s\n"
     ]
    }
   ],
   "source": [
    "%%time\n",
    "tsne_laplacian = tsne.fit_transform(laplacian_features[idx_sample])"
   ]
  },
  {
   "cell_type": "code",
   "execution_count": 31,
   "metadata": {},
   "outputs": [
    {
     "data": {
      "text/html": [
       "\n",
       "\n",
       "    <div class=\"bk-root\">\n",
       "        <div class=\"bk-plotdiv\" id=\"a51d3f44-539b-48a5-bf90-80182212dd78\"></div>\n",
       "    </div>\n",
       "<script type=\"text/javascript\">\n",
       "  \n",
       "  (function(global) {\n",
       "    function now() {\n",
       "      return new Date();\n",
       "    }\n",
       "  \n",
       "    var force = false;\n",
       "  \n",
       "    if (typeof (window._bokeh_onload_callbacks) === \"undefined\" || force === true) {\n",
       "      window._bokeh_onload_callbacks = [];\n",
       "      window._bokeh_is_loading = undefined;\n",
       "    }\n",
       "  \n",
       "  \n",
       "    \n",
       "    if (typeof (window._bokeh_timeout) === \"undefined\" || force === true) {\n",
       "      window._bokeh_timeout = Date.now() + 0;\n",
       "      window._bokeh_failed_load = false;\n",
       "    }\n",
       "  \n",
       "    var NB_LOAD_WARNING = {'data': {'text/html':\n",
       "       \"<div style='background-color: #fdd'>\\n\"+\n",
       "       \"<p>\\n\"+\n",
       "       \"BokehJS does not appear to have successfully loaded. If loading BokehJS from CDN, this \\n\"+\n",
       "       \"may be due to a slow or bad network connection. Possible fixes:\\n\"+\n",
       "       \"</p>\\n\"+\n",
       "       \"<ul>\\n\"+\n",
       "       \"<li>re-rerun `output_notebook()` to attempt to load from CDN again, or</li>\\n\"+\n",
       "       \"<li>use INLINE resources instead, as so:</li>\\n\"+\n",
       "       \"</ul>\\n\"+\n",
       "       \"<code>\\n\"+\n",
       "       \"from bokeh.resources import INLINE\\n\"+\n",
       "       \"output_notebook(resources=INLINE)\\n\"+\n",
       "       \"</code>\\n\"+\n",
       "       \"</div>\"}};\n",
       "  \n",
       "    function display_loaded() {\n",
       "      if (window.Bokeh !== undefined) {\n",
       "        var el = document.getElementById(\"a51d3f44-539b-48a5-bf90-80182212dd78\");\n",
       "        el.textContent = \"BokehJS \" + Bokeh.version + \" successfully loaded.\";\n",
       "      } else if (Date.now() < window._bokeh_timeout) {\n",
       "        setTimeout(display_loaded, 100)\n",
       "      }\n",
       "    }\n",
       "  \n",
       "    function run_callbacks() {\n",
       "      try {\n",
       "        window._bokeh_onload_callbacks.forEach(function(callback) { callback() });\n",
       "      }\n",
       "      finally {\n",
       "        delete window._bokeh_onload_callbacks\n",
       "      }\n",
       "      console.info(\"Bokeh: all callbacks have finished\");\n",
       "    }\n",
       "  \n",
       "    function load_libs(js_urls, callback) {\n",
       "      window._bokeh_onload_callbacks.push(callback);\n",
       "      if (window._bokeh_is_loading > 0) {\n",
       "        console.log(\"Bokeh: BokehJS is being loaded, scheduling callback at\", now());\n",
       "        return null;\n",
       "      }\n",
       "      if (js_urls == null || js_urls.length === 0) {\n",
       "        run_callbacks();\n",
       "        return null;\n",
       "      }\n",
       "      console.log(\"Bokeh: BokehJS not loaded, scheduling load and callback at\", now());\n",
       "      window._bokeh_is_loading = js_urls.length;\n",
       "      for (var i = 0; i < js_urls.length; i++) {\n",
       "        var url = js_urls[i];\n",
       "        var s = document.createElement('script');\n",
       "        s.src = url;\n",
       "        s.async = false;\n",
       "        s.onreadystatechange = s.onload = function() {\n",
       "          window._bokeh_is_loading--;\n",
       "          if (window._bokeh_is_loading === 0) {\n",
       "            console.log(\"Bokeh: all BokehJS libraries loaded\");\n",
       "            run_callbacks()\n",
       "          }\n",
       "        };\n",
       "        s.onerror = function() {\n",
       "          console.warn(\"failed to load library \" + url);\n",
       "        };\n",
       "        console.log(\"Bokeh: injecting script tag for BokehJS library: \", url);\n",
       "        document.getElementsByTagName(\"head\")[0].appendChild(s);\n",
       "      }\n",
       "    };var element = document.getElementById(\"a51d3f44-539b-48a5-bf90-80182212dd78\");\n",
       "    if (element == null) {\n",
       "      console.log(\"Bokeh: ERROR: autoload.js configured with elementid 'a51d3f44-539b-48a5-bf90-80182212dd78' but no matching script tag was found. \")\n",
       "      return false;\n",
       "    }\n",
       "  \n",
       "    var js_urls = [];\n",
       "  \n",
       "    var inline_js = [\n",
       "      function(Bokeh) {\n",
       "        (function() {\n",
       "          var fn = function() {\n",
       "            var docs_json = {\"cb0d0254-5c6f-4c4e-acbd-20d4d7d3c734\":{\"roots\":{\"references\":[{\"attributes\":{\"bottom_units\":\"screen\",\"fill_alpha\":{\"value\":0.5},\"fill_color\":{\"value\":\"lightgrey\"},\"left_units\":\"screen\",\"level\":\"overlay\",\"line_alpha\":{\"value\":1.0},\"line_color\":{\"value\":\"black\"},\"line_dash\":[4,4],\"line_width\":{\"value\":2},\"plot\":null,\"render_mode\":\"css\",\"right_units\":\"screen\",\"top_units\":\"screen\"},\"id\":\"f1ffd1fb-f1a0-47be-9a43-6647dcfda043\",\"type\":\"BoxAnnotation\"},{\"attributes\":{\"below\":[{\"id\":\"3229e1dc-fb2b-4ada-a016-fed8b6556f57\",\"type\":\"LinearAxis\"}],\"left\":[{\"id\":\"a93ef780-0f50-4d26-88e8-8ba22adfe5a4\",\"type\":\"LinearAxis\"}],\"renderers\":[{\"id\":\"3229e1dc-fb2b-4ada-a016-fed8b6556f57\",\"type\":\"LinearAxis\"},{\"id\":\"e36cceef-de00-414e-842e-c989fd988065\",\"type\":\"Grid\"},{\"id\":\"a93ef780-0f50-4d26-88e8-8ba22adfe5a4\",\"type\":\"LinearAxis\"},{\"id\":\"fb68b3b3-ead9-4ebf-8f9e-2c02ab155f4e\",\"type\":\"Grid\"},{\"id\":\"f1ffd1fb-f1a0-47be-9a43-6647dcfda043\",\"type\":\"BoxAnnotation\"},{\"id\":\"ae83f73d-799f-4e6f-a266-f3696d7d0d0b\",\"type\":\"GlyphRenderer\"}],\"title\":{\"id\":\"77ed666f-da2c-4838-8ec1-dfbbecd19331\",\"type\":\"Title\"},\"tool_events\":{\"id\":\"66fe5fc2-2103-4e9e-b7b2-82ca16028d2b\",\"type\":\"ToolEvents\"},\"toolbar\":{\"id\":\"5df94846-963c-4262-8778-c4288b83c0fd\",\"type\":\"Toolbar\"},\"x_range\":{\"id\":\"3b6e1549-d594-4da4-b9f2-e484c42bc6e2\",\"type\":\"DataRange1d\"},\"x_scale\":{\"id\":\"b0f8c01e-d74b-4631-a042-e1f99041b345\",\"type\":\"LinearScale\"},\"y_range\":{\"id\":\"c180f084-77b0-4094-aa93-05ec24cc3ca2\",\"type\":\"DataRange1d\"},\"y_scale\":{\"id\":\"affcdc06-9769-4850-b834-84330a81dab4\",\"type\":\"LinearScale\"}},\"id\":\"cb140cdb-cda3-47b9-9b5b-8ec5e0525cbe\",\"subtype\":\"Figure\",\"type\":\"Plot\"},{\"attributes\":{\"plot\":{\"id\":\"cb140cdb-cda3-47b9-9b5b-8ec5e0525cbe\",\"subtype\":\"Figure\",\"type\":\"Plot\"}},\"id\":\"a819f6c0-af3f-4db0-8890-110d699437f1\",\"type\":\"WheelZoomTool\"},{\"attributes\":{\"plot\":{\"id\":\"cb140cdb-cda3-47b9-9b5b-8ec5e0525cbe\",\"subtype\":\"Figure\",\"type\":\"Plot\"}},\"id\":\"30182c21-8a6e-4d24-ae38-9d846523eb36\",\"type\":\"RedoTool\"},{\"attributes\":{},\"id\":\"b0f8c01e-d74b-4631-a042-e1f99041b345\",\"type\":\"LinearScale\"},{\"attributes\":{},\"id\":\"fa64cd06-6ddb-4759-bbd1-ff291ac97c7a\",\"type\":\"BasicTickFormatter\"},{\"attributes\":{\"callback\":null,\"column_names\":[\"x\",\"y\",\"color\"],\"data\":{\"color\":[\"Lime\",\"SlateGrey\",\"Teal\",\"SlateGrey\",\"Navy\",\"Violet\",\"SeaGreen\",\"OrangeRed\",\"Red\",\"OrangeRed\",\"Lime\",\"SpringGreen\",\"Purple\",\"Silver\",\"Turquoise\",\"Lime\",\"Turquoise\",\"Thistle\",\"OrangeRed\",\"Tomato\",\"Lime\",\"Yellow\",\"Navy\",\"Navy\",\"Lime\",\"Red\",\"Silver\",\"Purple\",\"SeaGreen\",\"Sienna\",\"SlateGrey\",\"OrangeRed\",\"Teal\",\"SpringGreen\",\"Teal\",\"Turquoise\",\"Thistle\",\"Teal\",\"SlateGrey\",\"SlateGrey\",\"SlateGrey\",\"Sienna\",\"OrangeRed\",\"Red\",\"Red\",\"Teal\",\"YellowGreen\",\"SpringGreen\",\"SeaGreen\",\"Thistle\",\"SteelBlue\",\"Tomato\",\"SlateGrey\",\"SlateGrey\",\"SteelBlue\",\"Sienna\",\"SlateGrey\",\"Sienna\",\"Black\",\"Orange\",\"Silver\",\"Black\",\"Navy\",\"SteelBlue\",\"Black\",\"SteelBlue\",\"Orange\",\"Black\",\"Red\",\"Red\",\"Silver\",\"SlateGrey\",\"Teal\",\"Purple\",\"SeaGreen\",\"Navy\",\"YellowGreen\",\"Purple\",\"Yellow\",\"Lime\",\"Thistle\",\"SpringGreen\",\"SeaGreen\",\"Teal\",\"Sienna\",\"Sienna\",\"Tomato\",\"SlateGrey\",\"Navy\",\"SpringGreen\",\"Tomato\",\"Purple\",\"SeaGreen\",\"OrangeRed\",\"SlateGrey\",\"Navy\",\"OrangeRed\",\"Teal\",\"Purple\",\"YellowGreen\",\"SteelBlue\",\"SpringGreen\",\"OrangeRed\",\"Violet\",\"Navy\",\"Orange\",\"OrangeRed\",\"Navy\",\"SeaGreen\",\"Sienna\",\"Thistle\",\"Navy\",\"SteelBlue\",\"Silver\",\"Sienna\",\"Sienna\",\"SeaGreen\",\"Turquoise\",\"Silver\",\"YellowGreen\",\"OrangeRed\",\"Navy\",\"Lime\",\"Sienna\",\"Sienna\",\"Turquoise\",\"Tomato\",\"SteelBlue\",\"Navy\",\"Red\",\"Purple\",\"SteelBlue\",\"SpringGreen\",\"Lime\",\"Purple\",\"Orange\",\"Turquoise\",\"Turquoise\",\"Violet\",\"Silver\",\"Purple\",\"Purple\",\"Thistle\",\"Thistle\",\"Purple\",\"Violet\",\"Navy\",\"Turquoise\",\"Navy\",\"YellowGreen\",\"Orange\",\"SteelBlue\",\"Orange\",\"Violet\",\"YellowGreen\",\"SeaGreen\",\"Purple\",\"Red\",\"Turquoise\",\"Teal\",\"Red\",\"Navy\",\"OrangeRed\",\"Violet\",\"Lime\",\"Teal\",\"Purple\",\"YellowGreen\",\"SteelBlue\",\"Sienna\",\"YellowGreen\",\"Violet\",\"YellowGreen\",\"SeaGreen\",\"Purple\",\"Yellow\",\"Thistle\",\"SeaGreen\",\"OrangeRed\",\"Red\",\"Turquoise\",\"Red\",\"SeaGreen\",\"Purple\",\"Teal\",\"Navy\",\"Thistle\",\"Lime\",\"SlateGrey\",\"Orange\",\"Orange\",\"SeaGreen\",\"Sienna\",\"Black\",\"Lime\",\"Thistle\",\"OrangeRed\",\"Red\",\"Teal\",\"Thistle\",\"Lime\",\"SeaGreen\",\"Sienna\",\"Sienna\",\"Sienna\",\"Black\",\"Lime\",\"SeaGreen\",\"Orange\",\"Purple\",\"Tomato\",\"Black\",\"SteelBlue\",\"Orange\",\"Thistle\",\"Thistle\",\"SteelBlue\",\"Red\",\"Teal\",\"Thistle\",\"Teal\",\"Thistle\",\"Red\",\"YellowGreen\",\"Yellow\",\"OrangeRed\",\"Thistle\",\"SeaGreen\",\"Purple\",\"Tomato\",\"Black\",\"Violet\",\"Tomato\",\"Lime\",\"SeaGreen\",\"Orange\",\"SteelBlue\",\"Orange\",\"Thistle\",\"Silver\",\"SteelBlue\",\"SeaGreen\",\"YellowGreen\",\"Black\",\"YellowGreen\",\"Black\",\"SlateGrey\",\"SeaGreen\",\"SpringGreen\",\"Navy\",\"Lime\",\"YellowGreen\",\"SpringGreen\",\"Lime\",\"Sienna\",\"Orange\",\"Tomato\",\"SpringGreen\",\"Turquoise\",\"Silver\",\"Tomato\",\"Navy\",\"Navy\",\"Teal\",\"Violet\",\"YellowGreen\",\"Lime\",\"SteelBlue\",\"Thistle\",\"Turquoise\",\"Yellow\",\"Turquoise\",\"Turquoise\",\"YellowGreen\",\"Sienna\",\"Black\",\"YellowGreen\",\"Purple\",\"Sienna\",\"Silver\",\"SpringGreen\",\"SpringGreen\",\"Purple\",\"SteelBlue\",\"Purple\",\"Sienna\",\"Yellow\",\"Sienna\",\"Black\",\"SpringGreen\",\"Violet\",\"Thistle\",\"Sienna\",\"Thistle\",\"SeaGreen\",\"Tomato\",\"SeaGreen\",\"Thistle\",\"Thistle\",\"Yellow\",\"YellowGreen\",\"Black\",\"SteelBlue\",\"Black\",\"Teal\",\"Thistle\",\"Silver\",\"Silver\",\"SteelBlue\",\"Red\",\"Sienna\",\"Tomato\",\"Red\",\"Red\",\"SpringGreen\",\"YellowGreen\",\"Purple\",\"SteelBlue\",\"Silver\",\"SteelBlue\",\"YellowGreen\",\"Sienna\",\"Turquoise\",\"Tomato\",\"Red\",\"Teal\",\"SlateGrey\",\"Violet\",\"SeaGreen\",\"YellowGreen\",\"Navy\",\"Violet\",\"Turquoise\",\"SeaGreen\",\"Violet\",\"Purple\",\"Black\",\"Black\",\"Thistle\",\"Thistle\",\"SeaGreen\",\"Black\",\"Yellow\",\"SeaGreen\",\"Lime\",\"Purple\",\"Sienna\",\"SpringGreen\",\"Thistle\",\"Teal\",\"SeaGreen\",\"Teal\",\"OrangeRed\",\"OrangeRed\",\"Lime\",\"Sienna\",\"Turquoise\",\"SpringGreen\",\"SeaGreen\",\"SpringGreen\",\"Purple\",\"Tomato\",\"Red\",\"Thistle\",\"Navy\",\"Turquoise\",\"Yellow\",\"Teal\",\"SteelBlue\",\"Black\",\"Black\",\"Teal\",\"SlateGrey\",\"Orange\",\"Red\",\"Red\",\"Navy\",\"Sienna\",\"OrangeRed\",\"Teal\",\"SlateGrey\",\"SpringGreen\",\"SteelBlue\",\"Thistle\",\"SteelBlue\",\"YellowGreen\",\"Yellow\",\"SlateGrey\",\"SpringGreen\",\"SeaGreen\",\"YellowGreen\",\"SteelBlue\",\"Black\",\"Orange\",\"Lime\",\"Lime\",\"Thistle\",\"SeaGreen\",\"YellowGreen\",\"SteelBlue\",\"Violet\",\"Navy\",\"SlateGrey\",\"SpringGreen\",\"Tomato\",\"Turquoise\",\"SeaGreen\",\"SpringGreen\",\"Orange\",\"SeaGreen\",\"Violet\",\"Silver\",\"Yellow\",\"SeaGreen\",\"Orange\",\"Navy\",\"Thistle\",\"Turquoise\",\"SteelBlue\",\"Teal\",\"Tomato\",\"Tomato\",\"Sienna\",\"Sienna\",\"Turquoise\",\"Silver\",\"Lime\",\"Orange\",\"Orange\",\"Turquoise\",\"Orange\",\"SeaGreen\",\"Turquoise\",\"Red\",\"Navy\",\"Yellow\",\"Navy\",\"Lime\",\"SpringGreen\",\"Silver\",\"Turquoise\",\"Black\",\"Silver\",\"Navy\",\"Violet\",\"Navy\",\"Yellow\",\"Sienna\",\"Yellow\",\"Teal\",\"Sienna\",\"Sienna\",\"Red\",\"Orange\",\"Red\",\"Tomato\",\"Silver\",\"Red\",\"Sienna\",\"SpringGreen\",\"Navy\",\"Yellow\",\"Black\",\"SteelBlue\",\"Lime\",\"Black\",\"SteelBlue\",\"Tomato\",\"Teal\",\"Sienna\",\"OrangeRed\",\"Teal\",\"SlateGrey\",\"Navy\",\"Orange\",\"Yellow\",\"Thistle\",\"YellowGreen\",\"Teal\",\"SlateGrey\",\"Turquoise\",\"Navy\",\"SpringGreen\",\"OrangeRed\",\"Orange\",\"Teal\",\"SlateGrey\",\"Violet\",\"Teal\",\"Thistle\",\"Turquoise\",\"Black\",\"Teal\",\"Turquoise\",\"Purple\",\"Sienna\",\"Navy\",\"Black\",\"OrangeRed\",\"Tomato\",\"SeaGreen\",\"SteelBlue\",\"Tomato\",\"Violet\",\"OrangeRed\",\"Yellow\",\"SlateGrey\",\"Turquoise\",\"Orange\",\"Tomato\",\"Violet\",\"Tomato\",\"Navy\",\"Orange\",\"Black\",\"Orange\",\"SlateGrey\",\"Orange\",\"Yellow\",\"Orange\",\"Red\",\"SpringGreen\",\"SlateGrey\",\"Turquoise\",\"Yellow\",\"Black\",\"Tomato\",\"SlateGrey\",\"Sienna\",\"SpringGreen\",\"SteelBlue\",\"Violet\",\"Orange\",\"SlateGrey\",\"SteelBlue\",\"Navy\",\"Sienna\",\"OrangeRed\",\"Red\",\"Teal\",\"Black\",\"Purple\",\"Turquoise\",\"Purple\",\"Navy\",\"Violet\",\"Silver\",\"OrangeRed\",\"Tomato\",\"Orange\",\"Sienna\",\"Orange\",\"Silver\",\"Silver\",\"Turquoise\",\"Violet\",\"Silver\",\"Yellow\",\"Turquoise\",\"Sienna\",\"Black\",\"Sienna\",\"Black\",\"Teal\",\"Purple\",\"Tomato\",\"SteelBlue\",\"SteelBlue\",\"SeaGreen\",\"Sienna\",\"Navy\",\"Red\",\"Teal\",\"SteelBlue\",\"SpringGreen\",\"Violet\",\"Purple\",\"Silver\",\"Thistle\",\"OrangeRed\",\"SpringGreen\",\"SlateGrey\",\"Turquoise\",\"OrangeRed\",\"YellowGreen\",\"Red\",\"Tomato\",\"Turquoise\",\"SeaGreen\",\"Sienna\",\"Lime\",\"Silver\",\"Violet\",\"Navy\",\"Violet\",\"Navy\",\"SlateGrey\",\"OrangeRed\",\"YellowGreen\",\"Red\",\"Thistle\",\"YellowGreen\",\"Violet\",\"Turquoise\",\"Red\",\"SteelBlue\",\"Navy\",\"Sienna\",\"Sienna\",\"Silver\",\"Navy\",\"Orange\",\"Turquoise\",\"SlateGrey\",\"SeaGreen\",\"Teal\",\"Teal\",\"Tomato\",\"Yellow\",\"Sienna\",\"Yellow\",\"Teal\",\"Navy\",\"Turquoise\",\"Purple\",\"Black\",\"Thistle\",\"SpringGreen\",\"Thistle\",\"Red\",\"SteelBlue\",\"Navy\",\"Thistle\",\"Navy\",\"SlateGrey\",\"Black\",\"Teal\",\"SeaGreen\",\"Thistle\",\"SeaGreen\",\"Navy\",\"SeaGreen\",\"Sienna\",\"OrangeRed\",\"Turquoise\",\"Lime\",\"SteelBlue\",\"SpringGreen\",\"Navy\",\"Thistle\",\"Red\",\"Turquoise\",\"Black\",\"SteelBlue\",\"Orange\",\"Red\",\"Violet\",\"Teal\",\"SlateGrey\",\"YellowGreen\",\"Violet\",\"SlateGrey\",\"Navy\",\"SteelBlue\",\"Navy\",\"Silver\",\"Yellow\",\"Purple\",\"Tomato\",\"Sienna\",\"Tomato\",\"Tomato\",\"Turquoise\",\"Orange\",\"Yellow\",\"Orange\",\"Tomato\",\"OrangeRed\",\"Sienna\",\"SpringGreen\",\"Orange\",\"SlateGrey\",\"SlateGrey\",\"Turquoise\",\"Sienna\",\"Thistle\",\"OrangeRed\",\"Tomato\",\"YellowGreen\",\"Teal\",\"SlateGrey\",\"Sienna\",\"Purple\",\"Orange\",\"Black\",\"Lime\",\"Turquoise\",\"Orange\",\"SeaGreen\",\"Yellow\",\"Turquoise\",\"Yellow\",\"Purple\",\"Navy\",\"Lime\",\"Teal\",\"Sienna\",\"Red\",\"Lime\",\"Tomato\",\"Tomato\",\"SpringGreen\",\"SeaGreen\",\"Silver\",\"Turquoise\",\"Red\",\"Violet\",\"Orange\",\"Turquoise\",\"SlateGrey\",\"Yellow\",\"OrangeRed\",\"SlateGrey\",\"Black\",\"Teal\",\"Sienna\",\"Orange\",\"OrangeRed\",\"SpringGreen\",\"Navy\",\"Violet\",\"YellowGreen\",\"Red\",\"SeaGreen\",\"Purple\",\"Navy\",\"Violet\",\"Turquoise\",\"Silver\",\"Teal\",\"Navy\",\"Purple\",\"Tomato\",\"Thistle\",\"Violet\",\"Lime\",\"Sienna\",\"Sienna\",\"Silver\",\"SteelBlue\",\"Yellow\",\"Sienna\",\"Turquoise\",\"Tomato\",\"Navy\",\"Navy\",\"Silver\",\"Red\",\"Turquoise\",\"Tomato\",\"Yellow\",\"Sienna\",\"SlateGrey\",\"Thistle\",\"Sienna\",\"Yellow\",\"Lime\",\"Purple\",\"Lime\",\"Sienna\",\"Yellow\",\"Turquoise\",\"Turquoise\",\"SlateGrey\",\"Silver\",\"Lime\",\"Lime\",\"Thistle\",\"Red\",\"Silver\",\"YellowGreen\",\"Orange\",\"SeaGreen\",\"Black\",\"Thistle\",\"Violet\",\"Teal\",\"YellowGreen\",\"Orange\",\"SteelBlue\",\"Tomato\",\"Teal\",\"SeaGreen\",\"Red\",\"SlateGrey\",\"Sienna\",\"Thistle\",\"Black\",\"Navy\",\"Sienna\",\"Teal\",\"Silver\",\"Thistle\",\"Orange\",\"Yellow\",\"SlateGrey\",\"Yellow\",\"YellowGreen\",\"Lime\",\"Teal\",\"Tomato\",\"Tomato\",\"SeaGreen\",\"Orange\",\"Lime\",\"Yellow\",\"Sienna\",\"Orange\",\"SpringGreen\",\"Thistle\",\"Navy\",\"Orange\",\"SlateGrey\",\"OrangeRed\",\"Navy\",\"Sienna\",\"Turquoise\",\"Yellow\",\"Black\",\"SeaGreen\",\"OrangeRed\",\"Teal\",\"Tomato\",\"Teal\",\"Yellow\",\"Red\",\"Navy\",\"YellowGreen\",\"Black\",\"Red\",\"Silver\",\"Violet\",\"Navy\",\"YellowGreen\",\"Red\",\"Sienna\",\"Yellow\",\"Tomato\",\"Turquoise\",\"Black\",\"OrangeRed\",\"Tomato\",\"Yellow\",\"Teal\",\"Teal\",\"Purple\",\"Red\",\"SeaGreen\",\"Thistle\",\"Orange\",\"SlateGrey\",\"Sienna\",\"Sienna\",\"Sienna\",\"SpringGreen\",\"SpringGreen\",\"Tomato\",\"YellowGreen\",\"Yellow\",\"Turquoise\",\"Navy\",\"Sienna\",\"Lime\",\"Tomato\",\"Purple\",\"Tomato\",\"Navy\",\"Orange\",\"Lime\",\"SpringGreen\",\"SteelBlue\",\"SteelBlue\",\"Thistle\",\"OrangeRed\",\"YellowGreen\",\"SteelBlue\",\"Purple\",\"Violet\",\"SeaGreen\",\"Violet\",\"Tomato\",\"SlateGrey\",\"Black\",\"Sienna\",\"Violet\",\"Silver\",\"Lime\",\"Violet\",\"Turquoise\",\"SlateGrey\",\"Tomato\",\"OrangeRed\",\"SpringGreen\",\"Black\",\"Red\",\"SpringGreen\",\"Lime\",\"Orange\",\"SpringGreen\",\"Violet\",\"YellowGreen\",\"Teal\",\"Thistle\",\"SteelBlue\",\"Orange\",\"Red\",\"Turquoise\",\"Silver\",\"Thistle\",\"Sienna\",\"YellowGreen\",\"SteelBlue\",\"Orange\",\"Thistle\",\"Sienna\",\"YellowGreen\",\"Black\",\"SteelBlue\",\"Thistle\",\"Lime\",\"Yellow\",\"OrangeRed\",\"Orange\",\"Teal\",\"Purple\",\"YellowGreen\",\"Turquoise\",\"Lime\",\"SeaGreen\",\"Orange\",\"OrangeRed\",\"Black\",\"Violet\",\"Silver\",\"Tomato\",\"Red\",\"SeaGreen\",\"SeaGreen\",\"Silver\",\"YellowGreen\",\"Thistle\",\"Tomato\",\"Lime\",\"Yellow\",\"Navy\",\"Black\",\"Silver\",\"OrangeRed\",\"OrangeRed\",\"Navy\",\"SteelBlue\",\"Lime\",\"Teal\",\"Red\",\"Navy\",\"Orange\",\"Tomato\",\"SlateGrey\",\"Violet\",\"Navy\",\"OrangeRed\",\"YellowGreen\",\"SteelBlue\",\"Purple\",\"Orange\",\"Yellow\",\"Violet\",\"Teal\",\"Teal\",\"Violet\",\"Orange\",\"Sienna\",\"Purple\",\"Teal\",\"Sienna\",\"Navy\",\"OrangeRed\",\"Sienna\",\"Sienna\",\"Lime\",\"YellowGreen\",\"Teal\",\"Orange\",\"Sienna\",\"SteelBlue\",\"Turquoise\",\"Purple\",\"YellowGreen\",\"Turquoise\",\"Silver\"],\"x\":{\"__ndarray__\":\"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\",\"dtype\":\"float32\",\"shape\":[1000]},\"y\":{\"__ndarray__\":\"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\",\"dtype\":\"float32\",\"shape\":[1000]}}},\"id\":\"ee803cff-c90e-4a4b-b17f-1764865f1dab\",\"type\":\"ColumnDataSource\"},{\"attributes\":{\"plot\":{\"id\":\"cb140cdb-cda3-47b9-9b5b-8ec5e0525cbe\",\"subtype\":\"Figure\",\"type\":\"Plot\"}},\"id\":\"a42ad770-345d-4be7-bae0-54c5cf536cfe\",\"type\":\"ResetTool\"},{\"attributes\":{},\"id\":\"affcdc06-9769-4850-b834-84330a81dab4\",\"type\":\"LinearScale\"},{\"attributes\":{\"callback\":null},\"id\":\"c180f084-77b0-4094-aa93-05ec24cc3ca2\",\"type\":\"DataRange1d\"},{\"attributes\":{},\"id\":\"abc9582a-f6ef-41dd-be8e-364310473b2e\",\"type\":\"BasicTicker\"},{\"attributes\":{},\"id\":\"66fe5fc2-2103-4e9e-b7b2-82ca16028d2b\",\"type\":\"ToolEvents\"},{\"attributes\":{\"fill_alpha\":{\"value\":0.1},\"fill_color\":{\"value\":\"#1f77b4\"},\"line_alpha\":{\"value\":0.1},\"line_color\":{\"value\":\"#1f77b4\"},\"size\":{\"units\":\"screen\",\"value\":7},\"x\":{\"field\":\"x\"},\"y\":{\"field\":\"y\"}},\"id\":\"91245009-75a9-4e14-a1e6-17c1d48f3a3e\",\"type\":\"Circle\"},{\"attributes\":{\"callback\":null},\"id\":\"3b6e1549-d594-4da4-b9f2-e484c42bc6e2\",\"type\":\"DataRange1d\"},{\"attributes\":{\"active_drag\":\"auto\",\"active_inspect\":\"auto\",\"active_scroll\":\"auto\",\"active_tap\":\"auto\",\"tools\":[{\"id\":\"a819f6c0-af3f-4db0-8890-110d699437f1\",\"type\":\"WheelZoomTool\"},{\"id\":\"a42ad770-345d-4be7-bae0-54c5cf536cfe\",\"type\":\"ResetTool\"},{\"id\":\"30182c21-8a6e-4d24-ae38-9d846523eb36\",\"type\":\"RedoTool\"},{\"id\":\"bf83be18-3505-4097-8f47-3876bde3c04f\",\"type\":\"BoxZoomTool\"}]},\"id\":\"5df94846-963c-4262-8778-c4288b83c0fd\",\"type\":\"Toolbar\"},{\"attributes\":{\"formatter\":{\"id\":\"8c5e32a1-c1c9-4ded-928e-59b0f75a3cb1\",\"type\":\"BasicTickFormatter\"},\"plot\":{\"id\":\"cb140cdb-cda3-47b9-9b5b-8ec5e0525cbe\",\"subtype\":\"Figure\",\"type\":\"Plot\"},\"ticker\":{\"id\":\"abc9582a-f6ef-41dd-be8e-364310473b2e\",\"type\":\"BasicTicker\"}},\"id\":\"3229e1dc-fb2b-4ada-a016-fed8b6556f57\",\"type\":\"LinearAxis\"},{\"attributes\":{\"grid_line_color\":{\"value\":null},\"plot\":{\"id\":\"cb140cdb-cda3-47b9-9b5b-8ec5e0525cbe\",\"subtype\":\"Figure\",\"type\":\"Plot\"},\"ticker\":{\"id\":\"abc9582a-f6ef-41dd-be8e-364310473b2e\",\"type\":\"BasicTicker\"}},\"id\":\"e36cceef-de00-414e-842e-c989fd988065\",\"type\":\"Grid\"},{\"attributes\":{\"overlay\":{\"id\":\"f1ffd1fb-f1a0-47be-9a43-6647dcfda043\",\"type\":\"BoxAnnotation\"},\"plot\":{\"id\":\"cb140cdb-cda3-47b9-9b5b-8ec5e0525cbe\",\"subtype\":\"Figure\",\"type\":\"Plot\"}},\"id\":\"bf83be18-3505-4097-8f47-3876bde3c04f\",\"type\":\"BoxZoomTool\"},{\"attributes\":{},\"id\":\"8c5e32a1-c1c9-4ded-928e-59b0f75a3cb1\",\"type\":\"BasicTickFormatter\"},{\"attributes\":{\"plot\":null,\"text\":\"t-sne plot - 1000 samples\"},\"id\":\"77ed666f-da2c-4838-8ec1-dfbbecd19331\",\"type\":\"Title\"},{\"attributes\":{\"dimension\":1,\"grid_line_color\":{\"value\":null},\"plot\":{\"id\":\"cb140cdb-cda3-47b9-9b5b-8ec5e0525cbe\",\"subtype\":\"Figure\",\"type\":\"Plot\"},\"ticker\":{\"id\":\"7181de89-737f-4f56-bf44-2fe28b9f3845\",\"type\":\"BasicTicker\"}},\"id\":\"fb68b3b3-ead9-4ebf-8f9e-2c02ab155f4e\",\"type\":\"Grid\"},{\"attributes\":{},\"id\":\"7181de89-737f-4f56-bf44-2fe28b9f3845\",\"type\":\"BasicTicker\"},{\"attributes\":{\"formatter\":{\"id\":\"fa64cd06-6ddb-4759-bbd1-ff291ac97c7a\",\"type\":\"BasicTickFormatter\"},\"plot\":{\"id\":\"cb140cdb-cda3-47b9-9b5b-8ec5e0525cbe\",\"subtype\":\"Figure\",\"type\":\"Plot\"},\"ticker\":{\"id\":\"7181de89-737f-4f56-bf44-2fe28b9f3845\",\"type\":\"BasicTicker\"}},\"id\":\"a93ef780-0f50-4d26-88e8-8ba22adfe5a4\",\"type\":\"LinearAxis\"},{\"attributes\":{\"fill_alpha\":{\"value\":0.7},\"fill_color\":{\"field\":\"color\"},\"line_color\":{\"field\":\"color\"},\"size\":{\"units\":\"screen\",\"value\":7},\"x\":{\"field\":\"x\"},\"y\":{\"field\":\"y\"}},\"id\":\"0eb92881-7a91-48c8-b47f-7567df07b982\",\"type\":\"Circle\"},{\"attributes\":{\"data_source\":{\"id\":\"ee803cff-c90e-4a4b-b17f-1764865f1dab\",\"type\":\"ColumnDataSource\"},\"glyph\":{\"id\":\"0eb92881-7a91-48c8-b47f-7567df07b982\",\"type\":\"Circle\"},\"hover_glyph\":null,\"muted_glyph\":null,\"nonselection_glyph\":{\"id\":\"91245009-75a9-4e14-a1e6-17c1d48f3a3e\",\"type\":\"Circle\"},\"selection_glyph\":null},\"id\":\"ae83f73d-799f-4e6f-a266-f3696d7d0d0b\",\"type\":\"GlyphRenderer\"}],\"root_ids\":[\"cb140cdb-cda3-47b9-9b5b-8ec5e0525cbe\"]},\"title\":\"Bokeh Application\",\"version\":\"0.12.6\"}};\n",
       "            var render_items = [{\"docid\":\"cb0d0254-5c6f-4c4e-acbd-20d4d7d3c734\",\"elementid\":\"a51d3f44-539b-48a5-bf90-80182212dd78\",\"modelid\":\"cb140cdb-cda3-47b9-9b5b-8ec5e0525cbe\"}];\n",
       "            \n",
       "            Bokeh.embed.embed_items(docs_json, render_items);\n",
       "          };\n",
       "          if (document.readyState != \"loading\") fn();\n",
       "          else document.addEventListener(\"DOMContentLoaded\", fn);\n",
       "        })();\n",
       "      },\n",
       "      function(Bokeh) {\n",
       "      }\n",
       "    ];\n",
       "  \n",
       "    function run_inline_js() {\n",
       "      \n",
       "      if ((window.Bokeh !== undefined) || (force === true)) {\n",
       "        for (var i = 0; i < inline_js.length; i++) {\n",
       "          inline_js[i](window.Bokeh);\n",
       "        }if (force === true) {\n",
       "          display_loaded();\n",
       "        }} else if (Date.now() < window._bokeh_timeout) {\n",
       "        setTimeout(run_inline_js, 100);\n",
       "      } else if (!window._bokeh_failed_load) {\n",
       "        console.log(\"Bokeh: BokehJS failed to load within specified timeout.\");\n",
       "        window._bokeh_failed_load = true;\n",
       "      } else if (force !== true) {\n",
       "        var cell = $(document.getElementById(\"a51d3f44-539b-48a5-bf90-80182212dd78\")).parents('.cell').data().cell;\n",
       "        cell.output_area.append_execute_result(NB_LOAD_WARNING)\n",
       "      }\n",
       "  \n",
       "    }\n",
       "  \n",
       "    if (window._bokeh_is_loading === 0) {\n",
       "      console.log(\"Bokeh: BokehJS loaded, going straight to plotting\");\n",
       "      run_inline_js();\n",
       "    } else {\n",
       "      load_libs(js_urls, function() {\n",
       "        console.log(\"Bokeh: BokehJS plotting callback run at\", now());\n",
       "        run_inline_js();\n",
       "      });\n",
       "    }\n",
       "  }(this));\n",
       "</script>"
      ]
     },
     "metadata": {},
     "output_type": "display_data"
    }
   ],
   "source": [
    "visu.cluster2d(*tsne_laplacian.T, colors=colors, height=600, width=600, size=7)"
   ]
  }
 ],
 "metadata": {
  "kernelspec": {
   "display_name": "Python 3",
   "language": "python",
   "name": "python3"
  },
  "language_info": {
   "codemirror_mode": {
    "name": "ipython",
    "version": 3
   },
   "file_extension": ".py",
   "mimetype": "text/x-python",
   "name": "python",
   "nbconvert_exporter": "python",
   "pygments_lexer": "ipython3",
   "version": "3.6.1"
  },
  "widgets": {
   "state": {
    "9d564caaad174afd811c294e4b1919f9": {
     "views": [
      {
       "cell_index": 12
      }
     ]
    }
   },
   "version": "1.2.0"
  }
 },
 "nbformat": 4,
 "nbformat_minor": 1
}
