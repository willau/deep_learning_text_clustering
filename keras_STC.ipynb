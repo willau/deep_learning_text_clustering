{
 "cells": [
  {
   "cell_type": "code",
   "execution_count": 1,
   "metadata": {
    "collapsed": true
   },
   "outputs": [],
   "source": [
    "%load_ext autoreload\n",
    "%autoreload 2"
   ]
  },
  {
   "cell_type": "markdown",
   "metadata": {},
   "source": [
    "# Short Text Clustering using CNN"
   ]
  },
  {
   "cell_type": "markdown",
   "metadata": {},
   "source": [
    "The following work is mainly inspired by:\n",
    "- 2014 - Convolutional Neural Networks for Sentence Classification\n",
    "- 2014 - A Convolutional Neural Network for Modelling Sentences\n",
    "- 2017 - Self-Taught Convolutional Neural Networks for Short Text Clustering\n",
    "\n",
    "<br>\n",
    "Word embedding from fasttext are distributed under the license:\n",
    "- Creative Commons Attribution-Share-Alike License 3.0 (free commercial use)"
   ]
  },
  {
   "cell_type": "markdown",
   "metadata": {},
   "source": [
    "#### Load modules"
   ]
  },
  {
   "cell_type": "code",
   "execution_count": null,
   "metadata": {},
   "outputs": [],
   "source": [
    "import os\n",
    "import numpy as np\n",
    "import pandas as pd\n",
    "from pprint import pprint\n",
    "from tqdm import tqdm_notebook\n",
    "from webcolors import name_to_rgb\n",
    "from matplotlib import pyplot as plt\n",
    "from bokeh.io import output_notebook, reset_output\n",
    "\n",
    "# scikit-learn\n",
    "from sklearn.manifold import TSNE\n",
    "from sklearn.cluster import KMeans\n",
    "from sklearn.pipeline import make_pipeline\n",
    "from sklearn.decomposition import TruncatedSVD\n",
    "from sklearn.preprocessing import Normalizer, normalize\n",
    "from sklearn.feature_extraction.text import TfidfVectorizer\n",
    "\n",
    "# keras\n",
    "from keras.models import Model\n",
    "from keras.preprocessing.text import Tokenizer\n",
    "from keras.preprocessing.sequence import pad_sequences\n",
    "from keras.layers import Embedding\n",
    "\n",
    "# self-made function\n",
    "from utils.target import laplacian_eigenmaps, binarize\n",
    "from utils.metrics import map_label, cluster_quality\n",
    "from utils.cnn import create_reference_model, behead\n",
    "from utils.variable import COLORNAMES\n",
    "from utils.embedding import Embeddor\n",
    "from utils import visu\n",
    "\n",
    "%matplotlib inline\n",
    "output_notebook()"
   ]
  },
  {
   "cell_type": "code",
   "execution_count": 3,
   "metadata": {},
   "outputs": [
    {
     "name": "stdout",
     "output_type": "stream",
     "text": [
      "\n",
      "Short text datasets\n",
      "['Biomedical.txt',\n",
      " 'Biomedical_gnd.txt',\n",
      " 'SearchSnippets.txt',\n",
      " 'SearchSnippets_gnd.txt',\n",
      " 'StackOverflow.txt',\n",
      " 'StackOverflow_gnd.txt']\n",
      "\n",
      "Embedding\n",
      "['glove100K.100d.vec']\n"
     ]
    }
   ],
   "source": [
    "EMBDIR = \"./embeddings/\"\n",
    "DATADIR = \"./data/short_texts/\"\n",
    "\n",
    "print('\\nShort text datasets')\n",
    "pprint(os.listdir(DATADIR))\n",
    "\n",
    "print('\\nEmbedding')\n",
    "pprint(os.listdir(EMBDIR))"
   ]
  },
  {
   "cell_type": "markdown",
   "metadata": {},
   "source": [
    "# Fetching the data"
   ]
  },
  {
   "cell_type": "markdown",
   "metadata": {},
   "source": [
    "#### Loading pre-trained Fasttext word embedding\n",
    "\n",
    "Pre-trained word vectors for English languages, trained on Wikipedia using fastText. These vectors of dimension `300` were obtained using the skip-gram model described in `Bojanowski et al.(2016)` with default parameters.\n",
    "\n",
    "We extracted the `100 000` most frequent words."
   ]
  },
  {
   "cell_type": "markdown",
   "metadata": {},
   "source": [
    "# Word embedding"
   ]
  },
  {
   "cell_type": "code",
   "execution_count": 4,
   "metadata": {},
   "outputs": [
    {
     "name": "stdout",
     "output_type": "stream",
     "text": [
      "Embedding: glove100k.100d.vec\n"
     ]
    },
    {
     "name": "stderr",
     "output_type": "stream",
     "text": [
      "Widget Javascript not detected.  It may not be installed or enabled properly.\n"
     ]
    },
    {
     "data": {
      "application/vnd.jupyter.widget-view+json": {
       "model_id": "3f60dc8990be4973b6c65c87d2712707"
      }
     },
     "metadata": {},
     "output_type": "display_data"
    },
    {
     "name": "stdout",
     "output_type": "stream",
     "text": [
      "\n",
      "Embedding shape: (100001, 100)\n"
     ]
    }
   ],
   "source": [
    "# parameters\n",
    "n_emb = int(1 * 1e5)\n",
    "# emb_name = 'fasttext.wiki.en.vec'\n",
    "emb_name = 'glove100k.100d.vec'\n",
    "print(\"Embedding: %s\" % emb_name)\n",
    "src_emb = os.path.join(EMBDIR, emb_name)\n",
    "\n",
    "# embeddor\n",
    "embeddor = Embeddor(notebook_display=True)\n",
    "emb_mat = embeddor.load_emb(src_emb, n_emb)\n",
    "print(\"Embedding shape: {}\".format(emb_mat.shape))"
   ]
  },
  {
   "cell_type": "code",
   "execution_count": 5,
   "metadata": {},
   "outputs": [
    {
     "data": {
      "text/plain": [
       "[('napoleon', 0.99999976),\n",
       " ('bonaparte', 0.87043333),\n",
       " ('napoléon', 0.66390216),\n",
       " ('napoleonic', 0.65167707),\n",
       " ('augustus', 0.64356035),\n",
       " ('caesar', 0.64281428),\n",
       " ('1812', 0.63069737),\n",
       " ('tsar', 0.6110847),\n",
       " ('xiv', 0.61083198),\n",
       " ('emperor', 0.60819435)]"
      ]
     },
     "execution_count": 5,
     "metadata": {},
     "output_type": "execute_result"
    }
   ],
   "source": [
    "embeddor.most_similar('napoleon')"
   ]
  },
  {
   "cell_type": "markdown",
   "metadata": {},
   "source": [
    "# Load text data"
   ]
  },
  {
   "cell_type": "markdown",
   "metadata": {},
   "source": [
    "#### Loading data"
   ]
  },
  {
   "cell_type": "code",
   "execution_count": 6,
   "metadata": {},
   "outputs": [
    {
     "name": "stdout",
     "output_type": "stream",
     "text": [
      "Total: 20,000 short texts\n"
     ]
    }
   ],
   "source": [
    "#DATA = \"Biomedical\"\n",
    "#DATA = \"SearchSnippets\"\n",
    "DATA = \"StackOverflow\"\n",
    "\n",
    "text_path = os.path.join(DATADIR, '%s.txt' % DATA)\n",
    "with open(text_path, encoding=\"utf-8\") as f:\n",
    "    data = f.readlines()\n",
    "\n",
    "label_path = os.path.join(DATADIR, '%s_gnd.txt' % DATA)\n",
    "with open(label_path, encoding=\"utf-8\") as f:\n",
    "    target = f.readlines()\n",
    "target = [int(label.rstrip('\\n')) for label in target]\n",
    "    \n",
    "print(\"Total: %s short texts\" % format(len(data), \",\"))"
   ]
  },
  {
   "cell_type": "markdown",
   "metadata": {},
   "source": [
    "#### Random samples"
   ]
  },
  {
   "cell_type": "code",
   "execution_count": 7,
   "metadata": {},
   "outputs": [
    {
     "name": "stdout",
     "output_type": "stream",
     "text": [
      "Loading 5,000 samples\n"
     ]
    }
   ],
   "source": [
    "n = len(data)\n",
    "sample = 5000\n",
    "print(\"Loading %s samples\" % format(sample, \",\"))\n",
    "index_sample = np.random.randint(0, n, sample)\n",
    "\n",
    "data = [data[idx] for idx in index_sample]\n",
    "target = [target[idx] for idx in index_sample]"
   ]
  },
  {
   "cell_type": "markdown",
   "metadata": {},
   "source": [
    "#### Tokenize"
   ]
  },
  {
   "cell_type": "code",
   "execution_count": 8,
   "metadata": {},
   "outputs": [
    {
     "name": "stdout",
     "output_type": "stream",
     "text": [
      "Found 5115 unique tokens.\n",
      "Average length: 8\n",
      "Max length: 34\n"
     ]
    }
   ],
   "source": [
    "\n",
    "tokenizer = Tokenizer(char_level=False)\n",
    "tokenizer.fit_on_texts(data)\n",
    "sequences_full = tokenizer.texts_to_sequences(data)\n",
    "\n",
    "word_index = tokenizer.word_index\n",
    "print('Found %s unique tokens.' % len(word_index))\n",
    "MAX_NB_WORDS = len(word_index)\n",
    "\n",
    "seq_lens = [len(s) for s in sequences_full]\n",
    "print(\"Average length: %d\" % np.mean(seq_lens))\n",
    "print(\"Max length: %d\" % max(seq_lens))\n",
    "MAX_SEQUENCE_LENGTH = max(seq_lens)\n",
    "\n",
    "X = pad_sequences(sequences_full, maxlen=MAX_SEQUENCE_LENGTH)\n",
    "y = target\n",
    "tfidf = tokenizer.sequences_to_matrix(sequences_full, mode='tfidf')"
   ]
  },
  {
   "cell_type": "markdown",
   "metadata": {},
   "source": [
    "# Getting sequences and targets"
   ]
  },
  {
   "cell_type": "code",
   "execution_count": 9,
   "metadata": {},
   "outputs": [
    {
     "name": "stdout",
     "output_type": "stream",
     "text": [
      "added 3481 words in the embedding matrix\n"
     ]
    }
   ],
   "source": [
    "# creating embedding matrix\n",
    "EMBEDDING_DIM = embeddor.emb_dim\n",
    "N_CLASSES = 21\n",
    "\n",
    "# prepare embedding matrix\n",
    "nb_words_in_matrix = 0\n",
    "nb_words = min(MAX_NB_WORDS, len(word_index))\n",
    "embedding_matrix = np.zeros((nb_words + 1, EMBEDDING_DIM))\n",
    "for word, i in word_index.items():\n",
    "    embedding = embeddor.get_emb(word)\n",
    "    if embedding is not None:\n",
    "        embedding_matrix[i] = embedding\n",
    "        nb_words_in_matrix = nb_words_in_matrix + 1\n",
    "        \n",
    "print(\"added %d words in the embedding matrix\" % nb_words_in_matrix)"
   ]
  },
  {
   "cell_type": "markdown",
   "metadata": {},
   "source": [
    "# Target vectors "
   ]
  },
  {
   "cell_type": "code",
   "execution_count": 10,
   "metadata": {
    "collapsed": true
   },
   "outputs": [],
   "source": [
    "# dictionary containing all target vectors\n",
    "Y = dict()\n",
    "\n",
    "# dicitonary containing all binarized vectors\n",
    "B = dict()"
   ]
  },
  {
   "cell_type": "markdown",
   "metadata": {},
   "source": [
    "#### Average embeddings (AE)"
   ]
  },
  {
   "cell_type": "code",
   "execution_count": 11,
   "metadata": {},
   "outputs": [
    {
     "name": "stdout",
     "output_type": "stream",
     "text": [
      "Shape of average embedding:  (5000, 100)\n",
      "CPU times: user 624 ms, sys: 502 ms, total: 1.13 s\n",
      "Wall time: 1.72 s\n"
     ]
    }
   ],
   "source": [
    "%%time\n",
    "denom = 1 + np.sum(tfidf, axis=1)[:, None]\n",
    "normed_tfidf = tfidf/denom\n",
    "average_embeddings = np.dot(normed_tfidf, embedding_matrix)\n",
    "Y['ae'] = average_embeddings\n",
    "B['ae'] = binarize(Y['ae'])\n",
    "print(\"Shape of average embedding: \", Y['ae'].shape)"
   ]
  },
  {
   "cell_type": "markdown",
   "metadata": {},
   "source": [
    "#### Latent Semantic Analysis (LSA)"
   ]
  },
  {
   "cell_type": "code",
   "execution_count": 12,
   "metadata": {},
   "outputs": [
    {
     "name": "stdout",
     "output_type": "stream",
     "text": [
      "Shape of latent semantic vectors:  (5000, 100)\n",
      "CPU times: user 4.43 s, sys: 547 ms, total: 4.98 s\n",
      "Wall time: 3.58 s\n"
     ]
    }
   ],
   "source": [
    "%%time\n",
    "lsa = make_pipeline(\n",
    "    TruncatedSVD(100),\n",
    "    Normalizer(copy=False),\n",
    ") \n",
    "lsa_vectors = lsa.fit_transform(tfidf)\n",
    "Y['lsa'] = lsa_vectors\n",
    "B['lsa'] = binarize(Y['lsa'])\n",
    "print(\"Shape of latent semantic vectors: \", Y['lsa'].shape)"
   ]
  },
  {
   "cell_type": "markdown",
   "metadata": {},
   "source": [
    "#### Laplacian Eigenmaps (LE) [memory intensive]"
   ]
  },
  {
   "cell_type": "code",
   "execution_count": 13,
   "metadata": {},
   "outputs": [
    {
     "name": "stdout",
     "output_type": "stream",
     "text": [
      "Fitting nearest neighbors\n",
      "Creation of heat kernel affinity matrix\n",
      "Spectral embedding\n",
      "(5000, 15)\n",
      "CPU times: user 26.7 s, sys: 2.62 s, total: 29.3 s\n",
      "Wall time: 22.6 s\n"
     ]
    }
   ],
   "source": [
    "%%time\n",
    "laplacian_vectors = laplacian_eigenmaps(lsa_vectors, n_neighbors=15, subdim=15, n_jobs=-1)\n",
    "Y['le'] = laplacian_vectors\n",
    "B['le'] = binarize(Y['le'])\n",
    "print(Y['le'].shape)"
   ]
  },
  {
   "cell_type": "markdown",
   "metadata": {},
   "source": [
    "# CNN for deep feature learning "
   ]
  },
  {
   "cell_type": "markdown",
   "metadata": {},
   "source": [
    "#### Embedding layer"
   ]
  },
  {
   "cell_type": "code",
   "execution_count": 14,
   "metadata": {
    "collapsed": true
   },
   "outputs": [],
   "source": [
    "embedding_matrix_copy = embedding_matrix.copy()\n",
    "\n",
    "# Embedding layer\n",
    "pretrained_embedding_layer = Embedding(\n",
    "    input_dim=MAX_NB_WORDS+1,\n",
    "    output_dim=EMBEDDING_DIM,\n",
    "    weights=[embedding_matrix],\n",
    "    input_length=MAX_SEQUENCE_LENGTH,\n",
    ")"
   ]
  },
  {
   "cell_type": "markdown",
   "metadata": {},
   "source": [
    "#### Deep feature learning"
   ]
  },
  {
   "cell_type": "code",
   "execution_count": 15,
   "metadata": {},
   "outputs": [
    {
     "name": "stdout",
     "output_type": "stream",
     "text": [
      "Method: lsa\n",
      "Train on 4000 samples, validate on 1000 samples\n",
      "Epoch 1/2\n",
      "4s - loss: 0.6900 - mean_absolute_error: 0.4969 - val_loss: 0.6844 - val_mean_absolute_error: 0.4944\n",
      "Epoch 2/2\n",
      "4s - loss: 0.6837 - mean_absolute_error: 0.4926 - val_loss: 0.6799 - val_mean_absolute_error: 0.4912\n",
      "Sample shape: (5000, 100)\n",
      "\n",
      "Method: ae\n",
      "Train on 4000 samples, validate on 1000 samples\n",
      "Epoch 1/2\n",
      "4s - loss: 0.6054 - mean_absolute_error: 0.4323 - val_loss: 0.5218 - val_mean_absolute_error: 0.3533\n",
      "Epoch 2/2\n",
      "4s - loss: 0.5290 - mean_absolute_error: 0.3519 - val_loss: 0.5069 - val_mean_absolute_error: 0.3464\n",
      "Sample shape: (5000, 100)\n",
      "\n",
      "Method: le\n",
      "Train on 4000 samples, validate on 1000 samples\n",
      "Epoch 1/2\n",
      "5s - loss: 0.6737 - mean_absolute_error: 0.4816 - val_loss: 0.6546 - val_mean_absolute_error: 0.4707\n",
      "Epoch 2/2\n",
      "3s - loss: 0.6500 - mean_absolute_error: 0.4673 - val_loss: 0.6344 - val_mean_absolute_error: 0.4605\n",
      "Sample shape: (5000, 100)\n",
      "\n"
     ]
    }
   ],
   "source": [
    "nb_epoch = 2 \n",
    "D = dict()\n",
    "for method in ['lsa', 'ae', 'le']:\n",
    "    print(\"Method: {}\".format(method))\n",
    "    cnn_model = create_reference_model(\n",
    "        input_dim=MAX_SEQUENCE_LENGTH,\n",
    "        output_dim=B[method].shape[1],\n",
    "        embedding_layer=pretrained_embedding_layer,\n",
    "    )\n",
    "\n",
    "    cnn_model.fit(X, B[method], validation_split=0.2, epochs=nb_epoch, batch_size=100, verbose=2)\n",
    "\n",
    "    beheaded_cnn = behead(cnn_model)\n",
    "    D[method] = beheaded_cnn.predict(X)\n",
    "    print(\"Sample shape: {}\".format(D[method].shape))\n",
    "    print()"
   ]
  },
  {
   "cell_type": "markdown",
   "metadata": {},
   "source": [
    "# Tools for evaluating cluster quality"
   ]
  },
  {
   "cell_type": "markdown",
   "metadata": {},
   "source": [
    "## K-means "
   ]
  },
  {
   "cell_type": "code",
   "execution_count": 16,
   "metadata": {},
   "outputs": [
    {
     "name": "stdout",
     "output_type": "stream",
     "text": [
      "Number of classes: 20\n"
     ]
    }
   ],
   "source": [
    "true_labels = y\n",
    "n_clusters = len(np.unique(y))\n",
    "print(\"Number of classes: %d\" % n_clusters)\n",
    "km = KMeans(n_clusters=n_clusters, n_jobs=-1)\n",
    "result = dict()\n",
    "pred = dict()"
   ]
  },
  {
   "cell_type": "markdown",
   "metadata": {},
   "source": [
    "#### Deep feature from Average Embedding"
   ]
  },
  {
   "cell_type": "code",
   "execution_count": 17,
   "metadata": {},
   "outputs": [
    {
     "name": "stdout",
     "output_type": "stream",
     "text": [
      "Shape: (5000, 100)\n",
      "Homogeneity: 0.054\n",
      "Completeness: 0.061\n",
      "V-measure: 0.058\n",
      "NMI: 0.058\n",
      "Rand score: 0.012\n",
      "Accuracy: 0.119\n"
     ]
    }
   ],
   "source": [
    "method = 'ae'\n",
    "deep_features = normalize(D[method], norm='l2')\n",
    "print('Shape: {}'.format(deep_features.shape)) \n",
    "km.fit(deep_features)\n",
    "y_pred = km.labels_\n",
    "result['deep_ae'] = cluster_quality(true_labels, y_pred)\n",
    "pred['deep_ae'] = y_pred"
   ]
  },
  {
   "cell_type": "markdown",
   "metadata": {},
   "source": [
    "#### Deep feature from LSA"
   ]
  },
  {
   "cell_type": "code",
   "execution_count": 18,
   "metadata": {},
   "outputs": [
    {
     "name": "stdout",
     "output_type": "stream",
     "text": [
      "Shape: (5000, 100)\n",
      "Homogeneity: 0.353\n",
      "Completeness: 0.374\n",
      "V-measure: 0.363\n",
      "NMI: 0.363\n",
      "Rand score: 0.190\n",
      "Accuracy: 0.408\n"
     ]
    }
   ],
   "source": [
    "method = 'lsa'\n",
    "deep_features = normalize(D[method], norm='l2')\n",
    "print('Shape: {}'.format(deep_features.shape)) \n",
    "km.fit(deep_features)\n",
    "y_pred = km.labels_\n",
    "result['deep_lsa'] = cluster_quality(true_labels, y_pred)\n",
    "pred['deep_lsa'] = y_pred"
   ]
  },
  {
   "cell_type": "markdown",
   "metadata": {},
   "source": [
    "#### Deep feature from Laplacian Eigenvalues"
   ]
  },
  {
   "cell_type": "code",
   "execution_count": 19,
   "metadata": {},
   "outputs": [
    {
     "name": "stdout",
     "output_type": "stream",
     "text": [
      "Shape: (5000, 100)\n",
      "Homogeneity: 0.424\n",
      "Completeness: 0.458\n",
      "V-measure: 0.440\n",
      "NMI: 0.441\n",
      "Rand score: 0.232\n",
      "Accuracy: 0.478\n"
     ]
    }
   ],
   "source": [
    "method = 'le'\n",
    "deep_features = normalize(D[method], norm='l2')\n",
    "print('Shape: {}'.format(deep_features.shape)) \n",
    "km.fit(deep_features)\n",
    "y_pred = km.labels_\n",
    "result['deep_le'] = cluster_quality(true_labels, y_pred)\n",
    "pred['deep_le'] = y_pred"
   ]
  },
  {
   "cell_type": "markdown",
   "metadata": {},
   "source": [
    "#### LSA"
   ]
  },
  {
   "cell_type": "code",
   "execution_count": 20,
   "metadata": {},
   "outputs": [
    {
     "name": "stdout",
     "output_type": "stream",
     "text": [
      "Shape: (5000, 100)\n",
      "Homogeneity: 0.684\n",
      "Completeness: 0.770\n",
      "V-measure: 0.724\n",
      "NMI: 0.726\n",
      "Rand score: 0.327\n",
      "Accuracy: 0.726\n"
     ]
    }
   ],
   "source": [
    "lsa_features = Y['lsa']\n",
    "print('Shape: {}'.format(lsa_features.shape)) \n",
    "km.fit(lsa_features)\n",
    "y_pred = km.labels_\n",
    "result['lsa'] = cluster_quality(true_labels, y_pred)\n",
    "pred['lsa'] = y_pred"
   ]
  },
  {
   "cell_type": "markdown",
   "metadata": {},
   "source": [
    "#### Laplacian Eigenvalues aka Spectral clustering "
   ]
  },
  {
   "cell_type": "code",
   "execution_count": 21,
   "metadata": {},
   "outputs": [
    {
     "name": "stdout",
     "output_type": "stream",
     "text": [
      "Shape: (5000, 15)\n",
      "Homogeneity: 0.554\n",
      "Completeness: 0.560\n",
      "V-measure: 0.557\n",
      "NMI: 0.557\n",
      "Rand score: 0.491\n",
      "Accuracy: 0.687\n"
     ]
    }
   ],
   "source": [
    "laplacian_features = normalize(Y['le'], norm='l2')\n",
    "print('Shape: {}'.format(laplacian_features.shape)) \n",
    "km.fit(laplacian_features)\n",
    "y_pred = km.labels_\n",
    "result['le'] = cluster_quality(true_labels, y_pred)\n",
    "pred['le'] = y_pred"
   ]
  },
  {
   "cell_type": "markdown",
   "metadata": {},
   "source": [
    "# Cluster visualization"
   ]
  },
  {
   "cell_type": "markdown",
   "metadata": {},
   "source": [
    "#### Random sampling because t-SNE is slow"
   ]
  },
  {
   "cell_type": "code",
   "execution_count": 22,
   "metadata": {
    "collapsed": true
   },
   "outputs": [],
   "source": [
    "# random sample because t-sne is slow\n",
    "tsne_sample = 1000\n",
    "idx_sample = np.random.randint(low=0, high=sample, size=(tsne_sample,))"
   ]
  },
  {
   "cell_type": "code",
   "execution_count": 23,
   "metadata": {},
   "outputs": [],
   "source": [
    "# mapping color to sample\n",
    "labels = np.unique(true_labels)\n",
    "colormap = {label: color for label, color in zip(labels, COLORNAMES[:20])}\n",
    "colors = [colormap[true_labels[idx]] for idx in idx_sample]"
   ]
  },
  {
   "cell_type": "markdown",
   "metadata": {},
   "source": [
    "## t-SNE \n",
    "\n",
    "<br>\n",
    "Remarks:\n",
    "- Using Laplacian Eigenvalues, we obtain very dense clusters\n",
    "- Using LSA as target, results are also quite good\n",
    "- LSA is very competitive for accuracy"
   ]
  },
  {
   "cell_type": "code",
   "execution_count": 24,
   "metadata": {
    "collapsed": true
   },
   "outputs": [],
   "source": [
    "# T-SNE model\n",
    "tsne = TSNE(n_components=2, \n",
    "            perplexity=30, \n",
    "            early_exaggeration=4.,\n",
    "            learning_rate=1000,\n",
    "            init=\"pca\", \n",
    "            metric=\"euclidean\")"
   ]
  },
  {
   "cell_type": "markdown",
   "metadata": {},
   "source": [
    "#### Deep feature representation from Laplacian Eigenvalues"
   ]
  },
  {
   "cell_type": "code",
   "execution_count": 25,
   "metadata": {},
   "outputs": [
    {
     "name": "stdout",
     "output_type": "stream",
     "text": [
      "CPU times: user 29.9 s, sys: 3.24 s, total: 33.2 s\n",
      "Wall time: 35.4 s\n"
     ]
    }
   ],
   "source": [
    "%%time\n",
    "rand_deep_features = deep_features[idx_sample]\n",
    "tsne_deep = tsne.fit_transform(rand_deep_features)"
   ]
  },
  {
   "cell_type": "code",
   "execution_count": 26,
   "metadata": {},
   "outputs": [
    {
     "data": {
      "text/html": [
       "\n",
       "\n",
       "    <div class=\"bk-root\">\n",
       "        <div class=\"bk-plotdiv\" id=\"87cc9f8d-1e32-46d0-8189-92d3fbb9912b\"></div>\n",
       "    </div>\n",
       "<script type=\"text/javascript\">\n",
       "  \n",
       "  (function(global) {\n",
       "    function now() {\n",
       "      return new Date();\n",
       "    }\n",
       "  \n",
       "    var force = false;\n",
       "  \n",
       "    if (typeof (window._bokeh_onload_callbacks) === \"undefined\" || force === true) {\n",
       "      window._bokeh_onload_callbacks = [];\n",
       "      window._bokeh_is_loading = undefined;\n",
       "    }\n",
       "  \n",
       "  \n",
       "    \n",
       "    if (typeof (window._bokeh_timeout) === \"undefined\" || force === true) {\n",
       "      window._bokeh_timeout = Date.now() + 0;\n",
       "      window._bokeh_failed_load = false;\n",
       "    }\n",
       "  \n",
       "    var NB_LOAD_WARNING = {'data': {'text/html':\n",
       "       \"<div style='background-color: #fdd'>\\n\"+\n",
       "       \"<p>\\n\"+\n",
       "       \"BokehJS does not appear to have successfully loaded. If loading BokehJS from CDN, this \\n\"+\n",
       "       \"may be due to a slow or bad network connection. Possible fixes:\\n\"+\n",
       "       \"</p>\\n\"+\n",
       "       \"<ul>\\n\"+\n",
       "       \"<li>re-rerun `output_notebook()` to attempt to load from CDN again, or</li>\\n\"+\n",
       "       \"<li>use INLINE resources instead, as so:</li>\\n\"+\n",
       "       \"</ul>\\n\"+\n",
       "       \"<code>\\n\"+\n",
       "       \"from bokeh.resources import INLINE\\n\"+\n",
       "       \"output_notebook(resources=INLINE)\\n\"+\n",
       "       \"</code>\\n\"+\n",
       "       \"</div>\"}};\n",
       "  \n",
       "    function display_loaded() {\n",
       "      if (window.Bokeh !== undefined) {\n",
       "        var el = document.getElementById(\"87cc9f8d-1e32-46d0-8189-92d3fbb9912b\");\n",
       "        el.textContent = \"BokehJS \" + Bokeh.version + \" successfully loaded.\";\n",
       "      } else if (Date.now() < window._bokeh_timeout) {\n",
       "        setTimeout(display_loaded, 100)\n",
       "      }\n",
       "    }\n",
       "  \n",
       "    function run_callbacks() {\n",
       "      try {\n",
       "        window._bokeh_onload_callbacks.forEach(function(callback) { callback() });\n",
       "      }\n",
       "      finally {\n",
       "        delete window._bokeh_onload_callbacks\n",
       "      }\n",
       "      console.info(\"Bokeh: all callbacks have finished\");\n",
       "    }\n",
       "  \n",
       "    function load_libs(js_urls, callback) {\n",
       "      window._bokeh_onload_callbacks.push(callback);\n",
       "      if (window._bokeh_is_loading > 0) {\n",
       "        console.log(\"Bokeh: BokehJS is being loaded, scheduling callback at\", now());\n",
       "        return null;\n",
       "      }\n",
       "      if (js_urls == null || js_urls.length === 0) {\n",
       "        run_callbacks();\n",
       "        return null;\n",
       "      }\n",
       "      console.log(\"Bokeh: BokehJS not loaded, scheduling load and callback at\", now());\n",
       "      window._bokeh_is_loading = js_urls.length;\n",
       "      for (var i = 0; i < js_urls.length; i++) {\n",
       "        var url = js_urls[i];\n",
       "        var s = document.createElement('script');\n",
       "        s.src = url;\n",
       "        s.async = false;\n",
       "        s.onreadystatechange = s.onload = function() {\n",
       "          window._bokeh_is_loading--;\n",
       "          if (window._bokeh_is_loading === 0) {\n",
       "            console.log(\"Bokeh: all BokehJS libraries loaded\");\n",
       "            run_callbacks()\n",
       "          }\n",
       "        };\n",
       "        s.onerror = function() {\n",
       "          console.warn(\"failed to load library \" + url);\n",
       "        };\n",
       "        console.log(\"Bokeh: injecting script tag for BokehJS library: \", url);\n",
       "        document.getElementsByTagName(\"head\")[0].appendChild(s);\n",
       "      }\n",
       "    };var element = document.getElementById(\"87cc9f8d-1e32-46d0-8189-92d3fbb9912b\");\n",
       "    if (element == null) {\n",
       "      console.log(\"Bokeh: ERROR: autoload.js configured with elementid '87cc9f8d-1e32-46d0-8189-92d3fbb9912b' but no matching script tag was found. \")\n",
       "      return false;\n",
       "    }\n",
       "  \n",
       "    var js_urls = [];\n",
       "  \n",
       "    var inline_js = [\n",
       "      function(Bokeh) {\n",
       "        (function() {\n",
       "          var fn = function() {\n",
       "            var docs_json = {\"1ac60b63-d2c6-4f47-b392-fbeaf0143118\":{\"roots\":{\"references\":[{\"attributes\":{\"formatter\":{\"id\":\"9c8d5093-7f02-4a06-bdb3-1e1cc6eadc4a\",\"type\":\"BasicTickFormatter\"},\"plot\":{\"id\":\"259c0cfa-6d91-477b-bc25-ea376a5198e7\",\"subtype\":\"Figure\",\"type\":\"Plot\"},\"ticker\":{\"id\":\"6eeba180-7429-4a60-9abb-a61734b5ce05\",\"type\":\"BasicTicker\"}},\"id\":\"8e328261-471c-4075-8e6f-6e865cbf872c\",\"type\":\"LinearAxis\"},{\"attributes\":{\"dimension\":1,\"grid_line_color\":{\"value\":null},\"plot\":{\"id\":\"259c0cfa-6d91-477b-bc25-ea376a5198e7\",\"subtype\":\"Figure\",\"type\":\"Plot\"},\"ticker\":{\"id\":\"77043997-6152-468b-869f-82e86fe301ba\",\"type\":\"BasicTicker\"}},\"id\":\"ae976b2d-ed0e-4ddd-925b-db1ba89586db\",\"type\":\"Grid\"},{\"attributes\":{\"callback\":null,\"column_names\":[\"x\",\"y\",\"color\"],\"data\":{\"color\":[\"YellowGreen\",\"Purple\",\"Red\",\"Tomato\",\"SteelBlue\",\"SlateGrey\",\"Sienna\",\"Silver\",\"SpringGreen\",\"Lime\",\"SeaGreen\",\"Violet\",\"Violet\",\"Turquoise\",\"YellowGreen\",\"Turquoise\",\"Navy\",\"Silver\",\"Purple\",\"Sienna\",\"Thistle\",\"Red\",\"Lime\",\"SteelBlue\",\"Lime\",\"Violet\",\"Orange\",\"Purple\",\"Navy\",\"Silver\",\"Lime\",\"Purple\",\"Sienna\",\"Black\",\"Lime\",\"Teal\",\"Turquoise\",\"OrangeRed\",\"Turquoise\",\"Navy\",\"Thistle\",\"Orange\",\"Black\",\"Teal\",\"SlateGrey\",\"Tomato\",\"Red\",\"SeaGreen\",\"Black\",\"Red\",\"SteelBlue\",\"Tomato\",\"SpringGreen\",\"OrangeRed\",\"SlateGrey\",\"Orange\",\"Sienna\",\"Sienna\",\"Black\",\"Black\",\"Sienna\",\"Yellow\",\"Tomato\",\"YellowGreen\",\"Violet\",\"Silver\",\"OrangeRed\",\"Yellow\",\"Thistle\",\"Turquoise\",\"SteelBlue\",\"Thistle\",\"Silver\",\"Silver\",\"Yellow\",\"Violet\",\"Silver\",\"Lime\",\"Sienna\",\"Red\",\"Yellow\",\"YellowGreen\",\"Turquoise\",\"Sienna\",\"Orange\",\"Black\",\"Tomato\",\"OrangeRed\",\"Violet\",\"OrangeRed\",\"Violet\",\"Tomato\",\"SeaGreen\",\"SpringGreen\",\"SteelBlue\",\"Sienna\",\"Yellow\",\"Orange\",\"Violet\",\"Yellow\",\"Turquoise\",\"SeaGreen\",\"Orange\",\"Orange\",\"YellowGreen\",\"Black\",\"Thistle\",\"Tomato\",\"YellowGreen\",\"SpringGreen\",\"SlateGrey\",\"YellowGreen\",\"Sienna\",\"SlateGrey\",\"OrangeRed\",\"Black\",\"Orange\",\"Yellow\",\"Sienna\",\"Lime\",\"SpringGreen\",\"Red\",\"Yellow\",\"SeaGreen\",\"Red\",\"Navy\",\"SteelBlue\",\"SeaGreen\",\"SeaGreen\",\"Black\",\"Thistle\",\"Teal\",\"Navy\",\"SlateGrey\",\"Sienna\",\"Violet\",\"Orange\",\"YellowGreen\",\"Orange\",\"SeaGreen\",\"Teal\",\"Silver\",\"Navy\",\"Yellow\",\"Violet\",\"SteelBlue\",\"Yellow\",\"Thistle\",\"Violet\",\"Violet\",\"Thistle\",\"Violet\",\"Thistle\",\"Sienna\",\"OrangeRed\",\"Orange\",\"OrangeRed\",\"Thistle\",\"YellowGreen\",\"SpringGreen\",\"SlateGrey\",\"SpringGreen\",\"OrangeRed\",\"Turquoise\",\"Yellow\",\"Navy\",\"Sienna\",\"Orange\",\"Thistle\",\"Red\",\"Tomato\",\"Orange\",\"Silver\",\"Navy\",\"Thistle\",\"SteelBlue\",\"Turquoise\",\"Teal\",\"Orange\",\"Violet\",\"Orange\",\"OrangeRed\",\"Tomato\",\"YellowGreen\",\"Navy\",\"Red\",\"SlateGrey\",\"Silver\",\"Violet\",\"Silver\",\"Navy\",\"YellowGreen\",\"Yellow\",\"Black\",\"SpringGreen\",\"Turquoise\",\"Black\",\"SpringGreen\",\"Turquoise\",\"Purple\",\"SpringGreen\",\"Thistle\",\"Silver\",\"Orange\",\"Purple\",\"Purple\",\"OrangeRed\",\"Violet\",\"Lime\",\"SeaGreen\",\"SeaGreen\",\"SeaGreen\",\"Thistle\",\"Navy\",\"YellowGreen\",\"SteelBlue\",\"Black\",\"Turquoise\",\"Purple\",\"Purple\",\"Thistle\",\"SteelBlue\",\"Turquoise\",\"Turquoise\",\"OrangeRed\",\"Black\",\"Red\",\"Navy\",\"OrangeRed\",\"Silver\",\"Red\",\"Orange\",\"SteelBlue\",\"SpringGreen\",\"SeaGreen\",\"Silver\",\"Yellow\",\"Black\",\"Orange\",\"Lime\",\"Sienna\",\"Thistle\",\"SpringGreen\",\"SpringGreen\",\"SteelBlue\",\"Tomato\",\"Tomato\",\"Navy\",\"Silver\",\"Silver\",\"Black\",\"Yellow\",\"Black\",\"Purple\",\"Navy\",\"Navy\",\"SteelBlue\",\"Black\",\"SeaGreen\",\"Violet\",\"Teal\",\"Lime\",\"Violet\",\"Violet\",\"SeaGreen\",\"Violet\",\"Black\",\"OrangeRed\",\"Teal\",\"Lime\",\"Yellow\",\"Teal\",\"SlateGrey\",\"Teal\",\"Tomato\",\"Purple\",\"Tomato\",\"SeaGreen\",\"YellowGreen\",\"Purple\",\"Black\",\"Yellow\",\"Red\",\"Teal\",\"Thistle\",\"Purple\",\"Sienna\",\"Silver\",\"Violet\",\"Red\",\"SteelBlue\",\"Turquoise\",\"Lime\",\"Yellow\",\"Turquoise\",\"SteelBlue\",\"Turquoise\",\"Violet\",\"Turquoise\",\"YellowGreen\",\"SeaGreen\",\"Red\",\"SteelBlue\",\"Red\",\"Sienna\",\"Turquoise\",\"Turquoise\",\"Thistle\",\"Purple\",\"Violet\",\"Silver\",\"Lime\",\"Teal\",\"Navy\",\"YellowGreen\",\"Violet\",\"Sienna\",\"Tomato\",\"Orange\",\"Silver\",\"Navy\",\"Red\",\"Sienna\",\"OrangeRed\",\"Black\",\"Turquoise\",\"Tomato\",\"Teal\",\"YellowGreen\",\"Turquoise\",\"Red\",\"Yellow\",\"YellowGreen\",\"OrangeRed\",\"SpringGreen\",\"Tomato\",\"Thistle\",\"Sienna\",\"Yellow\",\"Tomato\",\"Yellow\",\"SpringGreen\",\"SeaGreen\",\"Black\",\"Black\",\"Teal\",\"Tomato\",\"Orange\",\"Turquoise\",\"Lime\",\"Tomato\",\"YellowGreen\",\"SeaGreen\",\"Navy\",\"Red\",\"Red\",\"Red\",\"YellowGreen\",\"Black\",\"SpringGreen\",\"Purple\",\"Orange\",\"SteelBlue\",\"Thistle\",\"SlateGrey\",\"Purple\",\"Teal\",\"Tomato\",\"Orange\",\"Navy\",\"Thistle\",\"Turquoise\",\"Teal\",\"YellowGreen\",\"Navy\",\"Red\",\"YellowGreen\",\"Turquoise\",\"SteelBlue\",\"Purple\",\"Turquoise\",\"SlateGrey\",\"Tomato\",\"Red\",\"SlateGrey\",\"SeaGreen\",\"Silver\",\"Sienna\",\"Black\",\"Navy\",\"Teal\",\"Turquoise\",\"SteelBlue\",\"Yellow\",\"Red\",\"Turquoise\",\"SlateGrey\",\"Navy\",\"SeaGreen\",\"SeaGreen\",\"SlateGrey\",\"YellowGreen\",\"SlateGrey\",\"Turquoise\",\"SlateGrey\",\"Teal\",\"Navy\",\"SteelBlue\",\"SlateGrey\",\"Sienna\",\"Violet\",\"Thistle\",\"Violet\",\"Sienna\",\"YellowGreen\",\"Yellow\",\"Red\",\"Lime\",\"Orange\",\"Purple\",\"Thistle\",\"Orange\",\"Navy\",\"SpringGreen\",\"Turquoise\",\"Silver\",\"Sienna\",\"Thistle\",\"Sienna\",\"Violet\",\"Tomato\",\"Red\",\"Yellow\",\"SpringGreen\",\"Yellow\",\"Teal\",\"Tomato\",\"SlateGrey\",\"Sienna\",\"SeaGreen\",\"Thistle\",\"SpringGreen\",\"Red\",\"Orange\",\"Orange\",\"OrangeRed\",\"Tomato\",\"Thistle\",\"Thistle\",\"Yellow\",\"Purple\",\"Violet\",\"SlateGrey\",\"Red\",\"Sienna\",\"Red\",\"SlateGrey\",\"SlateGrey\",\"SeaGreen\",\"Turquoise\",\"Orange\",\"Yellow\",\"SlateGrey\",\"Tomato\",\"OrangeRed\",\"Red\",\"Sienna\",\"Turquoise\",\"Sienna\",\"Turquoise\",\"Orange\",\"SteelBlue\",\"SteelBlue\",\"Yellow\",\"Tomato\",\"Purple\",\"Turquoise\",\"SteelBlue\",\"Navy\",\"Black\",\"SpringGreen\",\"Thistle\",\"Yellow\",\"Teal\",\"Orange\",\"Yellow\",\"Black\",\"Violet\",\"Red\",\"SpringGreen\",\"Sienna\",\"Orange\",\"SlateGrey\",\"Tomato\",\"SlateGrey\",\"Violet\",\"YellowGreen\",\"OrangeRed\",\"Thistle\",\"Red\",\"Orange\",\"Navy\",\"Sienna\",\"SeaGreen\",\"Violet\",\"Red\",\"Navy\",\"SteelBlue\",\"SteelBlue\",\"Yellow\",\"Yellow\",\"SpringGreen\",\"Violet\",\"Red\",\"OrangeRed\",\"Black\",\"Orange\",\"Sienna\",\"Violet\",\"Red\",\"SpringGreen\",\"SteelBlue\",\"Yellow\",\"Navy\",\"SteelBlue\",\"Yellow\",\"Lime\",\"Navy\",\"Red\",\"Navy\",\"Sienna\",\"Sienna\",\"Yellow\",\"Lime\",\"Purple\",\"Teal\",\"Orange\",\"SeaGreen\",\"Thistle\",\"Silver\",\"Violet\",\"Navy\",\"SpringGreen\",\"SteelBlue\",\"Silver\",\"SlateGrey\",\"Turquoise\",\"Silver\",\"Navy\",\"Sienna\",\"Black\",\"Thistle\",\"Red\",\"Red\",\"Navy\",\"Yellow\",\"Sienna\",\"Orange\",\"Teal\",\"Yellow\",\"SteelBlue\",\"Red\",\"Turquoise\",\"Red\",\"Orange\",\"Turquoise\",\"Turquoise\",\"Silver\",\"YellowGreen\",\"Silver\",\"OrangeRed\",\"Violet\",\"Violet\",\"Tomato\",\"Teal\",\"Turquoise\",\"OrangeRed\",\"Yellow\",\"YellowGreen\",\"Silver\",\"Tomato\",\"Turquoise\",\"YellowGreen\",\"Thistle\",\"Purple\",\"Red\",\"Navy\",\"Violet\",\"SteelBlue\",\"Yellow\",\"Lime\",\"SeaGreen\",\"Lime\",\"Black\",\"SteelBlue\",\"SpringGreen\",\"Turquoise\",\"Yellow\",\"Turquoise\",\"Orange\",\"Thistle\",\"OrangeRed\",\"Orange\",\"OrangeRed\",\"YellowGreen\",\"Yellow\",\"OrangeRed\",\"SeaGreen\",\"Tomato\",\"Thistle\",\"Silver\",\"Tomato\",\"Turquoise\",\"Thistle\",\"Silver\",\"Yellow\",\"Black\",\"SeaGreen\",\"Navy\",\"Turquoise\",\"Turquoise\",\"SlateGrey\",\"Black\",\"Turquoise\",\"Yellow\",\"Yellow\",\"Red\",\"Purple\",\"Silver\",\"Purple\",\"YellowGreen\",\"Sienna\",\"Thistle\",\"Purple\",\"Tomato\",\"Purple\",\"Yellow\",\"Turquoise\",\"SpringGreen\",\"Teal\",\"Tomato\",\"Silver\",\"Tomato\",\"SeaGreen\",\"SteelBlue\",\"Teal\",\"Black\",\"Turquoise\",\"Purple\",\"Red\",\"Yellow\",\"Orange\",\"Purple\",\"Sienna\",\"YellowGreen\",\"Orange\",\"Yellow\",\"Yellow\",\"Violet\",\"Teal\",\"Lime\",\"Yellow\",\"Sienna\",\"YellowGreen\",\"Violet\",\"SpringGreen\",\"Black\",\"Red\",\"SteelBlue\",\"Red\",\"SlateGrey\",\"Red\",\"Purple\",\"Red\",\"YellowGreen\",\"OrangeRed\",\"Red\",\"Violet\",\"SpringGreen\",\"Sienna\",\"Turquoise\",\"SlateGrey\",\"Turquoise\",\"Orange\",\"Tomato\",\"SpringGreen\",\"YellowGreen\",\"Teal\",\"Thistle\",\"Red\",\"SeaGreen\",\"Tomato\",\"Violet\",\"Turquoise\",\"Teal\",\"YellowGreen\",\"SlateGrey\",\"Black\",\"Black\",\"SteelBlue\",\"OrangeRed\",\"Red\",\"Navy\",\"Tomato\",\"Tomato\",\"Silver\",\"Silver\",\"Black\",\"Black\",\"YellowGreen\",\"Red\",\"Black\",\"Yellow\",\"SteelBlue\",\"Violet\",\"Red\",\"Violet\",\"Teal\",\"Violet\",\"Navy\",\"YellowGreen\",\"Sienna\",\"Yellow\",\"Navy\",\"Teal\",\"Purple\",\"SpringGreen\",\"Purple\",\"Teal\",\"Silver\",\"SlateGrey\",\"Tomato\",\"YellowGreen\",\"Violet\",\"Yellow\",\"Orange\",\"Red\",\"Red\",\"Violet\",\"YellowGreen\",\"Lime\",\"Teal\",\"Purple\",\"OrangeRed\",\"Tomato\",\"YellowGreen\",\"Purple\",\"Teal\",\"SteelBlue\",\"Turquoise\",\"Navy\",\"OrangeRed\",\"Red\",\"SpringGreen\",\"Thistle\",\"SteelBlue\",\"Teal\",\"Yellow\",\"SeaGreen\",\"Navy\",\"Navy\",\"Teal\",\"Black\",\"Purple\",\"Yellow\",\"Thistle\",\"Tomato\",\"Silver\",\"Sienna\",\"SeaGreen\",\"SteelBlue\",\"Yellow\",\"Thistle\",\"SpringGreen\",\"SeaGreen\",\"Thistle\",\"Purple\",\"Lime\",\"SpringGreen\",\"Violet\",\"Black\",\"Red\",\"Violet\",\"Lime\",\"Sienna\",\"Red\",\"Yellow\",\"Orange\",\"Navy\",\"Sienna\",\"OrangeRed\",\"Violet\",\"SlateGrey\",\"Silver\",\"Purple\",\"Lime\",\"SteelBlue\",\"Red\",\"Navy\",\"Black\",\"Black\",\"SpringGreen\",\"Black\",\"Yellow\",\"Orange\",\"Navy\",\"Teal\",\"SteelBlue\",\"Yellow\",\"Orange\",\"Orange\",\"Yellow\",\"YellowGreen\",\"SteelBlue\",\"Thistle\",\"Silver\",\"YellowGreen\",\"Orange\",\"Red\",\"YellowGreen\",\"Yellow\",\"SlateGrey\",\"SeaGreen\",\"Orange\",\"Silver\",\"Yellow\",\"Red\",\"Tomato\",\"SlateGrey\",\"Purple\",\"Navy\",\"Lime\",\"YellowGreen\",\"Turquoise\",\"SeaGreen\",\"Navy\",\"SpringGreen\",\"Black\",\"Teal\",\"Silver\",\"Silver\",\"Red\",\"Sienna\",\"Red\",\"SeaGreen\",\"SpringGreen\",\"Thistle\",\"Thistle\",\"SeaGreen\",\"Orange\",\"SpringGreen\",\"Black\",\"Black\",\"Teal\",\"Black\",\"Sienna\",\"Sienna\",\"Thistle\",\"Black\",\"Violet\",\"Silver\",\"Lime\",\"Lime\",\"Tomato\",\"OrangeRed\",\"Turquoise\",\"Sienna\",\"Thistle\",\"Orange\",\"SeaGreen\",\"SteelBlue\",\"Turquoise\",\"Teal\",\"Violet\",\"Sienna\",\"Yellow\",\"Lime\",\"Purple\",\"Teal\",\"Black\",\"Sienna\",\"Orange\",\"Silver\",\"YellowGreen\",\"Lime\",\"Silver\",\"Yellow\",\"YellowGreen\",\"Orange\",\"Black\",\"OrangeRed\",\"Red\",\"Violet\",\"Tomato\",\"Red\",\"Teal\",\"Red\",\"YellowGreen\",\"Tomato\",\"Tomato\",\"YellowGreen\",\"Tomato\",\"Orange\",\"Thistle\",\"SeaGreen\",\"SlateGrey\",\"Navy\",\"Silver\",\"Black\",\"Purple\",\"OrangeRed\",\"Silver\",\"YellowGreen\",\"SteelBlue\",\"Sienna\",\"SpringGreen\",\"Lime\",\"Orange\",\"Tomato\",\"Black\",\"Yellow\",\"Red\",\"Lime\",\"YellowGreen\",\"Orange\",\"Purple\",\"Silver\",\"OrangeRed\",\"SteelBlue\",\"SeaGreen\",\"Red\",\"Yellow\",\"SlateGrey\",\"Purple\",\"Violet\",\"OrangeRed\",\"Black\",\"Lime\",\"Purple\",\"Tomato\",\"Black\",\"SpringGreen\",\"YellowGreen\",\"Sienna\",\"Orange\",\"Turquoise\",\"Violet\",\"Black\",\"Lime\",\"Sienna\",\"SpringGreen\",\"Turquoise\",\"Teal\",\"Sienna\",\"Violet\",\"SpringGreen\",\"OrangeRed\",\"Sienna\",\"Lime\",\"Lime\",\"Silver\",\"Red\",\"Black\",\"Thistle\",\"Orange\",\"SpringGreen\",\"Turquoise\",\"Thistle\",\"Thistle\",\"Black\",\"Silver\",\"Yellow\",\"Lime\",\"Black\",\"YellowGreen\",\"Teal\",\"Navy\",\"SpringGreen\",\"Thistle\",\"SteelBlue\",\"SpringGreen\",\"Violet\",\"SlateGrey\",\"SpringGreen\",\"Tomato\",\"YellowGreen\",\"Thistle\",\"Sienna\",\"Turquoise\",\"Orange\",\"Violet\",\"Navy\",\"Silver\",\"Thistle\",\"Turquoise\",\"SeaGreen\",\"Black\",\"Black\",\"Purple\",\"SpringGreen\"],\"x\":{\"__ndarray__\":\"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\",\"dtype\":\"float32\",\"shape\":[1000]},\"y\":{\"__ndarray__\":\"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\",\"dtype\":\"float32\",\"shape\":[1000]}}},\"id\":\"8a5f7b36-340b-469f-8301-bbbc003dcbbb\",\"type\":\"ColumnDataSource\"},{\"attributes\":{\"fill_alpha\":{\"value\":0.1},\"fill_color\":{\"value\":\"#1f77b4\"},\"line_alpha\":{\"value\":0.1},\"line_color\":{\"value\":\"#1f77b4\"},\"size\":{\"units\":\"screen\",\"value\":7},\"x\":{\"field\":\"x\"},\"y\":{\"field\":\"y\"}},\"id\":\"47752e66-e817-45c8-8f47-cf31c06fdecf\",\"type\":\"Circle\"},{\"attributes\":{\"bottom_units\":\"screen\",\"fill_alpha\":{\"value\":0.5},\"fill_color\":{\"value\":\"lightgrey\"},\"left_units\":\"screen\",\"level\":\"overlay\",\"line_alpha\":{\"value\":1.0},\"line_color\":{\"value\":\"black\"},\"line_dash\":[4,4],\"line_width\":{\"value\":2},\"plot\":null,\"render_mode\":\"css\",\"right_units\":\"screen\",\"top_units\":\"screen\"},\"id\":\"925bc3df-c88f-4437-b1e6-4813d88986de\",\"type\":\"BoxAnnotation\"},{\"attributes\":{\"overlay\":{\"id\":\"925bc3df-c88f-4437-b1e6-4813d88986de\",\"type\":\"BoxAnnotation\"},\"plot\":{\"id\":\"259c0cfa-6d91-477b-bc25-ea376a5198e7\",\"subtype\":\"Figure\",\"type\":\"Plot\"}},\"id\":\"cb6833f3-ee98-470f-aa76-bc27d11aac9c\",\"type\":\"BoxZoomTool\"},{\"attributes\":{},\"id\":\"6eeba180-7429-4a60-9abb-a61734b5ce05\",\"type\":\"BasicTicker\"},{\"attributes\":{},\"id\":\"04c253f4-c4a9-4762-9ffb-187e96a74a0e\",\"type\":\"LinearScale\"},{\"attributes\":{},\"id\":\"a096bcff-1e3e-4f33-84ab-51fb7cb3aef7\",\"type\":\"ToolEvents\"},{\"attributes\":{\"active_drag\":\"auto\",\"active_inspect\":\"auto\",\"active_scroll\":\"auto\",\"active_tap\":\"auto\",\"tools\":[{\"id\":\"b415704d-84f2-40a3-92de-72dcd3ee9c71\",\"type\":\"WheelZoomTool\"},{\"id\":\"72a12ad2-d5b3-40b8-b4eb-7441cdb061db\",\"type\":\"ResetTool\"},{\"id\":\"6b84b581-767e-41d5-b508-a62630927157\",\"type\":\"RedoTool\"},{\"id\":\"cb6833f3-ee98-470f-aa76-bc27d11aac9c\",\"type\":\"BoxZoomTool\"}]},\"id\":\"e96ae542-0271-4485-833c-396945bf0138\",\"type\":\"Toolbar\"},{\"attributes\":{\"plot\":{\"id\":\"259c0cfa-6d91-477b-bc25-ea376a5198e7\",\"subtype\":\"Figure\",\"type\":\"Plot\"}},\"id\":\"b415704d-84f2-40a3-92de-72dcd3ee9c71\",\"type\":\"WheelZoomTool\"},{\"attributes\":{\"plot\":{\"id\":\"259c0cfa-6d91-477b-bc25-ea376a5198e7\",\"subtype\":\"Figure\",\"type\":\"Plot\"}},\"id\":\"6b84b581-767e-41d5-b508-a62630927157\",\"type\":\"RedoTool\"},{\"attributes\":{\"grid_line_color\":{\"value\":null},\"plot\":{\"id\":\"259c0cfa-6d91-477b-bc25-ea376a5198e7\",\"subtype\":\"Figure\",\"type\":\"Plot\"},\"ticker\":{\"id\":\"6eeba180-7429-4a60-9abb-a61734b5ce05\",\"type\":\"BasicTicker\"}},\"id\":\"58ce21af-8ac2-48ab-a7ac-f31b0321627b\",\"type\":\"Grid\"},{\"attributes\":{\"plot\":null,\"text\":\"t-sne plot - 1000 samples\"},\"id\":\"62b449eb-a22a-4f94-99d2-7f22b72a0ee9\",\"type\":\"Title\"},{\"attributes\":{},\"id\":\"9c8d5093-7f02-4a06-bdb3-1e1cc6eadc4a\",\"type\":\"BasicTickFormatter\"},{\"attributes\":{},\"id\":\"f928c542-6fc8-4c7d-bf99-0ef453bb1700\",\"type\":\"LinearScale\"},{\"attributes\":{\"data_source\":{\"id\":\"8a5f7b36-340b-469f-8301-bbbc003dcbbb\",\"type\":\"ColumnDataSource\"},\"glyph\":{\"id\":\"5545f64c-acfe-4f62-a81c-fe67779b4f06\",\"type\":\"Circle\"},\"hover_glyph\":null,\"muted_glyph\":null,\"nonselection_glyph\":{\"id\":\"47752e66-e817-45c8-8f47-cf31c06fdecf\",\"type\":\"Circle\"},\"selection_glyph\":null},\"id\":\"294b24a8-d96d-489f-a5bb-0c73180cd4ca\",\"type\":\"GlyphRenderer\"},{\"attributes\":{\"callback\":null},\"id\":\"d4ee5052-94e6-4a28-8e02-4127a9a21cef\",\"type\":\"DataRange1d\"},{\"attributes\":{\"below\":[{\"id\":\"8e328261-471c-4075-8e6f-6e865cbf872c\",\"type\":\"LinearAxis\"}],\"left\":[{\"id\":\"5256b04d-a410-4511-8b8b-91189aaf91b1\",\"type\":\"LinearAxis\"}],\"renderers\":[{\"id\":\"8e328261-471c-4075-8e6f-6e865cbf872c\",\"type\":\"LinearAxis\"},{\"id\":\"58ce21af-8ac2-48ab-a7ac-f31b0321627b\",\"type\":\"Grid\"},{\"id\":\"5256b04d-a410-4511-8b8b-91189aaf91b1\",\"type\":\"LinearAxis\"},{\"id\":\"ae976b2d-ed0e-4ddd-925b-db1ba89586db\",\"type\":\"Grid\"},{\"id\":\"925bc3df-c88f-4437-b1e6-4813d88986de\",\"type\":\"BoxAnnotation\"},{\"id\":\"294b24a8-d96d-489f-a5bb-0c73180cd4ca\",\"type\":\"GlyphRenderer\"}],\"title\":{\"id\":\"62b449eb-a22a-4f94-99d2-7f22b72a0ee9\",\"type\":\"Title\"},\"tool_events\":{\"id\":\"a096bcff-1e3e-4f33-84ab-51fb7cb3aef7\",\"type\":\"ToolEvents\"},\"toolbar\":{\"id\":\"e96ae542-0271-4485-833c-396945bf0138\",\"type\":\"Toolbar\"},\"x_range\":{\"id\":\"66633619-7e20-45a0-b910-b38de7f0d421\",\"type\":\"DataRange1d\"},\"x_scale\":{\"id\":\"04c253f4-c4a9-4762-9ffb-187e96a74a0e\",\"type\":\"LinearScale\"},\"y_range\":{\"id\":\"d4ee5052-94e6-4a28-8e02-4127a9a21cef\",\"type\":\"DataRange1d\"},\"y_scale\":{\"id\":\"f928c542-6fc8-4c7d-bf99-0ef453bb1700\",\"type\":\"LinearScale\"}},\"id\":\"259c0cfa-6d91-477b-bc25-ea376a5198e7\",\"subtype\":\"Figure\",\"type\":\"Plot\"},{\"attributes\":{\"plot\":{\"id\":\"259c0cfa-6d91-477b-bc25-ea376a5198e7\",\"subtype\":\"Figure\",\"type\":\"Plot\"}},\"id\":\"72a12ad2-d5b3-40b8-b4eb-7441cdb061db\",\"type\":\"ResetTool\"},{\"attributes\":{\"fill_alpha\":{\"value\":0.7},\"fill_color\":{\"field\":\"color\"},\"line_color\":{\"field\":\"color\"},\"size\":{\"units\":\"screen\",\"value\":7},\"x\":{\"field\":\"x\"},\"y\":{\"field\":\"y\"}},\"id\":\"5545f64c-acfe-4f62-a81c-fe67779b4f06\",\"type\":\"Circle\"},{\"attributes\":{\"callback\":null},\"id\":\"66633619-7e20-45a0-b910-b38de7f0d421\",\"type\":\"DataRange1d\"},{\"attributes\":{},\"id\":\"77043997-6152-468b-869f-82e86fe301ba\",\"type\":\"BasicTicker\"},{\"attributes\":{\"formatter\":{\"id\":\"1ae91ea1-9002-40d1-9c7e-dcad71f08c76\",\"type\":\"BasicTickFormatter\"},\"plot\":{\"id\":\"259c0cfa-6d91-477b-bc25-ea376a5198e7\",\"subtype\":\"Figure\",\"type\":\"Plot\"},\"ticker\":{\"id\":\"77043997-6152-468b-869f-82e86fe301ba\",\"type\":\"BasicTicker\"}},\"id\":\"5256b04d-a410-4511-8b8b-91189aaf91b1\",\"type\":\"LinearAxis\"},{\"attributes\":{},\"id\":\"1ae91ea1-9002-40d1-9c7e-dcad71f08c76\",\"type\":\"BasicTickFormatter\"}],\"root_ids\":[\"259c0cfa-6d91-477b-bc25-ea376a5198e7\"]},\"title\":\"Bokeh Application\",\"version\":\"0.12.6\"}};\n",
       "            var render_items = [{\"docid\":\"1ac60b63-d2c6-4f47-b392-fbeaf0143118\",\"elementid\":\"87cc9f8d-1e32-46d0-8189-92d3fbb9912b\",\"modelid\":\"259c0cfa-6d91-477b-bc25-ea376a5198e7\"}];\n",
       "            \n",
       "            Bokeh.embed.embed_items(docs_json, render_items);\n",
       "          };\n",
       "          if (document.readyState != \"loading\") fn();\n",
       "          else document.addEventListener(\"DOMContentLoaded\", fn);\n",
       "        })();\n",
       "      },\n",
       "      function(Bokeh) {\n",
       "      }\n",
       "    ];\n",
       "  \n",
       "    function run_inline_js() {\n",
       "      \n",
       "      if ((window.Bokeh !== undefined) || (force === true)) {\n",
       "        for (var i = 0; i < inline_js.length; i++) {\n",
       "          inline_js[i](window.Bokeh);\n",
       "        }if (force === true) {\n",
       "          display_loaded();\n",
       "        }} else if (Date.now() < window._bokeh_timeout) {\n",
       "        setTimeout(run_inline_js, 100);\n",
       "      } else if (!window._bokeh_failed_load) {\n",
       "        console.log(\"Bokeh: BokehJS failed to load within specified timeout.\");\n",
       "        window._bokeh_failed_load = true;\n",
       "      } else if (force !== true) {\n",
       "        var cell = $(document.getElementById(\"87cc9f8d-1e32-46d0-8189-92d3fbb9912b\")).parents('.cell').data().cell;\n",
       "        cell.output_area.append_execute_result(NB_LOAD_WARNING)\n",
       "      }\n",
       "  \n",
       "    }\n",
       "  \n",
       "    if (window._bokeh_is_loading === 0) {\n",
       "      console.log(\"Bokeh: BokehJS loaded, going straight to plotting\");\n",
       "      run_inline_js();\n",
       "    } else {\n",
       "      load_libs(js_urls, function() {\n",
       "        console.log(\"Bokeh: BokehJS plotting callback run at\", now());\n",
       "        run_inline_js();\n",
       "      });\n",
       "    }\n",
       "  }(this));\n",
       "</script>"
      ]
     },
     "metadata": {},
     "output_type": "display_data"
    }
   ],
   "source": [
    "visu.cluster2d(*tsne_deep.T, colors=colors, height=600, width=600, size=7)"
   ]
  },
  {
   "cell_type": "markdown",
   "metadata": {},
   "source": [
    "####  LSA"
   ]
  },
  {
   "cell_type": "code",
   "execution_count": 27,
   "metadata": {},
   "outputs": [
    {
     "name": "stdout",
     "output_type": "stream",
     "text": [
      "CPU times: user 28 s, sys: 3.28 s, total: 31.3 s\n",
      "Wall time: 35.1 s\n"
     ]
    }
   ],
   "source": [
    "%%time\n",
    "tsne_lsa = tsne.fit_transform(lsa_features[idx_sample])"
   ]
  },
  {
   "cell_type": "code",
   "execution_count": null,
   "metadata": {},
   "outputs": [
    {
     "data": {
      "text/html": [
       "\n",
       "\n",
       "    <div class=\"bk-root\">\n",
       "        <div class=\"bk-plotdiv\" id=\"dba409c7-5dfa-40ca-bd2b-a13a465acc17\"></div>\n",
       "    </div>\n",
       "<script type=\"text/javascript\">\n",
       "  \n",
       "  (function(global) {\n",
       "    function now() {\n",
       "      return new Date();\n",
       "    }\n",
       "  \n",
       "    var force = false;\n",
       "  \n",
       "    if (typeof (window._bokeh_onload_callbacks) === \"undefined\" || force === true) {\n",
       "      window._bokeh_onload_callbacks = [];\n",
       "      window._bokeh_is_loading = undefined;\n",
       "    }\n",
       "  \n",
       "  \n",
       "    \n",
       "    if (typeof (window._bokeh_timeout) === \"undefined\" || force === true) {\n",
       "      window._bokeh_timeout = Date.now() + 0;\n",
       "      window._bokeh_failed_load = false;\n",
       "    }\n",
       "  \n",
       "    var NB_LOAD_WARNING = {'data': {'text/html':\n",
       "       \"<div style='background-color: #fdd'>\\n\"+\n",
       "       \"<p>\\n\"+\n",
       "       \"BokehJS does not appear to have successfully loaded. If loading BokehJS from CDN, this \\n\"+\n",
       "       \"may be due to a slow or bad network connection. Possible fixes:\\n\"+\n",
       "       \"</p>\\n\"+\n",
       "       \"<ul>\\n\"+\n",
       "       \"<li>re-rerun `output_notebook()` to attempt to load from CDN again, or</li>\\n\"+\n",
       "       \"<li>use INLINE resources instead, as so:</li>\\n\"+\n",
       "       \"</ul>\\n\"+\n",
       "       \"<code>\\n\"+\n",
       "       \"from bokeh.resources import INLINE\\n\"+\n",
       "       \"output_notebook(resources=INLINE)\\n\"+\n",
       "       \"</code>\\n\"+\n",
       "       \"</div>\"}};\n",
       "  \n",
       "    function display_loaded() {\n",
       "      if (window.Bokeh !== undefined) {\n",
       "        var el = document.getElementById(\"dba409c7-5dfa-40ca-bd2b-a13a465acc17\");\n",
       "        el.textContent = \"BokehJS \" + Bokeh.version + \" successfully loaded.\";\n",
       "      } else if (Date.now() < window._bokeh_timeout) {\n",
       "        setTimeout(display_loaded, 100)\n",
       "      }\n",
       "    }\n",
       "  \n",
       "    function run_callbacks() {\n",
       "      try {\n",
       "        window._bokeh_onload_callbacks.forEach(function(callback) { callback() });\n",
       "      }\n",
       "      finally {\n",
       "        delete window._bokeh_onload_callbacks\n",
       "      }\n",
       "      console.info(\"Bokeh: all callbacks have finished\");\n",
       "    }\n",
       "  \n",
       "    function load_libs(js_urls, callback) {\n",
       "      window._bokeh_onload_callbacks.push(callback);\n",
       "      if (window._bokeh_is_loading > 0) {\n",
       "        console.log(\"Bokeh: BokehJS is being loaded, scheduling callback at\", now());\n",
       "        return null;\n",
       "      }\n",
       "      if (js_urls == null || js_urls.length === 0) {\n",
       "        run_callbacks();\n",
       "        return null;\n",
       "      }\n",
       "      console.log(\"Bokeh: BokehJS not loaded, scheduling load and callback at\", now());\n",
       "      window._bokeh_is_loading = js_urls.length;\n",
       "      for (var i = 0; i < js_urls.length; i++) {\n",
       "        var url = js_urls[i];\n",
       "        var s = document.createElement('script');\n",
       "        s.src = url;\n",
       "        s.async = false;\n",
       "        s.onreadystatechange = s.onload = function() {\n",
       "          window._bokeh_is_loading--;\n",
       "          if (window._bokeh_is_loading === 0) {\n",
       "            console.log(\"Bokeh: all BokehJS libraries loaded\");\n",
       "            run_callbacks()\n",
       "          }\n",
       "        };\n",
       "        s.onerror = function() {\n",
       "          console.warn(\"failed to load library \" + url);\n",
       "        };\n",
       "        console.log(\"Bokeh: injecting script tag for BokehJS library: \", url);\n",
       "        document.getElementsByTagName(\"head\")[0].appendChild(s);\n",
       "      }\n",
       "    };var element = document.getElementById(\"dba409c7-5dfa-40ca-bd2b-a13a465acc17\");\n",
       "    if (element == null) {\n",
       "      console.log(\"Bokeh: ERROR: autoload.js configured with elementid 'dba409c7-5dfa-40ca-bd2b-a13a465acc17' but no matching script tag was found. \")\n",
       "      return false;\n",
       "    }\n",
       "  \n",
       "    var js_urls = [];\n",
       "  \n",
       "    var inline_js = [\n",
       "      function(Bokeh) {\n",
       "        (function() {\n",
       "          var fn = function() {\n",
       "            var docs_json = {\"d706de45-c343-4520-b35b-17eff1d320ba\":{\"roots\":{\"references\":[{\"attributes\":{\"plot\":{\"id\":\"867f47b3-9bab-406e-8629-13d59229f85d\",\"subtype\":\"Figure\",\"type\":\"Plot\"}},\"id\":\"290f287c-67b1-4e11-b5c6-d885e27b0ad8\",\"type\":\"ResetTool\"},{\"attributes\":{\"overlay\":{\"id\":\"69a37c8c-5dc7-4498-972a-143e40c9aabf\",\"type\":\"BoxAnnotation\"},\"plot\":{\"id\":\"867f47b3-9bab-406e-8629-13d59229f85d\",\"subtype\":\"Figure\",\"type\":\"Plot\"}},\"id\":\"879b3a59-3c6a-45f7-b5d7-59e23b3d5bf4\",\"type\":\"BoxZoomTool\"},{\"attributes\":{\"below\":[{\"id\":\"a7f40a09-504a-41cc-9ff4-efa3c4cc6841\",\"type\":\"LinearAxis\"}],\"left\":[{\"id\":\"deb7e3d5-e795-4226-a796-7b14564cd180\",\"type\":\"LinearAxis\"}],\"renderers\":[{\"id\":\"a7f40a09-504a-41cc-9ff4-efa3c4cc6841\",\"type\":\"LinearAxis\"},{\"id\":\"99fcbef6-f928-41d8-97b8-2a503881f8af\",\"type\":\"Grid\"},{\"id\":\"deb7e3d5-e795-4226-a796-7b14564cd180\",\"type\":\"LinearAxis\"},{\"id\":\"ff07404b-ca1c-41b9-acf4-0e1c846ba7e2\",\"type\":\"Grid\"},{\"id\":\"69a37c8c-5dc7-4498-972a-143e40c9aabf\",\"type\":\"BoxAnnotation\"},{\"id\":\"9acc758b-c019-42d0-a106-ee76c2695cc7\",\"type\":\"GlyphRenderer\"}],\"title\":{\"id\":\"a0dabef9-f0ad-43dd-a6cc-ba10bfbcd73f\",\"type\":\"Title\"},\"tool_events\":{\"id\":\"a108b692-1723-4bf5-822d-9e5e4ac853d0\",\"type\":\"ToolEvents\"},\"toolbar\":{\"id\":\"ae609fa8-6ac6-44e0-9855-866036b2bcb0\",\"type\":\"Toolbar\"},\"x_range\":{\"id\":\"84896fde-df4e-4314-a443-51424d54742d\",\"type\":\"DataRange1d\"},\"x_scale\":{\"id\":\"4cd20063-eb35-4fa9-96b2-eb33b589f79f\",\"type\":\"LinearScale\"},\"y_range\":{\"id\":\"03a3bbff-5500-4a03-86e0-a7d34900050a\",\"type\":\"DataRange1d\"},\"y_scale\":{\"id\":\"38aa0c3d-1949-4b26-ad43-016b8d815acc\",\"type\":\"LinearScale\"}},\"id\":\"867f47b3-9bab-406e-8629-13d59229f85d\",\"subtype\":\"Figure\",\"type\":\"Plot\"},{\"attributes\":{\"grid_line_color\":{\"value\":null},\"plot\":{\"id\":\"867f47b3-9bab-406e-8629-13d59229f85d\",\"subtype\":\"Figure\",\"type\":\"Plot\"},\"ticker\":{\"id\":\"5d5f594d-4ba9-445e-b285-8a0e33e9c6ef\",\"type\":\"BasicTicker\"}},\"id\":\"99fcbef6-f928-41d8-97b8-2a503881f8af\",\"type\":\"Grid\"},{\"attributes\":{\"callback\":null},\"id\":\"84896fde-df4e-4314-a443-51424d54742d\",\"type\":\"DataRange1d\"},{\"attributes\":{\"plot\":null,\"text\":\"t-sne plot - 1000 samples\"},\"id\":\"a0dabef9-f0ad-43dd-a6cc-ba10bfbcd73f\",\"type\":\"Title\"},{\"attributes\":{\"dimension\":1,\"grid_line_color\":{\"value\":null},\"plot\":{\"id\":\"867f47b3-9bab-406e-8629-13d59229f85d\",\"subtype\":\"Figure\",\"type\":\"Plot\"},\"ticker\":{\"id\":\"d0a7713c-80e2-4da2-906f-4b4b82bb5cc5\",\"type\":\"BasicTicker\"}},\"id\":\"ff07404b-ca1c-41b9-acf4-0e1c846ba7e2\",\"type\":\"Grid\"},{\"attributes\":{\"plot\":{\"id\":\"867f47b3-9bab-406e-8629-13d59229f85d\",\"subtype\":\"Figure\",\"type\":\"Plot\"}},\"id\":\"2065803d-74b3-45a2-83fb-99ceb916f9bf\",\"type\":\"WheelZoomTool\"},{\"attributes\":{\"formatter\":{\"id\":\"f978a21f-9971-4157-9aeb-6a2e30f0fccb\",\"type\":\"BasicTickFormatter\"},\"plot\":{\"id\":\"867f47b3-9bab-406e-8629-13d59229f85d\",\"subtype\":\"Figure\",\"type\":\"Plot\"},\"ticker\":{\"id\":\"5d5f594d-4ba9-445e-b285-8a0e33e9c6ef\",\"type\":\"BasicTicker\"}},\"id\":\"a7f40a09-504a-41cc-9ff4-efa3c4cc6841\",\"type\":\"LinearAxis\"},{\"attributes\":{},\"id\":\"5d5f594d-4ba9-445e-b285-8a0e33e9c6ef\",\"type\":\"BasicTicker\"},{\"attributes\":{},\"id\":\"f978a21f-9971-4157-9aeb-6a2e30f0fccb\",\"type\":\"BasicTickFormatter\"},{\"attributes\":{\"plot\":{\"id\":\"867f47b3-9bab-406e-8629-13d59229f85d\",\"subtype\":\"Figure\",\"type\":\"Plot\"}},\"id\":\"cc0e3032-cf60-4e8f-8d64-d7ef90943596\",\"type\":\"RedoTool\"},{\"attributes\":{},\"id\":\"d0a7713c-80e2-4da2-906f-4b4b82bb5cc5\",\"type\":\"BasicTicker\"},{\"attributes\":{},\"id\":\"38aa0c3d-1949-4b26-ad43-016b8d815acc\",\"type\":\"LinearScale\"},{\"attributes\":{\"callback\":null},\"id\":\"03a3bbff-5500-4a03-86e0-a7d34900050a\",\"type\":\"DataRange1d\"},{\"attributes\":{},\"id\":\"4cd20063-eb35-4fa9-96b2-eb33b589f79f\",\"type\":\"LinearScale\"},{\"attributes\":{},\"id\":\"be98b588-22a0-402e-9985-17da6cbce162\",\"type\":\"BasicTickFormatter\"},{\"attributes\":{\"bottom_units\":\"screen\",\"fill_alpha\":{\"value\":0.5},\"fill_color\":{\"value\":\"lightgrey\"},\"left_units\":\"screen\",\"level\":\"overlay\",\"line_alpha\":{\"value\":1.0},\"line_color\":{\"value\":\"black\"},\"line_dash\":[4,4],\"line_width\":{\"value\":2},\"plot\":null,\"render_mode\":\"css\",\"right_units\":\"screen\",\"top_units\":\"screen\"},\"id\":\"69a37c8c-5dc7-4498-972a-143e40c9aabf\",\"type\":\"BoxAnnotation\"},{\"attributes\":{\"active_drag\":\"auto\",\"active_inspect\":\"auto\",\"active_scroll\":\"auto\",\"active_tap\":\"auto\",\"tools\":[{\"id\":\"2065803d-74b3-45a2-83fb-99ceb916f9bf\",\"type\":\"WheelZoomTool\"},{\"id\":\"290f287c-67b1-4e11-b5c6-d885e27b0ad8\",\"type\":\"ResetTool\"},{\"id\":\"cc0e3032-cf60-4e8f-8d64-d7ef90943596\",\"type\":\"RedoTool\"},{\"id\":\"879b3a59-3c6a-45f7-b5d7-59e23b3d5bf4\",\"type\":\"BoxZoomTool\"}]},\"id\":\"ae609fa8-6ac6-44e0-9855-866036b2bcb0\",\"type\":\"Toolbar\"},{\"attributes\":{},\"id\":\"a108b692-1723-4bf5-822d-9e5e4ac853d0\",\"type\":\"ToolEvents\"},{\"attributes\":{\"formatter\":{\"id\":\"be98b588-22a0-402e-9985-17da6cbce162\",\"type\":\"BasicTickFormatter\"},\"plot\":{\"id\":\"867f47b3-9bab-406e-8629-13d59229f85d\",\"subtype\":\"Figure\",\"type\":\"Plot\"},\"ticker\":{\"id\":\"d0a7713c-80e2-4da2-906f-4b4b82bb5cc5\",\"type\":\"BasicTicker\"}},\"id\":\"deb7e3d5-e795-4226-a796-7b14564cd180\",\"type\":\"LinearAxis\"},{\"attributes\":{\"data_source\":{\"id\":\"1f124c6c-14e1-478d-9210-f58624f03c10\",\"type\":\"ColumnDataSource\"},\"glyph\":{\"id\":\"53693244-e40f-498d-b725-197b1ea3161e\",\"type\":\"Circle\"},\"hover_glyph\":null,\"muted_glyph\":null,\"nonselection_glyph\":{\"id\":\"ef3199a5-15b4-4063-9ddd-f44e9b2ed75a\",\"type\":\"Circle\"},\"selection_glyph\":null},\"id\":\"9acc758b-c019-42d0-a106-ee76c2695cc7\",\"type\":\"GlyphRenderer\"},{\"attributes\":{\"fill_alpha\":{\"value\":0.1},\"fill_color\":{\"value\":\"#1f77b4\"},\"line_alpha\":{\"value\":0.1},\"line_color\":{\"value\":\"#1f77b4\"},\"size\":{\"units\":\"screen\",\"value\":7},\"x\":{\"field\":\"x\"},\"y\":{\"field\":\"y\"}},\"id\":\"ef3199a5-15b4-4063-9ddd-f44e9b2ed75a\",\"type\":\"Circle\"},{\"attributes\":{\"fill_alpha\":{\"value\":0.7},\"fill_color\":{\"field\":\"color\"},\"line_color\":{\"field\":\"color\"},\"size\":{\"units\":\"screen\",\"value\":7},\"x\":{\"field\":\"x\"},\"y\":{\"field\":\"y\"}},\"id\":\"53693244-e40f-498d-b725-197b1ea3161e\",\"type\":\"Circle\"},{\"attributes\":{\"callback\":null,\"column_names\":[\"x\",\"y\",\"color\"],\"data\":{\"color\":[\"YellowGreen\",\"Purple\",\"Red\",\"Tomato\",\"SteelBlue\",\"SlateGrey\",\"Sienna\",\"Silver\",\"SpringGreen\",\"Lime\",\"SeaGreen\",\"Violet\",\"Violet\",\"Turquoise\",\"YellowGreen\",\"Turquoise\",\"Navy\",\"Silver\",\"Purple\",\"Sienna\",\"Thistle\",\"Red\",\"Lime\",\"SteelBlue\",\"Lime\",\"Violet\",\"Orange\",\"Purple\",\"Navy\",\"Silver\",\"Lime\",\"Purple\",\"Sienna\",\"Black\",\"Lime\",\"Teal\",\"Turquoise\",\"OrangeRed\",\"Turquoise\",\"Navy\",\"Thistle\",\"Orange\",\"Black\",\"Teal\",\"SlateGrey\",\"Tomato\",\"Red\",\"SeaGreen\",\"Black\",\"Red\",\"SteelBlue\",\"Tomato\",\"SpringGreen\",\"OrangeRed\",\"SlateGrey\",\"Orange\",\"Sienna\",\"Sienna\",\"Black\",\"Black\",\"Sienna\",\"Yellow\",\"Tomato\",\"YellowGreen\",\"Violet\",\"Silver\",\"OrangeRed\",\"Yellow\",\"Thistle\",\"Turquoise\",\"SteelBlue\",\"Thistle\",\"Silver\",\"Silver\",\"Yellow\",\"Violet\",\"Silver\",\"Lime\",\"Sienna\",\"Red\",\"Yellow\",\"YellowGreen\",\"Turquoise\",\"Sienna\",\"Orange\",\"Black\",\"Tomato\",\"OrangeRed\",\"Violet\",\"OrangeRed\",\"Violet\",\"Tomato\",\"SeaGreen\",\"SpringGreen\",\"SteelBlue\",\"Sienna\",\"Yellow\",\"Orange\",\"Violet\",\"Yellow\",\"Turquoise\",\"SeaGreen\",\"Orange\",\"Orange\",\"YellowGreen\",\"Black\",\"Thistle\",\"Tomato\",\"YellowGreen\",\"SpringGreen\",\"SlateGrey\",\"YellowGreen\",\"Sienna\",\"SlateGrey\",\"OrangeRed\",\"Black\",\"Orange\",\"Yellow\",\"Sienna\",\"Lime\",\"SpringGreen\",\"Red\",\"Yellow\",\"SeaGreen\",\"Red\",\"Navy\",\"SteelBlue\",\"SeaGreen\",\"SeaGreen\",\"Black\",\"Thistle\",\"Teal\",\"Navy\",\"SlateGrey\",\"Sienna\",\"Violet\",\"Orange\",\"YellowGreen\",\"Orange\",\"SeaGreen\",\"Teal\",\"Silver\",\"Navy\",\"Yellow\",\"Violet\",\"SteelBlue\",\"Yellow\",\"Thistle\",\"Violet\",\"Violet\",\"Thistle\",\"Violet\",\"Thistle\",\"Sienna\",\"OrangeRed\",\"Orange\",\"OrangeRed\",\"Thistle\",\"YellowGreen\",\"SpringGreen\",\"SlateGrey\",\"SpringGreen\",\"OrangeRed\",\"Turquoise\",\"Yellow\",\"Navy\",\"Sienna\",\"Orange\",\"Thistle\",\"Red\",\"Tomato\",\"Orange\",\"Silver\",\"Navy\",\"Thistle\",\"SteelBlue\",\"Turquoise\",\"Teal\",\"Orange\",\"Violet\",\"Orange\",\"OrangeRed\",\"Tomato\",\"YellowGreen\",\"Navy\",\"Red\",\"SlateGrey\",\"Silver\",\"Violet\",\"Silver\",\"Navy\",\"YellowGreen\",\"Yellow\",\"Black\",\"SpringGreen\",\"Turquoise\",\"Black\",\"SpringGreen\",\"Turquoise\",\"Purple\",\"SpringGreen\",\"Thistle\",\"Silver\",\"Orange\",\"Purple\",\"Purple\",\"OrangeRed\",\"Violet\",\"Lime\",\"SeaGreen\",\"SeaGreen\",\"SeaGreen\",\"Thistle\",\"Navy\",\"YellowGreen\",\"SteelBlue\",\"Black\",\"Turquoise\",\"Purple\",\"Purple\",\"Thistle\",\"SteelBlue\",\"Turquoise\",\"Turquoise\",\"OrangeRed\",\"Black\",\"Red\",\"Navy\",\"OrangeRed\",\"Silver\",\"Red\",\"Orange\",\"SteelBlue\",\"SpringGreen\",\"SeaGreen\",\"Silver\",\"Yellow\",\"Black\",\"Orange\",\"Lime\",\"Sienna\",\"Thistle\",\"SpringGreen\",\"SpringGreen\",\"SteelBlue\",\"Tomato\",\"Tomato\",\"Navy\",\"Silver\",\"Silver\",\"Black\",\"Yellow\",\"Black\",\"Purple\",\"Navy\",\"Navy\",\"SteelBlue\",\"Black\",\"SeaGreen\",\"Violet\",\"Teal\",\"Lime\",\"Violet\",\"Violet\",\"SeaGreen\",\"Violet\",\"Black\",\"OrangeRed\",\"Teal\",\"Lime\",\"Yellow\",\"Teal\",\"SlateGrey\",\"Teal\",\"Tomato\",\"Purple\",\"Tomato\",\"SeaGreen\",\"YellowGreen\",\"Purple\",\"Black\",\"Yellow\",\"Red\",\"Teal\",\"Thistle\",\"Purple\",\"Sienna\",\"Silver\",\"Violet\",\"Red\",\"SteelBlue\",\"Turquoise\",\"Lime\",\"Yellow\",\"Turquoise\",\"SteelBlue\",\"Turquoise\",\"Violet\",\"Turquoise\",\"YellowGreen\",\"SeaGreen\",\"Red\",\"SteelBlue\",\"Red\",\"Sienna\",\"Turquoise\",\"Turquoise\",\"Thistle\",\"Purple\",\"Violet\",\"Silver\",\"Lime\",\"Teal\",\"Navy\",\"YellowGreen\",\"Violet\",\"Sienna\",\"Tomato\",\"Orange\",\"Silver\",\"Navy\",\"Red\",\"Sienna\",\"OrangeRed\",\"Black\",\"Turquoise\",\"Tomato\",\"Teal\",\"YellowGreen\",\"Turquoise\",\"Red\",\"Yellow\",\"YellowGreen\",\"OrangeRed\",\"SpringGreen\",\"Tomato\",\"Thistle\",\"Sienna\",\"Yellow\",\"Tomato\",\"Yellow\",\"SpringGreen\",\"SeaGreen\",\"Black\",\"Black\",\"Teal\",\"Tomato\",\"Orange\",\"Turquoise\",\"Lime\",\"Tomato\",\"YellowGreen\",\"SeaGreen\",\"Navy\",\"Red\",\"Red\",\"Red\",\"YellowGreen\",\"Black\",\"SpringGreen\",\"Purple\",\"Orange\",\"SteelBlue\",\"Thistle\",\"SlateGrey\",\"Purple\",\"Teal\",\"Tomato\",\"Orange\",\"Navy\",\"Thistle\",\"Turquoise\",\"Teal\",\"YellowGreen\",\"Navy\",\"Red\",\"YellowGreen\",\"Turquoise\",\"SteelBlue\",\"Purple\",\"Turquoise\",\"SlateGrey\",\"Tomato\",\"Red\",\"SlateGrey\",\"SeaGreen\",\"Silver\",\"Sienna\",\"Black\",\"Navy\",\"Teal\",\"Turquoise\",\"SteelBlue\",\"Yellow\",\"Red\",\"Turquoise\",\"SlateGrey\",\"Navy\",\"SeaGreen\",\"SeaGreen\",\"SlateGrey\",\"YellowGreen\",\"SlateGrey\",\"Turquoise\",\"SlateGrey\",\"Teal\",\"Navy\",\"SteelBlue\",\"SlateGrey\",\"Sienna\",\"Violet\",\"Thistle\",\"Violet\",\"Sienna\",\"YellowGreen\",\"Yellow\",\"Red\",\"Lime\",\"Orange\",\"Purple\",\"Thistle\",\"Orange\",\"Navy\",\"SpringGreen\",\"Turquoise\",\"Silver\",\"Sienna\",\"Thistle\",\"Sienna\",\"Violet\",\"Tomato\",\"Red\",\"Yellow\",\"SpringGreen\",\"Yellow\",\"Teal\",\"Tomato\",\"SlateGrey\",\"Sienna\",\"SeaGreen\",\"Thistle\",\"SpringGreen\",\"Red\",\"Orange\",\"Orange\",\"OrangeRed\",\"Tomato\",\"Thistle\",\"Thistle\",\"Yellow\",\"Purple\",\"Violet\",\"SlateGrey\",\"Red\",\"Sienna\",\"Red\",\"SlateGrey\",\"SlateGrey\",\"SeaGreen\",\"Turquoise\",\"Orange\",\"Yellow\",\"SlateGrey\",\"Tomato\",\"OrangeRed\",\"Red\",\"Sienna\",\"Turquoise\",\"Sienna\",\"Turquoise\",\"Orange\",\"SteelBlue\",\"SteelBlue\",\"Yellow\",\"Tomato\",\"Purple\",\"Turquoise\",\"SteelBlue\",\"Navy\",\"Black\",\"SpringGreen\",\"Thistle\",\"Yellow\",\"Teal\",\"Orange\",\"Yellow\",\"Black\",\"Violet\",\"Red\",\"SpringGreen\",\"Sienna\",\"Orange\",\"SlateGrey\",\"Tomato\",\"SlateGrey\",\"Violet\",\"YellowGreen\",\"OrangeRed\",\"Thistle\",\"Red\",\"Orange\",\"Navy\",\"Sienna\",\"SeaGreen\",\"Violet\",\"Red\",\"Navy\",\"SteelBlue\",\"SteelBlue\",\"Yellow\",\"Yellow\",\"SpringGreen\",\"Violet\",\"Red\",\"OrangeRed\",\"Black\",\"Orange\",\"Sienna\",\"Violet\",\"Red\",\"SpringGreen\",\"SteelBlue\",\"Yellow\",\"Navy\",\"SteelBlue\",\"Yellow\",\"Lime\",\"Navy\",\"Red\",\"Navy\",\"Sienna\",\"Sienna\",\"Yellow\",\"Lime\",\"Purple\",\"Teal\",\"Orange\",\"SeaGreen\",\"Thistle\",\"Silver\",\"Violet\",\"Navy\",\"SpringGreen\",\"SteelBlue\",\"Silver\",\"SlateGrey\",\"Turquoise\",\"Silver\",\"Navy\",\"Sienna\",\"Black\",\"Thistle\",\"Red\",\"Red\",\"Navy\",\"Yellow\",\"Sienna\",\"Orange\",\"Teal\",\"Yellow\",\"SteelBlue\",\"Red\",\"Turquoise\",\"Red\",\"Orange\",\"Turquoise\",\"Turquoise\",\"Silver\",\"YellowGreen\",\"Silver\",\"OrangeRed\",\"Violet\",\"Violet\",\"Tomato\",\"Teal\",\"Turquoise\",\"OrangeRed\",\"Yellow\",\"YellowGreen\",\"Silver\",\"Tomato\",\"Turquoise\",\"YellowGreen\",\"Thistle\",\"Purple\",\"Red\",\"Navy\",\"Violet\",\"SteelBlue\",\"Yellow\",\"Lime\",\"SeaGreen\",\"Lime\",\"Black\",\"SteelBlue\",\"SpringGreen\",\"Turquoise\",\"Yellow\",\"Turquoise\",\"Orange\",\"Thistle\",\"OrangeRed\",\"Orange\",\"OrangeRed\",\"YellowGreen\",\"Yellow\",\"OrangeRed\",\"SeaGreen\",\"Tomato\",\"Thistle\",\"Silver\",\"Tomato\",\"Turquoise\",\"Thistle\",\"Silver\",\"Yellow\",\"Black\",\"SeaGreen\",\"Navy\",\"Turquoise\",\"Turquoise\",\"SlateGrey\",\"Black\",\"Turquoise\",\"Yellow\",\"Yellow\",\"Red\",\"Purple\",\"Silver\",\"Purple\",\"YellowGreen\",\"Sienna\",\"Thistle\",\"Purple\",\"Tomato\",\"Purple\",\"Yellow\",\"Turquoise\",\"SpringGreen\",\"Teal\",\"Tomato\",\"Silver\",\"Tomato\",\"SeaGreen\",\"SteelBlue\",\"Teal\",\"Black\",\"Turquoise\",\"Purple\",\"Red\",\"Yellow\",\"Orange\",\"Purple\",\"Sienna\",\"YellowGreen\",\"Orange\",\"Yellow\",\"Yellow\",\"Violet\",\"Teal\",\"Lime\",\"Yellow\",\"Sienna\",\"YellowGreen\",\"Violet\",\"SpringGreen\",\"Black\",\"Red\",\"SteelBlue\",\"Red\",\"SlateGrey\",\"Red\",\"Purple\",\"Red\",\"YellowGreen\",\"OrangeRed\",\"Red\",\"Violet\",\"SpringGreen\",\"Sienna\",\"Turquoise\",\"SlateGrey\",\"Turquoise\",\"Orange\",\"Tomato\",\"SpringGreen\",\"YellowGreen\",\"Teal\",\"Thistle\",\"Red\",\"SeaGreen\",\"Tomato\",\"Violet\",\"Turquoise\",\"Teal\",\"YellowGreen\",\"SlateGrey\",\"Black\",\"Black\",\"SteelBlue\",\"OrangeRed\",\"Red\",\"Navy\",\"Tomato\",\"Tomato\",\"Silver\",\"Silver\",\"Black\",\"Black\",\"YellowGreen\",\"Red\",\"Black\",\"Yellow\",\"SteelBlue\",\"Violet\",\"Red\",\"Violet\",\"Teal\",\"Violet\",\"Navy\",\"YellowGreen\",\"Sienna\",\"Yellow\",\"Navy\",\"Teal\",\"Purple\",\"SpringGreen\",\"Purple\",\"Teal\",\"Silver\",\"SlateGrey\",\"Tomato\",\"YellowGreen\",\"Violet\",\"Yellow\",\"Orange\",\"Red\",\"Red\",\"Violet\",\"YellowGreen\",\"Lime\",\"Teal\",\"Purple\",\"OrangeRed\",\"Tomato\",\"YellowGreen\",\"Purple\",\"Teal\",\"SteelBlue\",\"Turquoise\",\"Navy\",\"OrangeRed\",\"Red\",\"SpringGreen\",\"Thistle\",\"SteelBlue\",\"Teal\",\"Yellow\",\"SeaGreen\",\"Navy\",\"Navy\",\"Teal\",\"Black\",\"Purple\",\"Yellow\",\"Thistle\",\"Tomato\",\"Silver\",\"Sienna\",\"SeaGreen\",\"SteelBlue\",\"Yellow\",\"Thistle\",\"SpringGreen\",\"SeaGreen\",\"Thistle\",\"Purple\",\"Lime\",\"SpringGreen\",\"Violet\",\"Black\",\"Red\",\"Violet\",\"Lime\",\"Sienna\",\"Red\",\"Yellow\",\"Orange\",\"Navy\",\"Sienna\",\"OrangeRed\",\"Violet\",\"SlateGrey\",\"Silver\",\"Purple\",\"Lime\",\"SteelBlue\",\"Red\",\"Navy\",\"Black\",\"Black\",\"SpringGreen\",\"Black\",\"Yellow\",\"Orange\",\"Navy\",\"Teal\",\"SteelBlue\",\"Yellow\",\"Orange\",\"Orange\",\"Yellow\",\"YellowGreen\",\"SteelBlue\",\"Thistle\",\"Silver\",\"YellowGreen\",\"Orange\",\"Red\",\"YellowGreen\",\"Yellow\",\"SlateGrey\",\"SeaGreen\",\"Orange\",\"Silver\",\"Yellow\",\"Red\",\"Tomato\",\"SlateGrey\",\"Purple\",\"Navy\",\"Lime\",\"YellowGreen\",\"Turquoise\",\"SeaGreen\",\"Navy\",\"SpringGreen\",\"Black\",\"Teal\",\"Silver\",\"Silver\",\"Red\",\"Sienna\",\"Red\",\"SeaGreen\",\"SpringGreen\",\"Thistle\",\"Thistle\",\"SeaGreen\",\"Orange\",\"SpringGreen\",\"Black\",\"Black\",\"Teal\",\"Black\",\"Sienna\",\"Sienna\",\"Thistle\",\"Black\",\"Violet\",\"Silver\",\"Lime\",\"Lime\",\"Tomato\",\"OrangeRed\",\"Turquoise\",\"Sienna\",\"Thistle\",\"Orange\",\"SeaGreen\",\"SteelBlue\",\"Turquoise\",\"Teal\",\"Violet\",\"Sienna\",\"Yellow\",\"Lime\",\"Purple\",\"Teal\",\"Black\",\"Sienna\",\"Orange\",\"Silver\",\"YellowGreen\",\"Lime\",\"Silver\",\"Yellow\",\"YellowGreen\",\"Orange\",\"Black\",\"OrangeRed\",\"Red\",\"Violet\",\"Tomato\",\"Red\",\"Teal\",\"Red\",\"YellowGreen\",\"Tomato\",\"Tomato\",\"YellowGreen\",\"Tomato\",\"Orange\",\"Thistle\",\"SeaGreen\",\"SlateGrey\",\"Navy\",\"Silver\",\"Black\",\"Purple\",\"OrangeRed\",\"Silver\",\"YellowGreen\",\"SteelBlue\",\"Sienna\",\"SpringGreen\",\"Lime\",\"Orange\",\"Tomato\",\"Black\",\"Yellow\",\"Red\",\"Lime\",\"YellowGreen\",\"Orange\",\"Purple\",\"Silver\",\"OrangeRed\",\"SteelBlue\",\"SeaGreen\",\"Red\",\"Yellow\",\"SlateGrey\",\"Purple\",\"Violet\",\"OrangeRed\",\"Black\",\"Lime\",\"Purple\",\"Tomato\",\"Black\",\"SpringGreen\",\"YellowGreen\",\"Sienna\",\"Orange\",\"Turquoise\",\"Violet\",\"Black\",\"Lime\",\"Sienna\",\"SpringGreen\",\"Turquoise\",\"Teal\",\"Sienna\",\"Violet\",\"SpringGreen\",\"OrangeRed\",\"Sienna\",\"Lime\",\"Lime\",\"Silver\",\"Red\",\"Black\",\"Thistle\",\"Orange\",\"SpringGreen\",\"Turquoise\",\"Thistle\",\"Thistle\",\"Black\",\"Silver\",\"Yellow\",\"Lime\",\"Black\",\"YellowGreen\",\"Teal\",\"Navy\",\"SpringGreen\",\"Thistle\",\"SteelBlue\",\"SpringGreen\",\"Violet\",\"SlateGrey\",\"SpringGreen\",\"Tomato\",\"YellowGreen\",\"Thistle\",\"Sienna\",\"Turquoise\",\"Orange\",\"Violet\",\"Navy\",\"Silver\",\"Thistle\",\"Turquoise\",\"SeaGreen\",\"Black\",\"Black\",\"Purple\",\"SpringGreen\"],\"x\":{\"__ndarray__\":\"VsgawmBIKkJgRwNBkPOxvXAJWMGEQ3VBkxgmQQ+poMEIs/RBz7IpQhtIpsBKwodBvVhHQUerGcKfSgLCjE0Ywp9jY8LWHgHClg2EQUEuvUHkNSZCu84qwJbswMAh1flBkVcfwXr2FkHnnWjBA/EfQil+P8LcwwHCoo0rQPylCkLFzZZBEO8fQUSoWsJkzdFBzU8bwgiozcGfx70/gZ5OwpuPwUCMNjHBByaqwTZtTEKaql7CjgiRQe/kq0G9GNLA0RUNwTH9B0E95ajBk5ZKQEvLmsGxnuZARNGfQd1waMFgSXNBF4O/QLIwcsFY8hFBwkZSwO0tEELovspB4DLUwVLp1kGzAbTBZTCkv8M3B0LKmxhCqqUQwsvlz8G+nztCwR2pwTiIJsEgNitCfy5DQrhsCMHV1VPATf6pwRQOpUH6UElCIhjrwSZQ+MHZiL9ACVFnwaNKHEIHRrpBD4IZQYK61EHTfQTA2UHAPyE0wEEnOb7AD+UWQlz7xsHXwwNBR2M7Qlg4rUAjBAFBnHIyQnNpHMKiC1LCz4WjQMXg5sDygvHBKbQEQYhcDEIvewdBLNQNwtxWDcLt3W9BnywKwkjGqsE2xStC+RTBwYE2QcHmc1PB7RgpQoDeg0HCxJnBngcJwlmDqUEspkZCMV2cwBtUmUGqPzbC+Shkwsf+J8C6sG3C+UMowBvdvcH7XUPBSKllwqjis0FkXAhBhSF4QaFMWsFkG+TBLkCHQYg/Iz/yhSFBStUAQXTgJ8EbnRxCrZaTQe9HwcGCMkLBgzg0QhS3ZUF7bWrBH+jVQE1ClEF3szdC6YgwQfdbU8HftGXBghrWwZdlJUIGskZAkIFcQYF2jUGSHsTAh2TPwa4G2cF4meLBsKlowvCmHkGLSWfBG4ITQvCsnUGALKpBslWhwf6ZwMGwqWjC0P5HQoc7msH7cB/CZL7lQaisPMFRhJtBkoihwSTy3cG5byBCgKAMws6TQ8H40y66pWCeQYZ7osENAuzBQWxQwbYhOsIKXRjC0AgjQg2jK8FuEBLC8uszQU0xd8H+wO3AAfiVwToM40H+vgfCGp07QsyijsHOLknB6g4YQqi/rT8eamZBMdGfQRGjjTxE7CrAxo4fwd1+SsDX4gFCjg5ewh6W9cHqbaPBca9BwXDNkkFYsxpCFjvIQGAs1kE1Q8rBbPhaQU48JcLZJdfB+02QwfskTEG9m13COezdwek4WMHyW81BRWXTQfQyNUKXZRA+7wrBPz2OfsHwwd0/8FjvPwYcbUGJs+fBu1VCwGf9O0JNeYXBcu1DwSgnYMIAhbxBktxcQXDZScL4x+3ASCa9wcFoWMGH7BZCByaqwTCuH0LPBkXCSkxmwe9HwcHYJQhAb49bwdffqEFnE+FBB7q+vQMCjEHcBphBAgSTwCqGuEGGr5PBjQPpwdp2O0LX2xXBCmgPQldT2UHznClBuXHZQRxj1kForHnBfRyWQT8PAcDIN6rBmeIUQm5WD8FjqGhBI0+bQbP7vUEMjEBCqsO/wb7sWEGfMyvBZbR/QbKvzUE10tHBAgAYwi3OjsFtcjVCOy6aP1hrkEHACyvCL6GHQdJaG8I7AJ7BnAVTwK17gMCkZRLCfJDNQalHDEGAxNXBFksfwnAJG0L7a8bAG+I1QfbyAsJYHmm+TAbhQeDfW8JEhwTCm2cJwPZxIEERSvnATkVowSYjAcLHjVzCFse5wFimM0FPMOxBNGxJwQdiK8KPZ+RBXtZdQMclAcIV1CBCr6GkQR6UNkIqVAvCCKjNwbOVs8EDGRjBhncMwQCpBcLWhUfB6KxPQc52PEJIfBlC06E5wUi/iMHpkiRCM7T+Qcb5qEGv5X3B543qwYkKFEC9ZbxBShauwXZvpcBVtWfCHVeJQRLrnkGxP2Q/DLYkwui8csF2V4FBtAkgQa/lfcG2KFvAesQ3QsDHCkL66IvBeuGpQVYYJ8G2zN/AfhFOwpF0EkL/kkPBoIr7QYW1rkAq9GnB+yRMQQDj1cG4qnpB74SmQE0tBUKfpSHBiezOQVlJrkGKlHBBcLWEQQsjfsBMbXnBGfRMQgpn/MC1HwTCLzGuQZQxA8LLNXZBESkwwWBHA0F4zADCI9TAQchUXsIKQgBB/zeLwC10gUHcsC7CHRamQWG0BcJKhZ5BrRPmQUWmS8LYyIvBGTyIwNvsR0Hq8RZBeJU/QUeskkEgc69AnCANwm5gDUKhrhnBMlQnwGuKHcE9SCdCLg8cQmuKHcEQ1j7CsyHxwOhLGcLhvYtAygUNQmKDLkI1BRBBWsWYwe2Mi0HKss1BKeMuQqAkocFWiC5CqC+BweQJzUGL96RBGuQbQceH9cCvG83BPq8XQvF9pUGExovB0SNVwaA478EOsBa/lgwwQjh3E0KmqCNCM9AiQmOp1cEx8K9B7JSoQIAVVEFmaJ9B9/SkQWQNikFyjxzCQIsCwkYXzz/p3SNCHhtTQSepykEiqxBCBhcdP4lHG8EjmS/BtKsxQnm6HcLnCDbB/TRTwnAJWMFukz5CjvW4QRY7yEA+uh3CH67Rwd/vrEBP399BHE8HQc2KicAzNiNCJE//QLzIH8FFbCNCkZzIwfmw3sHNUbhBvv3VP0BVb0G+lQbBeY6bQfEbAUHP/JtB3hkRwZ9RA8IWGaNB20oZQusJoEFaDY7B/lgywkm9F0EI1WrAD9tYQbAywkGMG0nBaZLfwRM1W8Iy7ypCmKg5QZmLisE5Sx9BnMXJQfpefkF6UXLBRhfPP7b/T0Fq+stB1HH1wIdBAMKk2hXCCT4yQj8IT8Je4VPCDWscQh6F6b9suhvCTHK/wY3ePkGaoGhB4OBOQeeYKEKc2QDBquciQvC27kFSNwHBMHcwwaUOOUJTL2TBvv5/QdhMcsKPbw7CA0OOwX+drcFSAbxBdtUhwopqDsJL2DDCpViwwcUgWkFhEV5BPbk1QgFO4EA7CdvBPH4fwXmwdEERJME/raO0QeWFI0IknQvBQlanQb3jKcKfFkhBeCBPwQ63GcJhsAnCYdeUwQgZC8LRDYlBvNq7wS8qi0H0cLJBjN45wVOE3EFWQRLC1ObIwaX2jUEY0wrCP3ygwdoN0EFDDgpB8nv+wY1lT0ILnxhCMBVYwMj9UMK5um5BUmJkQX+YqEAzM69AGfS8wBgGU8GI1BBAjPYLwMThOkKBiWdAsSqtQD2WncCXUD3BAN/vQBuIhsCKTYDBsTLPwUSHBMLOdjxCZTCkv1BPwcG33gTBIkA9QnPcs8FZSa5B2+V9wKQOYMB2rLzBm8APQjCdmr9nZem/RaZLwnI9EMIsjeLBiezOQaft88CIYNnAFqoYQlujL0IEjMVB5D/fwQKMfMEdCYNBbMyCwWncIkFu/yxCsKAQQrVRtEG9shFCdoUzQmpjB8KyD7rB57m/QVZ/h0BgFqnBlyWyQcdZU8Kc+vJBJsrPQUUa9L57ZWnBgrMPQvF9pUGhsSFCw1JTwVIjeMEai1FBXQ4SwloNjsFU03pBrCYIQu0e5EGAlaVBLawXQOm1LUIxSoJBRDAuwliJYkGgJKHBhq+TwesJoEGpjk3Cr1J+QaOsl0ELtf1AlQ5AwWy4qUFYSe3BeoH7wWVytUHeElRBoxHqQHzqb0F21SHCt+WIQf5X3cEuQIdBfYFbQcdbhsFLsvTB1NXQQY6NQUI41oVBTTY1QKMPvkHW2+pBVkdIwUnLFj9O8tHBP4OgQflDKMCliSnB/iGwQJwYIsBrKa9BL0wuQXDioEHOnoBB0Zv1wMyijsF6O3PBJIJNwbYoI8JPHOLBpgWIwdmDO0Ebo/nBhmmiQfQxPUFcKgRBwrCcQQ2utUEvpEJCiMsQwhB9d0H6UElCO1hGwYjPyUF12xpC99u2wUfCG0LtrddBK1HawQoev0EIYk5CiMsQwkSQpkER8yM/sS8lwfuFbEH+3qQ/keyuQSl3/sG7yl/AYPAQQq0H2UEGh73BDh/MQRPlqcGhlOBBf5LCQZtqXkEBJSrCc1ZKwSXtQcHgSRzBpCIrQtWIAUJNQVjCUvHaQVV3NEKYbvk/KX4/wkx9TMKXn+xB1A9WwUvqgEFfzQdBJPVewnsJC0Lohw3C2Fe/QemSkj9ZdLHBrVdnQZXzRkIWAwpBkwwdwea8AUKWiypCUywEwL/En0CkaYBBgBc4wQrD+UBjs5VBC/iJwPAbU0GYTrRBjHgaQqd0YMHYTHLCBNEiQZL52ME9s85AkRupQXwAosEtKiNCHh89wS7MY8KB++BBcY5BwpcFZ8FIv4jBNlz1wTAFdMElUYzBAK2QwaSgb8J7ItRB7VegQGokbUHUKYzBo9YiwqgEokGfSgLCUojUwS4fMkKiNIfBcVjTwQmAS0FI0cBB9jDrwaACNEIXV6VBW9ljwE3emMG14QTCfMsHQqL8ukGXJbJBjgJ6QaRuFUL18UNCZHwbwSl3/sGhWHTBr3k1QFbiuMDHmZbBg8n7wC+E50E0zIPB5IPpwV/NM0L5shVCufOcQcSRqkB4cw7CbpsyQs2KicAZ9LzAbQQhwIdBAMK0QljBGMeTwCbKz0FKjOm+w7i/v9mIv0AmC1jAjLnKwZcAi0HYmFjBxFzrwfsLs7+3fpJB8m/dwS0qFsIEdItBvqdOQu4XgMFQT8HB+6YcwrJrU8CBk8JBILafQW6MQEDptS1CUl0owGJ/DkKUbFDBdPxRwWncIkERJME/RN4FwnbABMLHBo9B0R2ewZ4oLkI+eaTBfsKcwdYxjcHfcZdAXFpgwSpr3ECHIqNBNK19QY02O0JsuKlBssrywZwVssEiZVJB1tvwwSBW68C79uZBHdq/wd46L8K4WpJBSv5gwt5vCcLVhI7BUscNQuWavsE1O5vBaMLGPinFVMKp+ElBYhmLwT0QAMHxoHrB96tewk77jr8h0R1CEd8Uwcj9E8FNfQDCFISLwRokC0I9OAbCP3XZwRaRUcEshsrAfT6zQELNQUKcPItBxpwlQpsQ0UHALo7BpYkpwT0+osF5Bi1C5icTQlWAQ8HhKxbCRmoUwhKUeEEZ9YPBiRMRQbf+E0ExONDArmuPwWIuLkEGEcfA7WQYwg1t9EH6ipxAdi/NQTbK8sERuuHB3qCXv/sLs7+AWFHAhDu6wSIKqb5ppirBtcwaQtgpfcHJfQvCWZM5wpvFKkKOjUFC9OMswrGT8sA2aipCZ+4HwTjWaMFuJx9B3qy3QQwNQz/o8KlArrooQlbIVsIJiRbCfkqFQbpjgkEazoTBHkGYQdc/9MHXkkBCfN07QUMOCkFaMLo/ZgsNQLCpaMLohTxAYoMuQgrYfsD3sF6/8/KZwbdpLsL8uifCtHA7QA==\",\"dtype\":\"float32\",\"shape\":[1000]},\"y\":{\"__ndarray__\":\"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\",\"dtype\":\"float32\",\"shape\":[1000]}}},\"id\":\"1f124c6c-14e1-478d-9210-f58624f03c10\",\"type\":\"ColumnDataSource\"}],\"root_ids\":[\"867f47b3-9bab-406e-8629-13d59229f85d\"]},\"title\":\"Bokeh Application\",\"version\":\"0.12.6\"}};\n",
       "            var render_items = [{\"docid\":\"d706de45-c343-4520-b35b-17eff1d320ba\",\"elementid\":\"dba409c7-5dfa-40ca-bd2b-a13a465acc17\",\"modelid\":\"867f47b3-9bab-406e-8629-13d59229f85d\"}];\n",
       "            \n",
       "            Bokeh.embed.embed_items(docs_json, render_items);\n",
       "          };\n",
       "          if (document.readyState != \"loading\") fn();\n",
       "          else document.addEventListener(\"DOMContentLoaded\", fn);\n",
       "        })();\n",
       "      },\n",
       "      function(Bokeh) {\n",
       "      }\n",
       "    ];\n",
       "  \n",
       "    function run_inline_js() {\n",
       "      \n",
       "      if ((window.Bokeh !== undefined) || (force === true)) {\n",
       "        for (var i = 0; i < inline_js.length; i++) {\n",
       "          inline_js[i](window.Bokeh);\n",
       "        }if (force === true) {\n",
       "          display_loaded();\n",
       "        }} else if (Date.now() < window._bokeh_timeout) {\n",
       "        setTimeout(run_inline_js, 100);\n",
       "      } else if (!window._bokeh_failed_load) {\n",
       "        console.log(\"Bokeh: BokehJS failed to load within specified timeout.\");\n",
       "        window._bokeh_failed_load = true;\n",
       "      } else if (force !== true) {\n",
       "        var cell = $(document.getElementById(\"dba409c7-5dfa-40ca-bd2b-a13a465acc17\")).parents('.cell').data().cell;\n",
       "        cell.output_area.append_execute_result(NB_LOAD_WARNING)\n",
       "      }\n",
       "  \n",
       "    }\n",
       "  \n",
       "    if (window._bokeh_is_loading === 0) {\n",
       "      console.log(\"Bokeh: BokehJS loaded, going straight to plotting\");\n",
       "      run_inline_js();\n",
       "    } else {\n",
       "      load_libs(js_urls, function() {\n",
       "        console.log(\"Bokeh: BokehJS plotting callback run at\", now());\n",
       "        run_inline_js();\n",
       "      });\n",
       "    }\n",
       "  }(this));\n",
       "</script>"
      ]
     },
     "metadata": {},
     "output_type": "display_data"
    }
   ],
   "source": [
    "# matplotlib visualization\n",
    "visu.cluster2d(*tsne_lsa.T, colors=colors, height=600, width=600, size=7)"
   ]
  },
  {
   "cell_type": "markdown",
   "metadata": {
    "collapsed": true
   },
   "source": [
    "#### Laplacian eigenvalues"
   ]
  },
  {
   "cell_type": "code",
   "execution_count": null,
   "metadata": {},
   "outputs": [],
   "source": [
    "%%time\n",
    "tsne_laplacian = tsne.fit_transform(laplacian_features[idx_sample])"
   ]
  },
  {
   "cell_type": "code",
   "execution_count": null,
   "metadata": {},
   "outputs": [],
   "source": [
    "visu.cluster2d(*tsne_laplacian.T, colors=colors, height=600, width=600, size=7)"
   ]
  }
 ],
 "metadata": {
  "kernelspec": {
   "display_name": "Python 3",
   "language": "python",
   "name": "python3"
  },
  "language_info": {
   "codemirror_mode": {
    "name": "ipython",
    "version": 3
   },
   "file_extension": ".py",
   "mimetype": "text/x-python",
   "name": "python",
   "nbconvert_exporter": "python",
   "pygments_lexer": "ipython3",
   "version": "3.6.1"
  },
  "widgets": {
   "state": {
    "9d564caaad174afd811c294e4b1919f9": {
     "views": [
      {
       "cell_index": 12
      }
     ]
    }
   },
   "version": "1.2.0"
  }
 },
 "nbformat": 4,
 "nbformat_minor": 1
}
