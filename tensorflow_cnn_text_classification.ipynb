{
 "cells": [
  {
   "cell_type": "markdown",
   "metadata": {},
   "source": [
    "# Text classification using CNN "
   ]
  },
  {
   "cell_type": "markdown",
   "metadata": {},
   "source": [
    "### Import module"
   ]
  },
  {
   "cell_type": "code",
   "execution_count": 1,
   "metadata": {
    "code_folding": []
   },
   "outputs": [
    {
     "name": "stderr",
     "output_type": "stream",
     "text": [
      "Using TensorFlow backend.\n"
     ]
    }
   ],
   "source": [
    "# modules\n",
    "import os\n",
    "import numpy as np\n",
    "import tensorflow as tf\n",
    "from matplotlib import pyplot as plt\n",
    "from sklearn.model_selection import train_test_split\n",
    "\n",
    "# created own library for dealing with embedding\n",
    "from utils.embedding import Embeddor\n",
    "\n",
    "plt.style.use(\"ggplot\")\n",
    "%matplotlib inline"
   ]
  },
  {
   "cell_type": "markdown",
   "metadata": {},
   "source": [
    "### Load movie reviews data"
   ]
  },
  {
   "cell_type": "code",
   "execution_count": 2,
   "metadata": {
    "code_folding": []
   },
   "outputs": [
    {
     "name": "stdout",
     "output_type": "stream",
     "text": [
      "There is 10662 elements in x\n"
     ]
    }
   ],
   "source": [
    "# loading x and y\n",
    "\n",
    "src = \"./data/rt-polaritydata/\"\n",
    "pos_src = src + \"rt-polarity.pos\"\n",
    "neg_src = src + \"rt-polarity.neg\"\n",
    "\n",
    "with open(pos_src) as f:\n",
    "    pos_txt = f.readlines()\n",
    "    y_pos = [1] * len(pos_txt)\n",
    "\n",
    "with open(neg_src) as f:\n",
    "    neg_txt = f.readlines()\n",
    "    y_neg = [0] * len(neg_txt)\n",
    "    \n",
    "x_total = np.concatenate((pos_txt, neg_txt))\n",
    "y_total = np.concatenate((y_pos, y_neg))\n",
    "n = np.size(x_total)\n",
    "\n",
    "print(\"There is %d elements in x\" % n)"
   ]
  },
  {
   "cell_type": "markdown",
   "metadata": {},
   "source": [
    "### Load embeddings"
   ]
  },
  {
   "cell_type": "code",
   "execution_count": 3,
   "metadata": {},
   "outputs": [
    {
     "name": "stdout",
     "output_type": "stream",
     "text": [
      "Embedding: fasttext.wiki.en.vec\n"
     ]
    },
    {
     "name": "stderr",
     "output_type": "stream",
     "text": [
      "Widget Javascript not detected.  It may not be installed or enabled properly.\n"
     ]
    },
    {
     "data": {
      "application/vnd.jupyter.widget-view+json": {
       "model_id": "82a910bb28c74e7899cf13ba615c6352"
      }
     },
     "metadata": {},
     "output_type": "display_data"
    },
    {
     "name": "stdout",
     "output_type": "stream",
     "text": [
      "\n",
      "Embedding shape: (300001, 300)\n",
      "CPU times: user 27.6 s, sys: 1.88 s, total: 29.5 s\n",
      "Wall time: 27.7 s\n"
     ]
    }
   ],
   "source": [
    "%%time\n",
    "\n",
    "# parameters\n",
    "n_emb = 100000 * 3\n",
    "src = \"./embeddings\"\n",
    "emb_name = os.listdir(src)[-1]\n",
    "print(\"Embedding: %s\" % emb_name)\n",
    "src_emb = os.path.join(src, emb_name)\n",
    "\n",
    "# embeddor\n",
    "embeddor = Embeddor(notebook_display=True)\n",
    "emb_mat = embeddor.load_emb(src_emb, n_emb)\n",
    "print(\"Embedding shape: {}\".format(emb_mat.shape))"
   ]
  },
  {
   "cell_type": "markdown",
   "metadata": {},
   "source": [
    "### CNN builder functions"
   ]
  },
  {
   "cell_type": "code",
   "execution_count": 4,
   "metadata": {
    "collapsed": true
   },
   "outputs": [],
   "source": [
    "# height-wise convolution\n",
    "def apply_conv1d(x, filter_size, stride, out_size, bias=True, wide=True):\n",
    "    if wide:\n",
    "        pad_size = filter_size - 1\n",
    "        paddings = [[0, 0], [pad_size, pad_size], [0, 0], [0, 0]]\n",
    "        x = tf.pad(x, paddings=paddings)\n",
    "    width = x.get_shape().as_list()[2]\n",
    "    filter_shape = [filter_size, width, 1, out_size]\n",
    "    W = tf.Variable(tf.truncated_normal(filter_shape, stddev=0.1), name='W')\n",
    "    conv = tf.nn.conv2d(x, \n",
    "                        W, \n",
    "                        strides=[1, stride, 1, 1], \n",
    "                        padding='VALID',\n",
    "                        data_format='NHWC',\n",
    "                        name='conv1d')\n",
    "    if bias:\n",
    "        b = tf.Variable(tf.constant(0.1, shape=[out_size]), name='b')\n",
    "        conv = tf.nn.bias_add(conv, b)\n",
    "    return conv\n",
    "\n",
    "def apply_one_max_pool1d(x):\n",
    "    height = x.get_shape().as_list()[1]\n",
    "    return tf.nn.max_pool(x,\n",
    "                          ksize=[1, height, 1, 1], \n",
    "                          strides=[1, 1, 1, 1],\n",
    "                          padding='VALID', \n",
    "                          name='one_max_pool')\n",
    "\n",
    "def hstack_channels(x):\n",
    "    shape = x.get_shape().as_list()\n",
    "    height = shape[1]\n",
    "    width = shape[-1]\n",
    "    return tf.reshape(x, \n",
    "                      shape=[-1, height, width, 1], \n",
    "                      name='stack')\n",
    "\n",
    "def apply_max_pool1d(x, window=10, stride=1):\n",
    "    width = x.get_shape().as_list()[2]\n",
    "    return tf.nn.max_pool(x,\n",
    "                          ksize=[1, window, width, 1],\n",
    "                          strides=[1, stride, 1, 1], \n",
    "                          padding='VALID',\n",
    "                          data_format='NHWC',\n",
    "                          name='max_pool')\n",
    "    \n",
    "def apply_flatten(x):\n",
    "    shape = x.get_shape().as_list()\n",
    "    out_size = 1\n",
    "    for dim in shape[1:]:\n",
    "        out_size *= dim\n",
    "    return tf.reshape(x, [-1, out_size], name='flatten')\n",
    "\n",
    "def apply_fully_connected(x, out_size):\n",
    "    in_size = x.get_shape().as_list()[-1]\n",
    "    W = tf.Variable(\n",
    "        tf.truncated_normal(\n",
    "            [in_size, out_size], stddev=0.1 ),\n",
    "        name=\"weights\"\n",
    "    )\n",
    "    b = tf.Variable(tf.constant(0.1, shape=[out_size]), name=\"biases\")\n",
    "    return tf.nn.xw_plus_b(x, W, b, name=\"fully_connected_layer\")"
   ]
  },
  {
   "cell_type": "markdown",
   "metadata": {},
   "source": [
    "### CNN hyper-parameters"
   ]
  },
  {
   "cell_type": "code",
   "execution_count": 5,
   "metadata": {
    "collapsed": true
   },
   "outputs": [],
   "source": [
    "emb_mat = embeddor.emb\n",
    "emb_shape = np.shape(emb_mat)\n",
    "emb_size = emb_shape[1]\n",
    "x_seq = embeddor.to_seq(x_total, padding=True)\n",
    "y_seq = y_total\n",
    "seq_size = embeddor.pad_dim\n",
    "filter_size = 7\n",
    "num_filters = 100\n",
    "num_classes = 2\n",
    "trainable=True"
   ]
  },
  {
   "cell_type": "markdown",
   "metadata": {},
   "source": [
    "### CNN graph architecture"
   ]
  },
  {
   "cell_type": "code",
   "execution_count": 6,
   "metadata": {},
   "outputs": [
    {
     "name": "stdout",
     "output_type": "stream",
     "text": [
      "CPU times: user 154 ms, sys: 2 ms, total: 156 ms\n",
      "Wall time: 155 ms\n"
     ]
    }
   ],
   "source": [
    "%%time\n",
    "# reset graph\n",
    "tf.reset_default_graph()\n",
    "\n",
    "# placeholders\n",
    "x_input = tf.placeholder(tf.int32, shape=[None, seq_size], name='x_input')\n",
    "y_input = tf.placeholder(tf.int64, shape=[None], name='y_input')\n",
    "e_input = tf.placeholder(tf.float32, shape=emb_shape, name='e_input')\n",
    "dropout = tf.placeholder(tf.float32, name='dropout_keep_prob')\n",
    "\n",
    "with tf.device(\"/cpu:0\"):\n",
    "    \n",
    "    with tf.name_scope(\"embedding\"):\n",
    "        E = tf.Variable(tf.constant(0.0, shape=emb_shape), trainable=trainable, name=\"embedding\")\n",
    "        emb_init = E.assign(e_input)\n",
    "        emb_seq = tf.nn.embedding_lookup(E, x_input)\n",
    "        emb_seq_expanded = tf.expand_dims(emb_seq, -1)\n",
    "        \n",
    "    with tf.name_scope(\"conv1\"):\n",
    "        conv = apply_conv1d(emb_seq_expanded, filter_size, 1, 300, bias=True, wide=True)\n",
    "        h = tf.nn.relu(conv, name='relu')\n",
    "        h_pool = apply_one_max_pool1d(h)\n",
    "        h_flat = apply_flatten(h_pool)\n",
    "        \n",
    "    with tf.name_scope(\"dropout1\"):\n",
    "        h_out = tf.nn.dropout(h_flat, dropout)\n",
    "        \n",
    "    with tf.name_scope(\"fc1\"):\n",
    "        scores = apply_fully_connected(h_out, num_classes)\n",
    "        preds = tf.argmax(scores, 1, name='preds')\n",
    "        \n",
    "    with tf.name_scope(\"loss\"):\n",
    "        losses = tf.nn.sparse_softmax_cross_entropy_with_logits(\n",
    "            logits=scores,\n",
    "            labels=y_input,\n",
    "            name='losses')\n",
    "        loss = tf.reduce_mean(losses, name='loss')\n",
    "\n",
    "    with tf.name_scope(\"accuracy\"):\n",
    "        correct_predictions = tf.equal(preds, y_input)\n",
    "        accuracy = tf.reduce_mean(tf.cast(correct_predictions, 'float'), name='accuracy')\n",
    "    \n",
    "    with tf.name_scope(\"optimization\"):\n",
    "        optimizer = tf.train.AdamOptimizer()\n",
    "        train_op = optimizer.minimize(loss)\n",
    "        \n",
    "    init = tf.global_variables_initializer()"
   ]
  },
  {
   "cell_type": "markdown",
   "metadata": {},
   "source": [
    "#### Testing specific layer"
   ]
  },
  {
   "cell_type": "code",
   "execution_count": 7,
   "metadata": {},
   "outputs": [
    {
     "name": "stdout",
     "output_type": "stream",
     "text": [
      "CPU times: user 586 ms, sys: 516 ms, total: 1.1 s\n",
      "Wall time: 861 ms\n"
     ]
    }
   ],
   "source": [
    "%%time\n",
    "with tf.Session() as sess:\n",
    "    sess.run(init)\n",
    "    sess.run(emb_init, feed_dict={e_input: emb_mat})\n",
    "    D = {x_input: x_seq, y_input: y_seq}\n",
    "    out = sess.run(emb_seq, feed_dict=D)"
   ]
  },
  {
   "cell_type": "markdown",
   "metadata": {},
   "source": [
    "### Training CNN"
   ]
  },
  {
   "cell_type": "markdown",
   "metadata": {},
   "source": [
    "#### Emptying tensorflow summaries"
   ]
  },
  {
   "cell_type": "code",
   "execution_count": 8,
   "metadata": {
    "collapsed": true
   },
   "outputs": [],
   "source": [
    "path = \"./tensorflow_summaries\"\n",
    "for file in os.listdir(path):\n",
    "    filepath = os.path.join(path, file)\n",
    "    if os.path.isfile(filepath) and file != \".gitkeep\":\n",
    "        os.remove(filepath)"
   ]
  },
  {
   "cell_type": "markdown",
   "metadata": {},
   "source": [
    "#### Train helper functions"
   ]
  },
  {
   "cell_type": "code",
   "execution_count": 9,
   "metadata": {
    "collapsed": true
   },
   "outputs": [],
   "source": [
    "def get_stat(sess, x, y, \n",
    "             x_input=x_input, y_input=y_input, dropout=dropout):\n",
    "    feed_dict={x_input: x, y_input: y, dropout: 1}\n",
    "    acc, l = sess.run([accuracy, loss], feed_dict=feed_dict)\n",
    "    return acc, l\n",
    "\n",
    "def print_acc_loss(acc_train, loss_train, acc_test, loss_test, epoch=-1):\n",
    "    if  epoch == -1:\n",
    "        log_string = \"init. __    train acc: %0.2f  test acc: %0.2f\" % (acc_train, acc_test)\n",
    "    else:\n",
    "        log_string = \"epoch %2d    train acc: %0.2f  test acc: %0.2f\" % (epoch, acc_train, acc_test)\n",
    "    log_string += \"   loss train: %2.2f  loss test: %2.2f\" % (loss_train, loss_test)\n",
    "    print(log_string)"
   ]
  },
  {
   "cell_type": "markdown",
   "metadata": {},
   "source": [
    "#### Training loop"
   ]
  },
  {
   "cell_type": "code",
   "execution_count": 10,
   "metadata": {
    "collapsed": true
   },
   "outputs": [],
   "source": [
    "batch_size = 64\n",
    "num_epochs = 4\n",
    "p = 0.5\n",
    "seed = 10\n",
    "x_train, x_test, y_train, y_test = train_test_split(x_seq, y_seq, train_size=0.75, random_state=seed)"
   ]
  },
  {
   "cell_type": "code",
   "execution_count": 11,
   "metadata": {},
   "outputs": [
    {
     "name": "stdout",
     "output_type": "stream",
     "text": [
      "init. __    train acc: 0.49  test acc: 0.50   loss train: 0.70  loss test: 0.70\n",
      "epoch  0    train acc: 0.92  test acc: 0.78   loss train: 0.31  loss test: 0.48\n",
      "epoch  1    train acc: 0.98  test acc: 0.80   loss train: 0.11  loss test: 0.42\n",
      "epoch  2    train acc: 1.00  test acc: 0.79   loss train: 0.04  loss test: 0.45\n",
      "epoch  3    train acc: 1.00  test acc: 0.78   loss train: 0.02  loss test: 0.53\n",
      "CPU times: user 23min 47s, sys: 4min 9s, total: 27min 56s\n",
      "Wall time: 1min 57s\n"
     ]
    }
   ],
   "source": [
    "%%time\n",
    "config = tf.ConfigProto(use_per_session_threads=4,\n",
    "                        intra_op_parallelism_threads=4, \n",
    "                        inter_op_parallelism_threads=4, \n",
    "                        allow_soft_placement=True, \n",
    "                        device_count= {'CPU': 1}\n",
    "                       )\n",
    "\n",
    "with tf.Session(config=config) as sess:\n",
    "    # init\n",
    "    sess.run(init)\n",
    "    sess.run(emb_init, feed_dict={e_input: emb_mat})\n",
    "    train_stat = get_stat(sess, x_train, y_train)\n",
    "    test_stat = get_stat(sess, x_test, y_test)\n",
    "    print_acc_loss(*train_stat, *test_stat)\n",
    "    \n",
    "    # batch training\n",
    "    losses = list()\n",
    "    for e in range(num_epochs):\n",
    "        for i in range(x_train.shape[0] // batch_size):\n",
    "            idx = i * batch_size\n",
    "            idxn = min(x_train.shape[0] - 1, (i+1) * batch_size)\n",
    "            batch_xs = x_train[idx: idxn]\n",
    "            batch_xy = y_train[idx: idxn]\n",
    "            feed_train = {x_input: batch_xs, y_input: batch_xy, dropout: p}\n",
    "            __, l = sess.run([train_op, loss], feed_dict=feed_train)\n",
    "            losses.append(l)\n",
    "\n",
    "        train_stat = get_stat(sess, x_train, y_train)\n",
    "        test_stat = get_stat(sess, x_test, y_test)\n",
    "        print_acc_loss(*train_stat, *test_stat, e)\n",
    "        \n",
    "    # monitoring\n",
    "    file_writer = tf.summary.FileWriter('./tensorflow_summaries', sess.graph)"
   ]
  },
  {
   "cell_type": "markdown",
   "metadata": {},
   "source": [
    "#### Training loss"
   ]
  },
  {
   "cell_type": "code",
   "execution_count": 12,
   "metadata": {},
   "outputs": [
    {
     "data": {
      "text/plain": [
       "[<matplotlib.lines.Line2D at 0x7f836a4c6668>]"
      ]
     },
     "execution_count": 12,
     "metadata": {},
     "output_type": "execute_result"
    },
    {
     "data": {
      "image/png": "[encoded data removed]",
      "text/plain": [
       "<matplotlib.figure.Figure at 0x7f836a4c6c88>"
      ]
     },
     "metadata": {},
     "output_type": "display_data"
    }
   ],
   "source": [
    "fig, ax = plt.subplots(figsize=(10, 5))\n",
    "plt.plot(losses)"
   ]
  },
  {
   "cell_type": "code",
   "execution_count": 13,
   "metadata": {},
   "outputs": [
    {
     "data": {
      "text/plain": [
       "[('adore', 0.99999976),\n",
       " ('adored', 0.62502301),\n",
       " ('cherish', 0.55793297),\n",
       " ('adores', 0.55772871),\n",
       " ('love,', 0.55337274),\n",
       " ('love', 0.54610705),\n",
       " ('caress', 0.53535289),\n",
       " ('caresses', 0.53478599),\n",
       " ('adorable', 0.53415084),\n",
       " ('behold', 0.52701122)]"
      ]
     },
     "execution_count": 13,
     "metadata": {},
     "output_type": "execute_result"
    }
   ],
   "source": [
    "embeddor.most_similar(\"adore\")"
   ]
  }
 ],
 "metadata": {
  "anaconda-cloud": {},
  "kernelspec": {
   "display_name": "Python 3",
   "language": "python",
   "name": "python3"
  },
  "language_info": {
   "codemirror_mode": {
    "name": "ipython",
    "version": 3
   },
   "file_extension": ".py",
   "mimetype": "text/x-python",
   "name": "python",
   "nbconvert_exporter": "python",
   "pygments_lexer": "ipython3",
   "version": "3.6.1"
  },
  "widgets": {
   "state": {
    "4726a207e91245b9ab52304fb49a9c81": {
     "views": [
      {
       "cell_index": 6
      }
     ]
    }
   },
   "version": "1.2.0"
  }
 },
 "nbformat": 4,
 "nbformat_minor": 2
}
