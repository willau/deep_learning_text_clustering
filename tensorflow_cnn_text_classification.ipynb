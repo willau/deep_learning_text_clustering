{
 "cells": [
  {
   "cell_type": "markdown",
   "metadata": {},
   "source": [
    "# Text binary classification using CNN "
   ]
  },
  {
   "cell_type": "markdown",
   "metadata": {},
   "source": [
    "### Import module"
   ]
  },
  {
   "cell_type": "code",
   "execution_count": 1,
   "metadata": {
    "code_folding": []
   },
   "outputs": [
    {
     "name": "stderr",
     "output_type": "stream",
     "text": [
      "Using TensorFlow backend.\n"
     ]
    }
   ],
   "source": [
    "# modules\n",
    "import os\n",
    "import numpy as np\n",
    "import tensorflow as tf\n",
    "from matplotlib import pyplot as plt\n",
    "from utils.embedding import Embeddor\n",
    "from sklearn.model_selection import train_test_split\n",
    "\n",
    "plt.style.use(\"ggplot\")\n",
    "%matplotlib inline"
   ]
  },
  {
   "cell_type": "markdown",
   "metadata": {},
   "source": [
    "### Load movie reviews data"
   ]
  },
  {
   "cell_type": "code",
   "execution_count": 2,
   "metadata": {
    "code_folding": []
   },
   "outputs": [
    {
     "name": "stdout",
     "output_type": "stream",
     "text": [
      "There is 10662 elements in x\n"
     ]
    }
   ],
   "source": [
    "# loading x and y\n",
    "\n",
    "src = \"./data/rt-polaritydata/\"\n",
    "pos_src = src + \"rt-polarity.pos\"\n",
    "neg_src = src + \"rt-polarity.neg\"\n",
    "\n",
    "with open(pos_src) as f:\n",
    "    pos_txt = f.readlines()\n",
    "    y_pos = [1] * len(pos_txt)\n",
    "\n",
    "with open(neg_src) as f:\n",
    "    neg_txt = f.readlines()\n",
    "    y_neg = [0] * len(neg_txt)\n",
    "    \n",
    "x_total = np.concatenate((pos_txt, neg_txt))\n",
    "y_total = np.concatenate((y_pos, y_neg))\n",
    "n = np.size(x_total)\n",
    "\n",
    "print(\"There is %d elements in x\" % n)"
   ]
  },
  {
   "cell_type": "markdown",
   "metadata": {},
   "source": [
    "### Load embeddings"
   ]
  },
  {
   "cell_type": "code",
   "execution_count": 3,
   "metadata": {},
   "outputs": [
    {
     "name": "stdout",
     "output_type": "stream",
     "text": [
      "Embedding: fasttext.wiki.en.vec\n"
     ]
    },
    {
     "name": "stderr",
     "output_type": "stream",
     "text": [
      "Widget Javascript not detected.  It may not be installed or enabled properly.\n"
     ]
    },
    {
     "data": {
      "application/vnd.jupyter.widget-view+json": {
       "model_id": "5f0bb563589e498f9e3cf871ff63cd59"
      }
     },
     "metadata": {},
     "output_type": "display_data"
    },
    {
     "name": "stdout",
     "output_type": "stream",
     "text": [
      "\n",
      "Embedding shape: (100001, 300)\n",
      "CPU times: user 9.26 s, sys: 653 ms, total: 9.91 s\n",
      "Wall time: 9.31 s\n"
     ]
    }
   ],
   "source": [
    "%%time\n",
    "\n",
    "# parameters\n",
    "n_emb = 100000\n",
    "src = \"./embeddings\"\n",
    "emb_name = os.listdir(src)[-1]\n",
    "print(\"Embedding: %s\" % emb_name)\n",
    "src_emb = os.path.join(src, emb_name)\n",
    "\n",
    "# embeddor\n",
    "embeddor = Embeddor(notebook_display=True)\n",
    "emb_mat = embeddor.load_emb(src_emb, n_emb)\n",
    "print(\"Embedding shape: {}\".format(emb_mat.shape))"
   ]
  },
  {
   "cell_type": "markdown",
   "metadata": {},
   "source": [
    "### CNN hyper-parameters"
   ]
  },
  {
   "cell_type": "code",
   "execution_count": 5,
   "metadata": {
    "collapsed": true
   },
   "outputs": [],
   "source": [
    "emb_mat = embeddor.emb\n",
    "emb_shape = np.shape(emb_mat)\n",
    "emb_size = emb_shape[1]\n",
    "x_seq = embeddor.to_seq(x, padding=True)\n",
    "y_seq = y\n",
    "seq_size = embeddor.pad_dim\n",
    "filter_size = 6\n",
    "num_filters = 100\n",
    "num_classes = 2"
   ]
  },
  {
   "cell_type": "markdown",
   "metadata": {},
   "source": [
    "### CNN graph architecture"
   ]
  },
  {
   "cell_type": "code",
   "execution_count": 6,
   "metadata": {},
   "outputs": [
    {
     "name": "stdout",
     "output_type": "stream",
     "text": [
      "CPU times: user 119 ms, sys: 0 ns, total: 119 ms\n",
      "Wall time: 117 ms\n"
     ]
    }
   ],
   "source": [
    "%%time\n",
    "# placeholders\n",
    "x_input = tf.placeholder(tf.int32, shape=[None, None], name='x_input')\n",
    "y_input = tf.placeholder(tf.int64, shape=[None], name='y_input')\n",
    "e_input = tf.placeholder(tf.float32, shape=emb_shape, name='e_input')\n",
    "dropout = tf.placeholder(tf.float32, name=\"dropout_keep_prob\")\n",
    "\n",
    "with tf.device(\"/cpu:0\"):\n",
    "    \n",
    "    with tf.name_scope(\"embedding\"):\n",
    "        E = tf.Variable(tf.constant(0.0, shape=emb_shape), trainable=False, name=\"E\")\n",
    "        emb_init = E.assign(e_input)\n",
    "        emb_seq = tf.nn.embedding_lookup(E, x_input)\n",
    "        emb_seq_expanded = tf.expand_dims(emb_seq, -1)\n",
    "    \n",
    "    with tf.name_scope(\"convolution\"):\n",
    "        # convolution\n",
    "        filter_shape = [filter_size, emb_size, 1, num_filters]\n",
    "        W = tf.Variable(tf.truncated_normal(filter_shape, stddev=0.1), name='W')\n",
    "        b = tf.Variable(tf.constant(0.1, shape=[num_filters]), name='b')\n",
    "        conv = tf.nn.conv2d(emb_seq_expanded,\n",
    "                            W, \n",
    "                            strides=[1, 1, 1, 1],\n",
    "                            padding='VALID',\n",
    "                            name='conv')\n",
    "        # non-linearity\n",
    "        h = tf.nn.tanh(tf.nn.bias_add(conv, b), name='tanh')\n",
    "        # k-max\n",
    "        h_pool = tf.nn.max_pool(h,\n",
    "                                ksize=[1, seq_size - filter_size + 1, 1, 1],\n",
    "                                strides=[1, 1, 1, 1],\n",
    "                                padding='VALID',\n",
    "                                name='pool')\n",
    "        h_pool_flat = tf.reshape(h_pool, [-1, num_filters])\n",
    "    \n",
    "    with tf.name_scope(\"dropout\"):\n",
    "        h_o = tf.nn.dropout(h_pool_flat, dropout)\n",
    "        \n",
    "    with tf.name_scope(\"output\"):\n",
    "        W_o = tf.Variable(tf.truncated_normal([num_filters, num_classes], stddev=0.1), name='W_o')\n",
    "        b_o = tf.Variable(tf.constant(0.1, shape=[num_classes]), name='b_o')\n",
    "        scores = tf.nn.xw_plus_b(h_o, W_o, b_o, name='scores')\n",
    "        preds = tf.argmax(scores, 1, name='preds')\n",
    "        \n",
    "    with tf.name_scope(\"loss\"):\n",
    "        losses = tf.nn.sparse_softmax_cross_entropy_with_logits(\n",
    "            logits=scores,\n",
    "            labels=y_input,\n",
    "            name='losses')\n",
    "        loss = tf.reduce_mean(losses, name='loss')\n",
    "\n",
    "    with tf.name_scope(\"accuracy\"):\n",
    "        correct_predictions = tf.equal(preds, y_input)\n",
    "        accuracy = tf.reduce_mean(tf.cast(correct_predictions, 'float'), name='accuracy')\n",
    "    \n",
    "    with tf.name_scope(\"optimization\"):\n",
    "        optimizer = tf.train.AdamOptimizer(1e-3)\n",
    "        train_op = optimizer.minimize(loss)\n",
    "        \n",
    "    init = tf.global_variables_initializer()"
   ]
  },
  {
   "cell_type": "markdown",
   "metadata": {},
   "source": [
    "#### Testing specific layer"
   ]
  },
  {
   "cell_type": "code",
   "execution_count": 7,
   "metadata": {},
   "outputs": [
    {
     "name": "stdout",
     "output_type": "stream",
     "text": [
      "CPU times: user 270 ms, sys: 261 ms, total: 531 ms\n",
      "Wall time: 515 ms\n"
     ]
    }
   ],
   "source": [
    "%%time\n",
    "with tf.Session() as sess:\n",
    "    sess.run(init)\n",
    "    sess.run(emb_init, feed_dict={e_input: emb_mat})\n",
    "    D = {x_input: x_seq, y_input: y_seq}\n",
    "    out = sess.run(emb_seq, feed_dict=D)"
   ]
  },
  {
   "cell_type": "markdown",
   "metadata": {},
   "source": [
    "### Training CNN"
   ]
  },
  {
   "cell_type": "markdown",
   "metadata": {},
   "source": [
    "#### Emptying tensorflow summaries"
   ]
  },
  {
   "cell_type": "code",
   "execution_count": 8,
   "metadata": {},
   "outputs": [],
   "source": [
    "path = \"./tensorflow_summaries\"\n",
    "for file in os.listdir(path):\n",
    "    filepath = os.path.join(path, file)\n",
    "    if os.path.isfile(filepath) and file != \".gitkeep\":\n",
    "        os.remove(filepath)"
   ]
  },
  {
   "cell_type": "markdown",
   "metadata": {},
   "source": [
    "#### Parameters"
   ]
  },
  {
   "cell_type": "code",
   "execution_count": 9,
   "metadata": {
    "collapsed": true
   },
   "outputs": [],
   "source": [
    "batch_size = 64\n",
    "num_epochs = 10\n",
    "p = 0.5\n",
    "x_train, x_test, y_train, y_test = train_test_split(x_seq, y_seq, train_size=0.75, random_state=0)"
   ]
  },
  {
   "cell_type": "markdown",
   "metadata": {},
   "source": [
    "#### Training loop"
   ]
  },
  {
   "cell_type": "code",
   "execution_count": 10,
   "metadata": {},
   "outputs": [
    {
     "name": "stdout",
     "output_type": "stream",
     "text": [
      "init.: _ train acc: 0.51 test acc: 0.50\n",
      "epoch: 0 train acc: 0.67 test acc: 0.69\n",
      "epoch: 1 train acc: 0.74 test acc: 0.74\n",
      "epoch: 2 train acc: 0.79 test acc: 0.75\n",
      "epoch: 3 train acc: 0.82 test acc: 0.75\n",
      "epoch: 4 train acc: 0.85 test acc: 0.76\n",
      "epoch: 5 train acc: 0.86 test acc: 0.76\n",
      "epoch: 6 train acc: 0.89 test acc: 0.75\n",
      "epoch: 7 train acc: 0.92 test acc: 0.76\n",
      "epoch: 8 train acc: 0.93 test acc: 0.76\n",
      "epoch: 9 train acc: 0.95 test acc: 0.76\n",
      "CPU times: user 9min 26s, sys: 1min 23s, total: 10min 49s\n",
      "Wall time: 1min 3s\n"
     ]
    }
   ],
   "source": [
    "%%time\n",
    "with tf.Session() as sess:\n",
    "    # initialization of all variables\n",
    "    sess.run(init)\n",
    "    sess.run(emb_init, feed_dict={e_input: emb_mat})\n",
    "    acc_train = sess.run(accuracy, feed_dict={x_input: x_train, y_input: y_train, dropout: 1})\n",
    "    acc_test = sess.run(accuracy, feed_dict={x_input: x_test, y_input: y_test, dropout: 1})\n",
    "    print(\"init.: _ train acc: %0.2f test acc: %0.2f\" %  (acc_train, acc_test))\n",
    "    \n",
    "    # perform operation\n",
    "    losses = []\n",
    "    for e in range(num_epochs):\n",
    "        for i in range(x_train.shape[0] // batch_size):\n",
    "            # idx batches\n",
    "            idx = i * batch_size\n",
    "            idxn = min(x_train.shape[0] - 1, (i+1) * batch_size)\n",
    "            # batches\n",
    "            batch_xs = x_train[idx: idxn]\n",
    "            batch_xy = y_train[idx: idxn]\n",
    "            \n",
    "            # run train operator\n",
    "            feed_train = {x_input: batch_xs, y_input: batch_xy, dropout: p}\n",
    "            __, l = sess.run([train_op, loss], feed_dict=feed_train)\n",
    "            losses.append(l)\n",
    "\n",
    "        # for each epoch, run accuracy on train and test\n",
    "        acc_train = sess.run(accuracy, feed_dict={x_input: x_train, y_input: y_train, dropout: p})\n",
    "        acc_test = sess.run(accuracy, feed_dict={x_input: x_test, y_input: y_test, dropout: 1})\n",
    "        print(\"epoch: %d train acc: %0.2f test acc: %0.2f\" %  (e, acc_train, acc_test))\n",
    "        \n",
    "    # monitoring\n",
    "    file_writer = tf.summary.FileWriter('./tensorflow_summaries', sess.graph)"
   ]
  },
  {
   "cell_type": "markdown",
   "metadata": {},
   "source": [
    "#### Training loss"
   ]
  },
  {
   "cell_type": "code",
   "execution_count": 11,
   "metadata": {},
   "outputs": [
    {
     "data": {
      "text/plain": [
       "[<matplotlib.lines.Line2D at 0x7f617e6e32b0>]"
      ]
     },
     "execution_count": 11,
     "metadata": {},
     "output_type": "execute_result"
    },
    {
     "data": {
      "image/png": "[encoded data removed]",
      "text/plain": [
       "<matplotlib.figure.Figure at 0x7f617e6e3630>"
      ]
     },
     "metadata": {},
     "output_type": "display_data"
    }
   ],
   "source": [
    "fig, ax = plt.subplots(figsize=(10, 5))\n",
    "plt.plot(losses)"
   ]
  },
  {
   "cell_type": "code",
   "execution_count": 12,
   "metadata": {},
   "outputs": [
    {
     "data": {
      "text/plain": [
       "[('france', 0.99999976),\n",
       " ('franche', 0.65986818),\n",
       " ('italy', 0.65398681),\n",
       " ('languedoc', 0.64216447),\n",
       " ('provence', 0.63572669),\n",
       " ('belgium', 0.63431036),\n",
       " ('alsace', 0.63328314),\n",
       " ('spain', 0.62924433),\n",
       " ('french', 0.62637675),\n",
       " ('auvergne', 0.62577283)]"
      ]
     },
     "execution_count": 12,
     "metadata": {},
     "output_type": "execute_result"
    }
   ],
   "source": [
    "embeddor.most_similar(\"france\")"
   ]
  }
 ],
 "metadata": {
  "anaconda-cloud": {},
  "kernelspec": {
   "display_name": "Python 3",
   "language": "python",
   "name": "python3"
  },
  "language_info": {
   "codemirror_mode": {
    "name": "ipython",
    "version": 3
   },
   "file_extension": ".py",
   "mimetype": "text/x-python",
   "name": "python",
   "nbconvert_exporter": "python",
   "pygments_lexer": "ipython3",
   "version": "3.6.1"
  },
  "widgets": {
   "state": {
    "4726a207e91245b9ab52304fb49a9c81": {
     "views": [
      {
       "cell_index": 6
      }
     ]
    }
   },
   "version": "1.2.0"
  }
 },
 "nbformat": 4,
 "nbformat_minor": 2
}
