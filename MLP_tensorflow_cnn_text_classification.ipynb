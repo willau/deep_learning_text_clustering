{
 "cells": [
  {
   "cell_type": "code",
   "execution_count": 1,
   "metadata": {
    "collapsed": true
   },
   "outputs": [],
   "source": [
    "%load_ext autoreload\n",
    "%autoreload 2"
   ]
  },
  {
   "cell_type": "markdown",
   "metadata": {},
   "source": [
    "# CNN in TensorFlow"
   ]
  },
  {
   "cell_type": "markdown",
   "metadata": {},
   "source": [
    "## Import module"
   ]
  },
  {
   "cell_type": "code",
   "execution_count": 2,
   "metadata": {
    "code_folding": []
   },
   "outputs": [
    {
     "name": "stderr",
     "output_type": "stream",
     "text": [
      "Using TensorFlow backend.\n"
     ]
    }
   ],
   "source": [
    "# modules\n",
    "import os\n",
    "import numpy as np\n",
    "import tensorflow as tf\n",
    "from matplotlib import pyplot as plt\n",
    "from textminer.embedding import Embeddor\n",
    "from sklearn.model_selection import train_test_split\n",
    "%matplotlib inline"
   ]
  },
  {
   "cell_type": "markdown",
   "metadata": {},
   "source": [
    "## Loading movie reviews data"
   ]
  },
  {
   "cell_type": "code",
   "execution_count": 3,
   "metadata": {
    "code_folding": []
   },
   "outputs": [
    {
     "name": "stdout",
     "output_type": "stream",
     "text": [
      "There is 10662 elements in x\n"
     ]
    }
   ],
   "source": [
    "# loading x and y\n",
    "\n",
    "src = \"../../02_DATA/03_movie_review/rt-polaritydata/\"\n",
    "pos_src = src + \"rt-polarity.pos\"\n",
    "neg_src = src + \"rt-polarity.neg\"\n",
    "\n",
    "with open(pos_src) as f:\n",
    "    pos_txt = f.readlines()\n",
    "    y_pos = [1] * len(pos_txt)\n",
    "\n",
    "with open(neg_src) as f:\n",
    "    neg_txt = f.readlines()\n",
    "    y_neg = [0] * len(neg_txt)\n",
    "    \n",
    "x_total = np.concatenate((pos_txt, neg_txt))\n",
    "y_total = np.concatenate((y_pos, y_neg))\n",
    "n = np.size(x_total)\n",
    "\n",
    "print(\"There is %d elements in x\" % n)"
   ]
  },
  {
   "cell_type": "markdown",
   "metadata": {},
   "source": [
    "## Loading embedding"
   ]
  },
  {
   "cell_type": "code",
   "execution_count": 4,
   "metadata": {},
   "outputs": [
    {
     "data": {
      "application/vnd.jupyter.widget-view+json": {
       "model_id": "21d24354177e43aa842817402b6674f5"
      }
     },
     "metadata": {},
     "output_type": "display_data"
    },
    {
     "name": "stdout",
     "output_type": "stream",
     "text": [
      "\n",
      "Embedding shape: (100001, 300)\n",
      "Wall time: 11.2 s\n"
     ]
    }
   ],
   "source": [
    "%%time\n",
    "\n",
    "# parameters\n",
    "n_emb = 100000\n",
    "src_emb = \"../../01_WORD_EMBEDDING/fasttext.wiki.en.vec\"\n",
    "\n",
    "# embeddor\n",
    "embeddor = Embeddor(notebook_display=True)\n",
    "emb_mat = embeddor.load_emb(src_emb, n_emb)\n",
    "print(\"Embedding shape: {}\".format(emb_mat.shape))"
   ]
  },
  {
   "cell_type": "markdown",
   "metadata": {},
   "source": [
    "## Sampling data"
   ]
  },
  {
   "cell_type": "code",
   "execution_count": 5,
   "metadata": {},
   "outputs": [
    {
     "name": "stdout",
     "output_type": "stream",
     "text": [
      "Use all data\n"
     ]
    }
   ],
   "source": [
    "# to take away\n",
    "\n",
    "sampling = False\n",
    "\n",
    "if sampling:\n",
    "    n = np.size(x_total)\n",
    "    n_samples = 3000\n",
    "    print(\"Percentage of data used: %0.1f%%\" % (100*n_samples/n))\n",
    "    idx_samples = np.random.randint(0, n, size=n_samples)\n",
    "    x = x_total[idx_samples]\n",
    "    y = y_total[idx_samples]\n",
    "else:\n",
    "    x = x_total\n",
    "    y = y_total\n",
    "    print(\"Use all data\")"
   ]
  },
  {
   "cell_type": "markdown",
   "metadata": {},
   "source": [
    "## CNN parameters"
   ]
  },
  {
   "cell_type": "code",
   "execution_count": 6,
   "metadata": {
    "collapsed": true
   },
   "outputs": [],
   "source": [
    "# input\n",
    "emb_mat = embeddor.emb\n",
    "emb_shape = np.shape(emb_mat)\n",
    "emb_size = emb_shape[1]\n",
    "x_seq = embeddor.to_seq(x, padding=True)\n",
    "y_seq = y\n",
    "seq_size = embeddor.pad_dim\n",
    "filter_size = 6\n",
    "num_filters = 100\n",
    "num_classes = 2"
   ]
  },
  {
   "cell_type": "markdown",
   "metadata": {},
   "source": [
    "## Defining graph structure"
   ]
  },
  {
   "cell_type": "code",
   "execution_count": 7,
   "metadata": {},
   "outputs": [
    {
     "name": "stdout",
     "output_type": "stream",
     "text": [
      "Wall time: 203 ms\n"
     ]
    }
   ],
   "source": [
    "%%time\n",
    "\n",
    "# placeholders\n",
    "x_input = tf.placeholder(tf.int32, shape=[None, None], name='x_input')\n",
    "y_input = tf.placeholder(tf.int64, shape=[None], name='y_input')\n",
    "e_input = tf.placeholder(tf.float32, shape=emb_shape, name='e_input')\n",
    "dropout = tf.placeholder(tf.float32, name=\"dropout_keep_prob\")\n",
    "\n",
    "with tf.device(\"/cpu:0\"):\n",
    "    \n",
    "    # embedding initialization\n",
    "    with tf.name_scope(\"embedding\"):\n",
    "        E = tf.Variable(tf.constant(0.0, shape=emb_shape), trainable=False, name=\"E\")\n",
    "        emb_init = E.assign(e_input)\n",
    "        emb_seq = tf.nn.embedding_lookup(E, x_input)\n",
    "        emb_seq_expanded = tf.expand_dims(emb_seq, -1)\n",
    "    \n",
    "    # convolution layer\n",
    "    with tf.name_scope(\"convolution\"):\n",
    "        # convolution\n",
    "        filter_shape = [filter_size, emb_size, 1, num_filters]\n",
    "        W = tf.Variable(tf.truncated_normal(filter_shape, stddev=0.1), name='W')\n",
    "        b = tf.Variable(tf.constant(0.1, shape=[num_filters]), name='b')\n",
    "        conv = tf.nn.conv2d(emb_seq_expanded,\n",
    "                            W, \n",
    "                            strides=[1, 1, 1, 1],\n",
    "                            padding='VALID',\n",
    "                            name='conv')\n",
    "        # non-linearity\n",
    "        h = tf.nn.tanh(tf.nn.bias_add(conv, b), name='tanh')\n",
    "        # k-max\n",
    "        h_pool = tf.nn.max_pool(h,\n",
    "                                ksize=[1, seq_size - filter_size + 1, 1, 1],\n",
    "                                strides=[1, 1, 1, 1],\n",
    "                                padding='VALID',\n",
    "                                name='pool')\n",
    "        h_pool_flat = tf.reshape(h_pool, [-1, num_filters])\n",
    "    \n",
    "    # dropout\n",
    "    with tf.name_scope(\"dropout\"):\n",
    "        h_o = tf.nn.dropout(h_pool_flat, dropout)\n",
    "        \n",
    "    # output\n",
    "    with tf.name_scope(\"output\"):\n",
    "        W_o = tf.Variable(tf.truncated_normal([num_filters, num_classes], stddev=0.1), name='W_o')\n",
    "        b_o = tf.Variable(tf.constant(0.1, shape=[num_classes]), name='b_o')\n",
    "        scores = tf.nn.xw_plus_b(h_o, W_o, b_o, name='scores')\n",
    "        preds = tf.argmax(scores, 1, name='preds')\n",
    "        \n",
    "    # calculate mean cross-entropy loss\n",
    "    with tf.name_scope(\"loss\"):\n",
    "        losses = tf.nn.sparse_softmax_cross_entropy_with_logits(\n",
    "            logits=scores,\n",
    "            labels=y_input,\n",
    "            name='losses')\n",
    "        loss = tf.reduce_mean(losses, name='loss')\n",
    "\n",
    "    # accuracy\n",
    "    with tf.name_scope(\"accuracy\"):\n",
    "        correct_predictions = tf.equal(preds, y_input)\n",
    "        accuracy = tf.reduce_mean(tf.cast(correct_predictions, 'float'), name='accuracy')\n",
    "    \n",
    "    # optimization\n",
    "    with tf.name_scope(\"optimization\"):\n",
    "        optimizer = tf.train.AdamOptimizer(1e-3)\n",
    "        train_op = optimizer.minimize(loss)\n",
    "        \n",
    "    init = tf.global_variables_initializer()"
   ]
  },
  {
   "cell_type": "code",
   "execution_count": 8,
   "metadata": {},
   "outputs": [
    {
     "name": "stdout",
     "output_type": "stream",
     "text": [
      "Wall time: 978 ms\n"
     ]
    }
   ],
   "source": [
    "%%time\n",
    "with tf.Session() as sess:\n",
    "    sess.run(init)\n",
    "    sess.run(emb_init, feed_dict={e_input: emb_mat})\n",
    "    D = {x_input: x_seq, y_input: y_seq}\n",
    "    out = sess.run(emb_seq, feed_dict=D)"
   ]
  },
  {
   "cell_type": "code",
   "execution_count": 9,
   "metadata": {
    "collapsed": true
   },
   "outputs": [],
   "source": [
    "batch_size = 32\n",
    "num_epochs = 10\n",
    "p = 1\n",
    "x_train, x_test, y_train, y_test = train_test_split(x_seq, y_seq, train_size=0.75, random_state=0)"
   ]
  },
  {
   "cell_type": "code",
   "execution_count": 10,
   "metadata": {},
   "outputs": [
    {
     "name": "stdout",
     "output_type": "stream",
     "text": [
      "epoch: 0 train acc: 0.78 test acc: 0.73\n",
      "epoch: 1 train acc: 0.85 test acc: 0.76\n",
      "epoch: 2 train acc: 0.91 test acc: 0.77\n",
      "epoch: 3 train acc: 0.95 test acc: 0.77\n",
      "epoch: 4 train acc: 0.98 test acc: 0.77\n",
      "epoch: 5 train acc: 0.99 test acc: 0.77\n",
      "epoch: 6 train acc: 1.00 test acc: 0.77\n",
      "epoch: 7 train acc: 1.00 test acc: 0.76\n",
      "epoch: 8 train acc: 1.00 test acc: 0.76\n",
      "epoch: 9 train acc: 0.99 test acc: 0.75\n",
      "Wall time: 4min 53s\n"
     ]
    }
   ],
   "source": [
    "%%time\n",
    "with tf.Session() as sess:\n",
    "    # initialization of all variables\n",
    "    sess.run(init)\n",
    "    sess.run(emb_init, feed_dict={e_input: emb_mat})\n",
    "    \n",
    "    # perform operation\n",
    "    losses = []\n",
    "    for e in range(num_epochs):\n",
    "        for i in range(x_train.shape[0] // batch_size):\n",
    "            # idx batches\n",
    "            idx = i * batch_size\n",
    "            idxn = min(x_train.shape[0] - 1, (i+1) * batch_size)\n",
    "            # batches\n",
    "            batch_xs = x_train[idx: idxn]\n",
    "            batch_xy = y_train[idx: idxn]\n",
    "            \n",
    "            # run train operator\n",
    "            feed_train ={x_input: batch_xs, y_input: batch_xy, dropout: p}\n",
    "            _, l = sess.run([train_op, loss], feed_dict=feed_train)\n",
    "            losses.append(l)\n",
    "\n",
    "        # for each epoch, run accuracy on train and test\n",
    "        acc_train = sess.run(accuracy, feed_dict={x_input: x_train, y_input: y_train, dropout: 1})\n",
    "        acc_test = sess.run(accuracy, feed_dict={x_input: x_test, y_input: y_test, dropout: 1})\n",
    "        print(\"epoch: %d train acc: %0.2f test acc: %0.2f\" %  (e, acc_train, acc_test))\n",
    "        \n",
    "    # monitoring\n",
    "    file_writer = tf.summary.FileWriter('./tensorflow_summaries', sess.graph)"
   ]
  },
  {
   "cell_type": "code",
   "execution_count": 11,
   "metadata": {},
   "outputs": [
    {
     "data": {
      "text/plain": [
       "[<matplotlib.lines.Line2D at 0xc00db38>]"
      ]
     },
     "execution_count": 11,
     "metadata": {},
     "output_type": "execute_result"
    },
    {
     "data": {
      "image/png": "[encoded data removed]",
      "text/plain": [
       "<matplotlib.figure.Figure at 0xc201e48>"
      ]
     },
     "metadata": {},
     "output_type": "display_data"
    }
   ],
   "source": [
    "plt.plot(losses)"
   ]
  },
  {
   "cell_type": "code",
   "execution_count": 12,
   "metadata": {},
   "outputs": [
    {
     "data": {
      "text/plain": [
       "[('you', 0.99999952),\n",
       " ('yourself', 0.81855571),\n",
       " ('your', 0.78942794),\n",
       " ('we', 0.77363455),\n",
       " ('want', 0.7607674),\n",
       " ('somebody', 0.75014383),\n",
       " ('know', 0.74101084),\n",
       " ('honestly', 0.72648555),\n",
       " ('myself', 0.72524768),\n",
       " ('#you', 0.72140479)]"
      ]
     },
     "execution_count": 12,
     "metadata": {},
     "output_type": "execute_result"
    }
   ],
   "source": [
    "embeddor.most_similar(\"you\")"
   ]
  },
  {
   "cell_type": "markdown",
   "metadata": {},
   "source": [
    "# Retrieve every embedding possible"
   ]
  },
  {
   "cell_type": "code",
   "execution_count": 13,
   "metadata": {
    "collapsed": true
   },
   "outputs": [],
   "source": [
    "from tqdm import tqdm, tqdm_notebook\n",
    "from textminer.embedding import get_sorted_voc"
   ]
  },
  {
   "cell_type": "code",
   "execution_count": 14,
   "metadata": {},
   "outputs": [
    {
     "name": "stdout",
     "output_type": "stream",
     "text": [
      "vocabulary is composed of 18404 words\n"
     ]
    }
   ],
   "source": [
    "voc = get_sorted_voc(x)\n",
    "print(\"vocabulary is composed of %d words\" % len(voc))"
   ]
  },
  {
   "cell_type": "code",
   "execution_count": 15,
   "metadata": {},
   "outputs": [
    {
     "data": {
      "application/vnd.jupyter.widget-view+json": {
       "model_id": "f87866e061ef450985bc0ad9b989edf6"
      }
     },
     "metadata": {},
     "output_type": "display_data"
    },
    {
     "name": "stdout",
     "output_type": "stream",
     "text": [
      "\n"
     ]
    }
   ],
   "source": [
    "# get whole vocabulary\n",
    "complete_list = list()\n",
    "with open(src_emb, 'rb') as f:\n",
    "    n_global, dim = map(int, f.readline().split())\n",
    "    for idx in tqdm_notebook(range(n_global)):\n",
    "        raw = f.readline().decode('utf-8').rstrip(' \\n')\n",
    "        line = raw.split(' ')\n",
    "        word = line[0]\n",
    "        complete_list.append(word)"
   ]
  }
 ],
 "metadata": {
  "kernelspec": {
   "display_name": "Python 3",
   "language": "python",
   "name": "python3"
  },
  "language_info": {
   "codemirror_mode": {
    "name": "ipython",
    "version": 3
   },
   "file_extension": ".py",
   "mimetype": "text/x-python",
   "name": "python",
   "nbconvert_exporter": "python",
   "pygments_lexer": "ipython3",
   "version": "3.5.2"
  },
  "widgets": {
   "state": {
    "8bf3fb4b6bac4add9874c6dede429139": {
     "views": [
      {
       "cell_index": 7
      }
     ]
    }
   },
   "version": "1.2.0"
  }
 },
 "nbformat": 4,
 "nbformat_minor": 2
}
